{
 "cells": [
  {
   "cell_type": "markdown",
   "metadata": {},
   "source": [
    "# <center>Chat messages and matchmaking</center>"
   ]
  },
  {
   "cell_type": "markdown",
   "metadata": {},
   "source": [
    "## <center>Finding the perfect match using text classification on my own message history</center>"
   ]
  },
  {
   "cell_type": "markdown",
   "metadata": {},
   "source": [
    "### <center>Pavel Bogdanov - Software University</center>"
   ]
  },
  {
   "cell_type": "markdown",
   "metadata": {},
   "source": [
    "### Abstract\n",
    "\n",
    "We explore the messages from Facebook's \"Download your data\" section and try to find useful information for text classification. We extract all the links, emoticons, emojis and we separate words into three different categories - English, Bulgarian, and Bulgarian written in latin. All words are checked for validity in a wordlist and processed by transliterating, stemming and stopwords elimination. Multinomial naive bayes is used for classifying messages by sender name and deliberately missclassificating my own messages as another sender."
   ]
  },
  {
   "cell_type": "markdown",
   "metadata": {},
   "source": [
    "### 1 Introduction\n",
    "\n",
    "Have you ever wondered what kind of information does Facebook have on you? What kind of amazing data science they could be making? Wonder no more! Facebook gives us the option to download all of our data into the machine-friendly JSON format. This is done by going to your Settings -> Your Facebook Information -> Download Your Information. Once there, you can select the type of information you want, the period for which you want it and if you prefer you can select HTML as a format for the files. We will select only the \"messages\" checkbox but unfortinately we can't not download the media files as well, so we will select the Media Quality to \"Low\". Be aware that after we send our request to Facebook it might take sveral hours untill we receive a link to download the data, especially if you selected ALL of your data. My original \"messages\" folder was 4,48 GB but by deleting all the pictures/videos/audio files and leaving only the JSONs I was left with a total size of 101 MB. Of course, I also anonymized all of the names so I can show you my results, but other than that, this notebook should work with eny other person's data. So if you want to learn more about yourself or your friends, give it a go.\n",
    "\n",
    "What is our main objective here? Well, we want to find who is our best match. What does that mean? It can mean a lot of things. Our best match can be someone who's writing style most closely resembles ours. Or it can be just the person we've texted with the most. Or it can be someone with whom we exchange a lot of emojis. We will explore all of the available options and the result can be something we expect, like our best friend or our romantc partner, or it can be someone with whom we didn't realise we shared so much in common. Let's find out."
   ]
  },
  {
   "cell_type": "markdown",
   "metadata": {},
   "source": [
    "### 2 Loading dependencies"
   ]
  },
  {
   "cell_type": "code",
   "execution_count": 1,
   "metadata": {},
   "outputs": [],
   "source": [
    "ME = \"Алексиа Таралингова\"\n",
    "# Change value to your own name if you want to try it out!\n",
    "\n",
    "# Or use this if you're messing with the the anonymizator:\n",
    "# >>> fake.seed(42)\n",
    "# >>> ME = fake.name()"
   ]
  },
  {
   "cell_type": "code",
   "execution_count": 2,
   "metadata": {},
   "outputs": [],
   "source": [
    "%matplotlib inline"
   ]
  },
  {
   "cell_type": "code",
   "execution_count": 3,
   "metadata": {},
   "outputs": [],
   "source": [
    "import numpy as np\n",
    "import pandas as pd\n",
    "import matplotlib.pyplot as plt\n",
    "import matplotlib.patches as mpatches\n",
    "import json\n",
    "import glob\n",
    "import re\n",
    "from urllib.parse import urlparse\n",
    "from collections import Counter\n",
    "from functools import partial\n",
    "from IPython.display import Audio\n",
    "\n",
    "from nltk.tokenize import word_tokenize\n",
    "from nltk.corpus import stopwords\n",
    "from nltk.stem import PorterStemmer\n",
    "import transliterate\n",
    "from transliterate.contrib.languages.bg.translit_language_pack import BulgarianLanguagePack\n",
    "from emoji import UNICODE_EMOJI\n",
    "from wordcloud import WordCloud\n",
    "\n",
    "from sklearn import model_selection\n",
    "from sklearn.metrics import classification_report\n",
    "from sklearn.preprocessing import normalize\n",
    "from sklearn.feature_extraction.text import TfidfVectorizer\n",
    "from sklearn.naive_bayes import MultinomialNB\n",
    "\n",
    "from bulstem import stem, MIN_WORD_LEN"
   ]
  },
  {
   "cell_type": "markdown",
   "metadata": {},
   "source": [
    "### 3 Data acquisition\n",
    "\n",
    "Pros of Facebook's data: It's not in HTML format.\n",
    "\n",
    "Cons: Badly encoded, unnecessary media files, puts all the messages in different folders.\n",
    "\n",
    "Let's write a function that reads a JSON file and converts it to a pandas dataframe."
   ]
  },
  {
   "cell_type": "code",
   "execution_count": 4,
   "metadata": {},
   "outputs": [],
   "source": [
    "def json_to_df(filepath, friend_name=True):\n",
    "    \"\"\"\n",
    "    Reads facebook messenger's JSON file and returns a pandas Dataframe.\n",
    "    \n",
    "    Doesn't return a dataframe if the participants are more\n",
    "    than two people(no group chats).\n",
    "    \n",
    "    Works only on the \"Messages\" json files downloaded through\n",
    "    Facebook's \"Download Your Information\" section.\n",
    "    \n",
    "    Parameters\n",
    "    ----------\n",
    "    filepath : string\n",
    "        Filepath to the JSON file.\n",
    "    friend_name : boolean, default True\n",
    "        If True, adds an aditional column \"friend_name\" to the df.\n",
    "    Returns\n",
    "    -------\n",
    "    result : Dataframe        \n",
    "    \"\"\"\n",
    "    # Fixes bad encoding\n",
    "    fix_mojibake_escapes = partial(re.compile(rb'\\\\u00([\\da-f]{2})').sub, lambda m: bytes.fromhex(m.group(1).decode()))\n",
    "    \n",
    "    # Need to read as binary to decode correctly\n",
    "    with open(filepath, 'rb') as file:    \n",
    "        repaired = fix_mojibake_escapes(file.read())\n",
    "        data = json.loads(repaired.decode('utf8'), strict=False)\n",
    "        \n",
    "        # No group chats!\n",
    "        if len(data['participants']) == 2:\n",
    "            result = pd.DataFrame.from_dict(data['messages'])\n",
    "            \n",
    "            # Additional column\n",
    "            if friend_name:\n",
    "                participants = pd.Series(data['participants']).apply(pd.Series)\n",
    "                for name in participants.name:\n",
    "                    if not name == ME:\n",
    "                        result['friend_name'] = name\n",
    "            return result"
   ]
  },
  {
   "cell_type": "markdown",
   "metadata": {},
   "source": [
    "And to read all the files from different folders simultaneously we can use the handy \"glob\" module."
   ]
  },
  {
   "cell_type": "code",
   "execution_count": 5,
   "metadata": {},
   "outputs": [],
   "source": [
    "all_files = glob.glob(\"messages/inbox/*/message_1.json\")\n",
    "data = pd.concat((json_to_df(filename) for filename in all_files), ignore_index=True, sort=False)"
   ]
  },
  {
   "cell_type": "markdown",
   "metadata": {},
   "source": [
    "Let's check it out."
   ]
  },
  {
   "cell_type": "code",
   "execution_count": 6,
   "metadata": {},
   "outputs": [
    {
     "data": {
      "text/plain": [
       "(667746, 17)"
      ]
     },
     "execution_count": 6,
     "metadata": {},
     "output_type": "execute_result"
    }
   ],
   "source": [
    "data.shape"
   ]
  },
  {
   "cell_type": "code",
   "execution_count": 7,
   "metadata": {},
   "outputs": [
    {
     "data": {
      "text/html": [
       "<div>\n",
       "<style scoped>\n",
       "    .dataframe tbody tr th:only-of-type {\n",
       "        vertical-align: middle;\n",
       "    }\n",
       "\n",
       "    .dataframe tbody tr th {\n",
       "        vertical-align: top;\n",
       "    }\n",
       "\n",
       "    .dataframe thead th {\n",
       "        text-align: right;\n",
       "    }\n",
       "</style>\n",
       "<table border=\"1\" class=\"dataframe\">\n",
       "  <thead>\n",
       "    <tr style=\"text-align: right;\">\n",
       "      <th></th>\n",
       "      <th>content</th>\n",
       "      <th>photos</th>\n",
       "      <th>reactions</th>\n",
       "      <th>sender_name</th>\n",
       "      <th>share</th>\n",
       "      <th>sticker</th>\n",
       "      <th>timestamp_ms</th>\n",
       "      <th>type</th>\n",
       "      <th>friend_name</th>\n",
       "      <th>files</th>\n",
       "      <th>call_duration</th>\n",
       "      <th>missed</th>\n",
       "      <th>audio_files</th>\n",
       "      <th>gifs</th>\n",
       "      <th>videos</th>\n",
       "      <th>plan</th>\n",
       "      <th>users</th>\n",
       "    </tr>\n",
       "  </thead>\n",
       "  <tbody>\n",
       "    <tr>\n",
       "      <th>667741</th>\n",
       "      <td>Хубаво.</td>\n",
       "      <td>NaN</td>\n",
       "      <td>NaN</td>\n",
       "      <td>Алексиа Таралингова</td>\n",
       "      <td>NaN</td>\n",
       "      <td>NaN</td>\n",
       "      <td>1387305388712</td>\n",
       "      <td>Generic</td>\n",
       "      <td>Яцо Джогов</td>\n",
       "      <td>NaN</td>\n",
       "      <td>NaN</td>\n",
       "      <td>NaN</td>\n",
       "      <td>NaN</td>\n",
       "      <td>NaN</td>\n",
       "      <td>NaN</td>\n",
       "      <td>NaN</td>\n",
       "      <td>NaN</td>\n",
       "    </tr>\n",
       "    <tr>\n",
       "      <th>667742</th>\n",
       "      <td>goddamnit</td>\n",
       "      <td>NaN</td>\n",
       "      <td>NaN</td>\n",
       "      <td>Алексиа Таралингова</td>\n",
       "      <td>NaN</td>\n",
       "      <td>NaN</td>\n",
       "      <td>1387305386316</td>\n",
       "      <td>Generic</td>\n",
       "      <td>Яцо Джогов</td>\n",
       "      <td>NaN</td>\n",
       "      <td>NaN</td>\n",
       "      <td>NaN</td>\n",
       "      <td>NaN</td>\n",
       "      <td>NaN</td>\n",
       "      <td>NaN</td>\n",
       "      <td>NaN</td>\n",
       "      <td>NaN</td>\n",
       "    </tr>\n",
       "    <tr>\n",
       "      <th>667743</th>\n",
       "      <td>:DD</td>\n",
       "      <td>NaN</td>\n",
       "      <td>NaN</td>\n",
       "      <td>Яцо Джогов</td>\n",
       "      <td>NaN</td>\n",
       "      <td>NaN</td>\n",
       "      <td>1387305379731</td>\n",
       "      <td>Generic</td>\n",
       "      <td>Яцо Джогов</td>\n",
       "      <td>NaN</td>\n",
       "      <td>NaN</td>\n",
       "      <td>NaN</td>\n",
       "      <td>NaN</td>\n",
       "      <td>NaN</td>\n",
       "      <td>NaN</td>\n",
       "      <td>NaN</td>\n",
       "      <td>NaN</td>\n",
       "    </tr>\n",
       "    <tr>\n",
       "      <th>667744</th>\n",
       "      <td>хахаха, само че не дописах, че няма как да дой...</td>\n",
       "      <td>NaN</td>\n",
       "      <td>NaN</td>\n",
       "      <td>Яцо Джогов</td>\n",
       "      <td>NaN</td>\n",
       "      <td>NaN</td>\n",
       "      <td>1387305376924</td>\n",
       "      <td>Generic</td>\n",
       "      <td>Яцо Джогов</td>\n",
       "      <td>NaN</td>\n",
       "      <td>NaN</td>\n",
       "      <td>NaN</td>\n",
       "      <td>NaN</td>\n",
       "      <td>NaN</td>\n",
       "      <td>NaN</td>\n",
       "      <td>NaN</td>\n",
       "      <td>NaN</td>\n",
       "    </tr>\n",
       "    <tr>\n",
       "      <th>667745</th>\n",
       "      <td>Добре дошла на борда</td>\n",
       "      <td>NaN</td>\n",
       "      <td>NaN</td>\n",
       "      <td>Алексиа Таралингова</td>\n",
       "      <td>NaN</td>\n",
       "      <td>NaN</td>\n",
       "      <td>1387305353904</td>\n",
       "      <td>Generic</td>\n",
       "      <td>Яцо Джогов</td>\n",
       "      <td>NaN</td>\n",
       "      <td>NaN</td>\n",
       "      <td>NaN</td>\n",
       "      <td>NaN</td>\n",
       "      <td>NaN</td>\n",
       "      <td>NaN</td>\n",
       "      <td>NaN</td>\n",
       "      <td>NaN</td>\n",
       "    </tr>\n",
       "  </tbody>\n",
       "</table>\n",
       "</div>"
      ],
      "text/plain": [
       "                                                  content photos reactions  \\\n",
       "667741                                            Хубаво.    NaN       NaN   \n",
       "667742                                          goddamnit    NaN       NaN   \n",
       "667743                                                :DD    NaN       NaN   \n",
       "667744  хахаха, само че не дописах, че няма как да дой...    NaN       NaN   \n",
       "667745                               Добре дошла на борда    NaN       NaN   \n",
       "\n",
       "                sender_name share sticker   timestamp_ms     type friend_name  \\\n",
       "667741  Алексиа Таралингова   NaN     NaN  1387305388712  Generic  Яцо Джогов   \n",
       "667742  Алексиа Таралингова   NaN     NaN  1387305386316  Generic  Яцо Джогов   \n",
       "667743           Яцо Джогов   NaN     NaN  1387305379731  Generic  Яцо Джогов   \n",
       "667744           Яцо Джогов   NaN     NaN  1387305376924  Generic  Яцо Джогов   \n",
       "667745  Алексиа Таралингова   NaN     NaN  1387305353904  Generic  Яцо Джогов   \n",
       "\n",
       "       files  call_duration missed audio_files gifs videos plan users  \n",
       "667741   NaN            NaN    NaN         NaN  NaN    NaN  NaN   NaN  \n",
       "667742   NaN            NaN    NaN         NaN  NaN    NaN  NaN   NaN  \n",
       "667743   NaN            NaN    NaN         NaN  NaN    NaN  NaN   NaN  \n",
       "667744   NaN            NaN    NaN         NaN  NaN    NaN  NaN   NaN  \n",
       "667745   NaN            NaN    NaN         NaN  NaN    NaN  NaN   NaN  "
      ]
     },
     "execution_count": 7,
     "metadata": {},
     "output_type": "execute_result"
    }
   ],
   "source": [
    "data.tail()"
   ]
  },
  {
   "cell_type": "markdown",
   "metadata": {},
   "source": [
    "### 4 Data tidying and cleaning"
   ]
  },
  {
   "cell_type": "markdown",
   "metadata": {},
   "source": [
    "So the first thing that immediately pops out is the `timestamp_ms` column."
   ]
  },
  {
   "cell_type": "code",
   "execution_count": 8,
   "metadata": {},
   "outputs": [
    {
     "data": {
      "text/plain": [
       "dtype('int64')"
      ]
     },
     "execution_count": 8,
     "metadata": {},
     "output_type": "execute_result"
    }
   ],
   "source": [
    "data.timestamp_ms.dtype"
   ]
  },
  {
   "cell_type": "markdown",
   "metadata": {},
   "source": [
    "First of all, we can't even make out what year it is, let alone the time of day. We need to transform it to a proper datetime format."
   ]
  },
  {
   "cell_type": "code",
   "execution_count": 9,
   "metadata": {},
   "outputs": [],
   "source": [
    "# At least they named the column descriptively \n",
    "data.timestamp_ms = pd.to_datetime(data.timestamp_ms, unit='ms')"
   ]
  },
  {
   "cell_type": "code",
   "execution_count": 10,
   "metadata": {},
   "outputs": [
    {
     "data": {
      "text/plain": [
       "0   2018-12-31 22:36:34.976\n",
       "1   2018-10-25 11:29:29.851\n",
       "2   2018-10-25 09:31:36.198\n",
       "3   2018-10-24 17:10:31.532\n",
       "4   2018-10-24 17:10:28.140\n",
       "Name: timestamp_ms, dtype: datetime64[ns]"
      ]
     },
     "execution_count": 10,
     "metadata": {},
     "output_type": "execute_result"
    }
   ],
   "source": [
    "data.timestamp_ms.head()"
   ]
  },
  {
   "cell_type": "markdown",
   "metadata": {},
   "source": [
    "Second, our dataframe is sorted by `friend_name` as this is the order the folders were sorted when we read the JSON files. We can sort the whole dataset by chronological order using the new datetime column.\n"
   ]
  },
  {
   "cell_type": "code",
   "execution_count": 11,
   "metadata": {},
   "outputs": [],
   "source": [
    "data = data.sort_values('timestamp_ms')"
   ]
  },
  {
   "cell_type": "code",
   "execution_count": 12,
   "metadata": {},
   "outputs": [
    {
     "data": {
      "text/plain": [
       "284072   2010-07-16 10:09:14\n",
       "441879   2010-10-08 19:36:37\n",
       "357312   2010-11-12 18:01:01\n",
       "284071   2010-11-28 18:13:56\n",
       "284070   2010-11-28 18:15:03\n",
       "Name: timestamp_ms, dtype: datetime64[ns]"
      ]
     },
     "execution_count": 12,
     "metadata": {},
     "output_type": "execute_result"
    }
   ],
   "source": [
    "data.timestamp_ms.head()"
   ]
  },
  {
   "cell_type": "markdown",
   "metadata": {},
   "source": [
    "Third, all of the values in the timestamp column should be unique. That's a great candidate for a dataframe index."
   ]
  },
  {
   "cell_type": "code",
   "execution_count": 13,
   "metadata": {},
   "outputs": [
    {
     "data": {
      "text/plain": [
       "False"
      ]
     },
     "execution_count": 13,
     "metadata": {},
     "output_type": "execute_result"
    }
   ],
   "source": [
    "len(data.timestamp_ms) == len(data.timestamp_ms.unique())"
   ]
  },
  {
   "cell_type": "markdown",
   "metadata": {},
   "source": [
    "Okay, it seems not all of the values are unique..."
   ]
  },
  {
   "cell_type": "code",
   "execution_count": 14,
   "metadata": {},
   "outputs": [
    {
     "data": {
      "text/plain": [
       "88"
      ]
     },
     "execution_count": 14,
     "metadata": {},
     "output_type": "execute_result"
    }
   ],
   "source": [
    "data.timestamp_ms[data.timestamp_ms.duplicated()].count()"
   ]
  },
  {
   "cell_type": "markdown",
   "metadata": {},
   "source": [
    "...but that's a small enough number for us to drop the duplicate rows and pretend like nothing happened."
   ]
  },
  {
   "cell_type": "code",
   "execution_count": 15,
   "metadata": {},
   "outputs": [],
   "source": [
    "data = data.drop_duplicates('timestamp_ms')"
   ]
  },
  {
   "cell_type": "code",
   "execution_count": 16,
   "metadata": {},
   "outputs": [],
   "source": [
    "data = data.set_index('timestamp_ms', verify_integrity=True)"
   ]
  },
  {
   "cell_type": "code",
   "execution_count": 17,
   "metadata": {},
   "outputs": [],
   "source": [
    "data.index.names = ['timestamp']"
   ]
  },
  {
   "cell_type": "code",
   "execution_count": 18,
   "metadata": {},
   "outputs": [
    {
     "data": {
      "text/html": [
       "<div>\n",
       "<style scoped>\n",
       "    .dataframe tbody tr th:only-of-type {\n",
       "        vertical-align: middle;\n",
       "    }\n",
       "\n",
       "    .dataframe tbody tr th {\n",
       "        vertical-align: top;\n",
       "    }\n",
       "\n",
       "    .dataframe thead th {\n",
       "        text-align: right;\n",
       "    }\n",
       "</style>\n",
       "<table border=\"1\" class=\"dataframe\">\n",
       "  <thead>\n",
       "    <tr style=\"text-align: right;\">\n",
       "      <th></th>\n",
       "      <th>content</th>\n",
       "      <th>photos</th>\n",
       "      <th>reactions</th>\n",
       "      <th>sender_name</th>\n",
       "      <th>share</th>\n",
       "      <th>sticker</th>\n",
       "      <th>type</th>\n",
       "      <th>friend_name</th>\n",
       "      <th>files</th>\n",
       "      <th>call_duration</th>\n",
       "      <th>missed</th>\n",
       "      <th>audio_files</th>\n",
       "      <th>gifs</th>\n",
       "      <th>videos</th>\n",
       "      <th>plan</th>\n",
       "      <th>users</th>\n",
       "    </tr>\n",
       "    <tr>\n",
       "      <th>timestamp</th>\n",
       "      <th></th>\n",
       "      <th></th>\n",
       "      <th></th>\n",
       "      <th></th>\n",
       "      <th></th>\n",
       "      <th></th>\n",
       "      <th></th>\n",
       "      <th></th>\n",
       "      <th></th>\n",
       "      <th></th>\n",
       "      <th></th>\n",
       "      <th></th>\n",
       "      <th></th>\n",
       "      <th></th>\n",
       "      <th></th>\n",
       "      <th></th>\n",
       "    </tr>\n",
       "  </thead>\n",
       "  <tbody>\n",
       "    <tr>\n",
       "      <th>2019-07-22 15:09:15.928</th>\n",
       "      <td>добре, чакай сега недей да пишеш за известно в...</td>\n",
       "      <td>NaN</td>\n",
       "      <td>NaN</td>\n",
       "      <td>Алексиа Таралингова</td>\n",
       "      <td>NaN</td>\n",
       "      <td>NaN</td>\n",
       "      <td>Generic</td>\n",
       "      <td>Ирник Топчийски</td>\n",
       "      <td>NaN</td>\n",
       "      <td>NaN</td>\n",
       "      <td>NaN</td>\n",
       "      <td>NaN</td>\n",
       "      <td>NaN</td>\n",
       "      <td>NaN</td>\n",
       "      <td>NaN</td>\n",
       "      <td>NaN</td>\n",
       "    </tr>\n",
       "    <tr>\n",
       "      <th>2019-07-22 15:09:31.911</th>\n",
       "      <td>some English text 123 wohoo yeaaah !!! xD</td>\n",
       "      <td>NaN</td>\n",
       "      <td>NaN</td>\n",
       "      <td>Алексиа Таралингова</td>\n",
       "      <td>NaN</td>\n",
       "      <td>NaN</td>\n",
       "      <td>Generic</td>\n",
       "      <td>Ирник Топчийски</td>\n",
       "      <td>NaN</td>\n",
       "      <td>NaN</td>\n",
       "      <td>NaN</td>\n",
       "      <td>NaN</td>\n",
       "      <td>NaN</td>\n",
       "      <td>NaN</td>\n",
       "      <td>NaN</td>\n",
       "      <td>NaN</td>\n",
       "    </tr>\n",
       "    <tr>\n",
       "      <th>2019-07-22 15:09:36.887</th>\n",
       "      <td>NaN</td>\n",
       "      <td>NaN</td>\n",
       "      <td>NaN</td>\n",
       "      <td>Ирник Топчийски</td>\n",
       "      <td>NaN</td>\n",
       "      <td>{'uri': 'messages/stickers_used/39178562_15051...</td>\n",
       "      <td>Generic</td>\n",
       "      <td>Ирник Топчийски</td>\n",
       "      <td>NaN</td>\n",
       "      <td>NaN</td>\n",
       "      <td>NaN</td>\n",
       "      <td>NaN</td>\n",
       "      <td>NaN</td>\n",
       "      <td>NaN</td>\n",
       "      <td>NaN</td>\n",
       "      <td>NaN</td>\n",
       "    </tr>\n",
       "    <tr>\n",
       "      <th>2019-07-22 15:09:55.550</th>\n",
       "      <td>sh1okavica bum bam nqkvi dumi</td>\n",
       "      <td>NaN</td>\n",
       "      <td>NaN</td>\n",
       "      <td>Алексиа Таралингова</td>\n",
       "      <td>NaN</td>\n",
       "      <td>NaN</td>\n",
       "      <td>Generic</td>\n",
       "      <td>Ирник Топчийски</td>\n",
       "      <td>NaN</td>\n",
       "      <td>NaN</td>\n",
       "      <td>NaN</td>\n",
       "      <td>NaN</td>\n",
       "      <td>NaN</td>\n",
       "      <td>NaN</td>\n",
       "      <td>NaN</td>\n",
       "      <td>NaN</td>\n",
       "    </tr>\n",
       "    <tr>\n",
       "      <th>2019-07-22 15:10:12.635</th>\n",
       "      <td>Данчо е супер пич 😎</td>\n",
       "      <td>NaN</td>\n",
       "      <td>NaN</td>\n",
       "      <td>Алексиа Таралингова</td>\n",
       "      <td>NaN</td>\n",
       "      <td>NaN</td>\n",
       "      <td>Generic</td>\n",
       "      <td>Ирник Топчийски</td>\n",
       "      <td>NaN</td>\n",
       "      <td>NaN</td>\n",
       "      <td>NaN</td>\n",
       "      <td>NaN</td>\n",
       "      <td>NaN</td>\n",
       "      <td>NaN</td>\n",
       "      <td>NaN</td>\n",
       "      <td>NaN</td>\n",
       "    </tr>\n",
       "  </tbody>\n",
       "</table>\n",
       "</div>"
      ],
      "text/plain": [
       "                                                                   content  \\\n",
       "timestamp                                                                    \n",
       "2019-07-22 15:09:15.928  добре, чакай сега недей да пишеш за известно в...   \n",
       "2019-07-22 15:09:31.911          some English text 123 wohoo yeaaah !!! xD   \n",
       "2019-07-22 15:09:36.887                                                NaN   \n",
       "2019-07-22 15:09:55.550                      sh1okavica bum bam nqkvi dumi   \n",
       "2019-07-22 15:10:12.635                                Данчо е супер пич 😎   \n",
       "\n",
       "                        photos reactions          sender_name share  \\\n",
       "timestamp                                                             \n",
       "2019-07-22 15:09:15.928    NaN       NaN  Алексиа Таралингова   NaN   \n",
       "2019-07-22 15:09:31.911    NaN       NaN  Алексиа Таралингова   NaN   \n",
       "2019-07-22 15:09:36.887    NaN       NaN      Ирник Топчийски   NaN   \n",
       "2019-07-22 15:09:55.550    NaN       NaN  Алексиа Таралингова   NaN   \n",
       "2019-07-22 15:10:12.635    NaN       NaN  Алексиа Таралингова   NaN   \n",
       "\n",
       "                                                                   sticker  \\\n",
       "timestamp                                                                    \n",
       "2019-07-22 15:09:15.928                                                NaN   \n",
       "2019-07-22 15:09:31.911                                                NaN   \n",
       "2019-07-22 15:09:36.887  {'uri': 'messages/stickers_used/39178562_15051...   \n",
       "2019-07-22 15:09:55.550                                                NaN   \n",
       "2019-07-22 15:10:12.635                                                NaN   \n",
       "\n",
       "                            type      friend_name files  call_duration missed  \\\n",
       "timestamp                                                                       \n",
       "2019-07-22 15:09:15.928  Generic  Ирник Топчийски   NaN            NaN    NaN   \n",
       "2019-07-22 15:09:31.911  Generic  Ирник Топчийски   NaN            NaN    NaN   \n",
       "2019-07-22 15:09:36.887  Generic  Ирник Топчийски   NaN            NaN    NaN   \n",
       "2019-07-22 15:09:55.550  Generic  Ирник Топчийски   NaN            NaN    NaN   \n",
       "2019-07-22 15:10:12.635  Generic  Ирник Топчийски   NaN            NaN    NaN   \n",
       "\n",
       "                        audio_files gifs videos plan users  \n",
       "timestamp                                                   \n",
       "2019-07-22 15:09:15.928         NaN  NaN    NaN  NaN   NaN  \n",
       "2019-07-22 15:09:31.911         NaN  NaN    NaN  NaN   NaN  \n",
       "2019-07-22 15:09:36.887         NaN  NaN    NaN  NaN   NaN  \n",
       "2019-07-22 15:09:55.550         NaN  NaN    NaN  NaN   NaN  \n",
       "2019-07-22 15:10:12.635         NaN  NaN    NaN  NaN   NaN  "
      ]
     },
     "execution_count": 18,
     "metadata": {},
     "output_type": "execute_result"
    }
   ],
   "source": [
    "data.tail()"
   ]
  },
  {
   "cell_type": "markdown",
   "metadata": {},
   "source": [
    "That's better, but what's up with the rest of the columns?\n",
    "\n",
    "Let's check if they contain some useful information or we can get rid of them."
   ]
  },
  {
   "cell_type": "code",
   "execution_count": 19,
   "metadata": {},
   "outputs": [
    {
     "data": {
      "text/plain": [
       "Generic        662518\n",
       "Share            4965\n",
       "Call              160\n",
       "Unsubscribe         7\n",
       "Subscribe           4\n",
       "Plan                4\n",
       "Name: type, dtype: int64"
      ]
     },
     "execution_count": 19,
     "metadata": {},
     "output_type": "execute_result"
    }
   ],
   "source": [
    "data.type.value_counts()"
   ]
  },
  {
   "cell_type": "markdown",
   "metadata": {},
   "source": [
    "We can see that the majority of the content is of `type` \"Generic\". These are all the normal text messages we want, but what about the \"Share\" type?"
   ]
  },
  {
   "cell_type": "code",
   "execution_count": 20,
   "metadata": {},
   "outputs": [
    {
     "data": {
      "text/html": [
       "<div>\n",
       "<style scoped>\n",
       "    .dataframe tbody tr th:only-of-type {\n",
       "        vertical-align: middle;\n",
       "    }\n",
       "\n",
       "    .dataframe tbody tr th {\n",
       "        vertical-align: top;\n",
       "    }\n",
       "\n",
       "    .dataframe thead th {\n",
       "        text-align: right;\n",
       "    }\n",
       "</style>\n",
       "<table border=\"1\" class=\"dataframe\">\n",
       "  <thead>\n",
       "    <tr style=\"text-align: right;\">\n",
       "      <th></th>\n",
       "      <th>content</th>\n",
       "      <th>photos</th>\n",
       "      <th>reactions</th>\n",
       "      <th>sender_name</th>\n",
       "      <th>share</th>\n",
       "      <th>sticker</th>\n",
       "      <th>type</th>\n",
       "      <th>friend_name</th>\n",
       "      <th>files</th>\n",
       "      <th>call_duration</th>\n",
       "      <th>missed</th>\n",
       "      <th>audio_files</th>\n",
       "      <th>gifs</th>\n",
       "      <th>videos</th>\n",
       "      <th>plan</th>\n",
       "      <th>users</th>\n",
       "    </tr>\n",
       "    <tr>\n",
       "      <th>timestamp</th>\n",
       "      <th></th>\n",
       "      <th></th>\n",
       "      <th></th>\n",
       "      <th></th>\n",
       "      <th></th>\n",
       "      <th></th>\n",
       "      <th></th>\n",
       "      <th></th>\n",
       "      <th></th>\n",
       "      <th></th>\n",
       "      <th></th>\n",
       "      <th></th>\n",
       "      <th></th>\n",
       "      <th></th>\n",
       "      <th></th>\n",
       "      <th></th>\n",
       "    </tr>\n",
       "  </thead>\n",
       "  <tbody>\n",
       "    <tr>\n",
       "      <th>2010-07-16 10:09:14.000</th>\n",
       "      <td>http://www.youtube.com/watch?v=McTp7tw_a10&amp;pla...</td>\n",
       "      <td>NaN</td>\n",
       "      <td>NaN</td>\n",
       "      <td>Алексиа Таралингова</td>\n",
       "      <td>{'link': 'http://gdata.youtube.com/feeds/api/v...</td>\n",
       "      <td>NaN</td>\n",
       "      <td>Share</td>\n",
       "      <td>Г-ца Найчо Овнарски</td>\n",
       "      <td>NaN</td>\n",
       "      <td>NaN</td>\n",
       "      <td>NaN</td>\n",
       "      <td>NaN</td>\n",
       "      <td>NaN</td>\n",
       "      <td>NaN</td>\n",
       "      <td>NaN</td>\n",
       "      <td>NaN</td>\n",
       "    </tr>\n",
       "    <tr>\n",
       "      <th>2010-10-08 19:36:37.000</th>\n",
       "      <td>То си имало специална страница за твоя проблем...</td>\n",
       "      <td>NaN</td>\n",
       "      <td>NaN</td>\n",
       "      <td>Алексиа Таралингова</td>\n",
       "      <td>{'link': 'http://www.facebook.com/help/identif...</td>\n",
       "      <td>NaN</td>\n",
       "      <td>Share</td>\n",
       "      <td>Дениандра Таралингова</td>\n",
       "      <td>NaN</td>\n",
       "      <td>NaN</td>\n",
       "      <td>NaN</td>\n",
       "      <td>NaN</td>\n",
       "      <td>NaN</td>\n",
       "      <td>NaN</td>\n",
       "      <td>NaN</td>\n",
       "      <td>NaN</td>\n",
       "    </tr>\n",
       "    <tr>\n",
       "      <th>2010-12-05 22:32:28.000</th>\n",
       "      <td>Виж как Сашко и Тео си играят докато бяха у нас</td>\n",
       "      <td>NaN</td>\n",
       "      <td>NaN</td>\n",
       "      <td>Алексиа Таралингова</td>\n",
       "      <td>{'link': 'http://gdata.youtube.com/feeds/api/v...</td>\n",
       "      <td>NaN</td>\n",
       "      <td>Share</td>\n",
       "      <td>Зинови Станишев</td>\n",
       "      <td>NaN</td>\n",
       "      <td>NaN</td>\n",
       "      <td>NaN</td>\n",
       "      <td>NaN</td>\n",
       "      <td>NaN</td>\n",
       "      <td>NaN</td>\n",
       "      <td>NaN</td>\n",
       "      <td>NaN</td>\n",
       "    </tr>\n",
       "    <tr>\n",
       "      <th>2011-03-16 19:17:24.000</th>\n",
       "      <td>Субтитри http://subs.sab.bz/index.php?s=c89853...</td>\n",
       "      <td>NaN</td>\n",
       "      <td>NaN</td>\n",
       "      <td>Алексиа Таралингова</td>\n",
       "      <td>{'link': 'http://subs.sab.bz/index.php?s=c8985...</td>\n",
       "      <td>NaN</td>\n",
       "      <td>Share</td>\n",
       "      <td>Евтим Фенеров</td>\n",
       "      <td>NaN</td>\n",
       "      <td>NaN</td>\n",
       "      <td>NaN</td>\n",
       "      <td>NaN</td>\n",
       "      <td>NaN</td>\n",
       "      <td>NaN</td>\n",
       "      <td>NaN</td>\n",
       "      <td>NaN</td>\n",
       "    </tr>\n",
       "    <tr>\n",
       "      <th>2011-11-11 11:54:08.555</th>\n",
       "      <td>Абе Янко...Skyrim и Elder Scrolls V е едно и с...</td>\n",
       "      <td>NaN</td>\n",
       "      <td>NaN</td>\n",
       "      <td>Алексиа Таралингова</td>\n",
       "      <td>{'link': 'http://www.zamunda.net/details.php?i...</td>\n",
       "      <td>NaN</td>\n",
       "      <td>Share</td>\n",
       "      <td>Евтим Фенеров</td>\n",
       "      <td>NaN</td>\n",
       "      <td>NaN</td>\n",
       "      <td>NaN</td>\n",
       "      <td>NaN</td>\n",
       "      <td>NaN</td>\n",
       "      <td>NaN</td>\n",
       "      <td>NaN</td>\n",
       "      <td>NaN</td>\n",
       "    </tr>\n",
       "  </tbody>\n",
       "</table>\n",
       "</div>"
      ],
      "text/plain": [
       "                                                                   content  \\\n",
       "timestamp                                                                    \n",
       "2010-07-16 10:09:14.000  http://www.youtube.com/watch?v=McTp7tw_a10&pla...   \n",
       "2010-10-08 19:36:37.000  То си имало специална страница за твоя проблем...   \n",
       "2010-12-05 22:32:28.000    Виж как Сашко и Тео си играят докато бяха у нас   \n",
       "2011-03-16 19:17:24.000  Субтитри http://subs.sab.bz/index.php?s=c89853...   \n",
       "2011-11-11 11:54:08.555  Абе Янко...Skyrim и Elder Scrolls V е едно и с...   \n",
       "\n",
       "                        photos reactions          sender_name  \\\n",
       "timestamp                                                       \n",
       "2010-07-16 10:09:14.000    NaN       NaN  Алексиа Таралингова   \n",
       "2010-10-08 19:36:37.000    NaN       NaN  Алексиа Таралингова   \n",
       "2010-12-05 22:32:28.000    NaN       NaN  Алексиа Таралингова   \n",
       "2011-03-16 19:17:24.000    NaN       NaN  Алексиа Таралингова   \n",
       "2011-11-11 11:54:08.555    NaN       NaN  Алексиа Таралингова   \n",
       "\n",
       "                                                                     share  \\\n",
       "timestamp                                                                    \n",
       "2010-07-16 10:09:14.000  {'link': 'http://gdata.youtube.com/feeds/api/v...   \n",
       "2010-10-08 19:36:37.000  {'link': 'http://www.facebook.com/help/identif...   \n",
       "2010-12-05 22:32:28.000  {'link': 'http://gdata.youtube.com/feeds/api/v...   \n",
       "2011-03-16 19:17:24.000  {'link': 'http://subs.sab.bz/index.php?s=c8985...   \n",
       "2011-11-11 11:54:08.555  {'link': 'http://www.zamunda.net/details.php?i...   \n",
       "\n",
       "                        sticker   type            friend_name files  \\\n",
       "timestamp                                                             \n",
       "2010-07-16 10:09:14.000     NaN  Share    Г-ца Найчо Овнарски   NaN   \n",
       "2010-10-08 19:36:37.000     NaN  Share  Дениандра Таралингова   NaN   \n",
       "2010-12-05 22:32:28.000     NaN  Share        Зинови Станишев   NaN   \n",
       "2011-03-16 19:17:24.000     NaN  Share          Евтим Фенеров   NaN   \n",
       "2011-11-11 11:54:08.555     NaN  Share          Евтим Фенеров   NaN   \n",
       "\n",
       "                         call_duration missed audio_files gifs videos plan  \\\n",
       "timestamp                                                                    \n",
       "2010-07-16 10:09:14.000            NaN    NaN         NaN  NaN    NaN  NaN   \n",
       "2010-10-08 19:36:37.000            NaN    NaN         NaN  NaN    NaN  NaN   \n",
       "2010-12-05 22:32:28.000            NaN    NaN         NaN  NaN    NaN  NaN   \n",
       "2011-03-16 19:17:24.000            NaN    NaN         NaN  NaN    NaN  NaN   \n",
       "2011-11-11 11:54:08.555            NaN    NaN         NaN  NaN    NaN  NaN   \n",
       "\n",
       "                        users  \n",
       "timestamp                      \n",
       "2010-07-16 10:09:14.000   NaN  \n",
       "2010-10-08 19:36:37.000   NaN  \n",
       "2010-12-05 22:32:28.000   NaN  \n",
       "2011-03-16 19:17:24.000   NaN  \n",
       "2011-11-11 11:54:08.555   NaN  "
      ]
     },
     "execution_count": 20,
     "metadata": {},
     "output_type": "execute_result"
    }
   ],
   "source": [
    "data[data.type=='Share'].head()"
   ]
  },
  {
   "cell_type": "markdown",
   "metadata": {},
   "source": [
    "It looks like these are all the messages containing a link. Also there is some more information in the `share` column, but we will explore this later. For now we can get rid of all the stuff we don't need."
   ]
  },
  {
   "cell_type": "code",
   "execution_count": 21,
   "metadata": {},
   "outputs": [],
   "source": [
    "mess = data[(data.type=='Generic') | (data.type=='Share')][['sender_name', 'content', 'friend_name', 'type', 'share', 'reactions']]"
   ]
  },
  {
   "cell_type": "code",
   "execution_count": 22,
   "metadata": {},
   "outputs": [],
   "source": [
    "mess.content.dropna(inplace=True)"
   ]
  },
  {
   "cell_type": "markdown",
   "metadata": {},
   "source": [
    "And transform the categorical columns into an actual type \"category\"."
   ]
  },
  {
   "cell_type": "code",
   "execution_count": 23,
   "metadata": {},
   "outputs": [
    {
     "data": {
      "text/plain": [
       "sender_name    object\n",
       "content        object\n",
       "friend_name    object\n",
       "type           object\n",
       "share          object\n",
       "reactions      object\n",
       "dtype: object"
      ]
     },
     "execution_count": 23,
     "metadata": {},
     "output_type": "execute_result"
    }
   ],
   "source": [
    "mess.dtypes"
   ]
  },
  {
   "cell_type": "code",
   "execution_count": 24,
   "metadata": {},
   "outputs": [],
   "source": [
    "mess.sender_name = mess.sender_name.astype('category')\n",
    "mess.friend_name = mess.friend_name.astype('category')\n",
    "mess.type = mess.type.astype('category')"
   ]
  },
  {
   "cell_type": "code",
   "execution_count": 25,
   "metadata": {},
   "outputs": [
    {
     "data": {
      "text/plain": [
       "sender_name    category\n",
       "content          object\n",
       "friend_name    category\n",
       "type           category\n",
       "share            object\n",
       "reactions        object\n",
       "dtype: object"
      ]
     },
     "execution_count": 25,
     "metadata": {},
     "output_type": "execute_result"
    }
   ],
   "source": [
    "mess.dtypes"
   ]
  },
  {
   "cell_type": "code",
   "execution_count": 26,
   "metadata": {},
   "outputs": [
    {
     "data": {
      "text/html": [
       "<div>\n",
       "<style scoped>\n",
       "    .dataframe tbody tr th:only-of-type {\n",
       "        vertical-align: middle;\n",
       "    }\n",
       "\n",
       "    .dataframe tbody tr th {\n",
       "        vertical-align: top;\n",
       "    }\n",
       "\n",
       "    .dataframe thead th {\n",
       "        text-align: right;\n",
       "    }\n",
       "</style>\n",
       "<table border=\"1\" class=\"dataframe\">\n",
       "  <thead>\n",
       "    <tr style=\"text-align: right;\">\n",
       "      <th></th>\n",
       "      <th>sender_name</th>\n",
       "      <th>content</th>\n",
       "      <th>friend_name</th>\n",
       "      <th>type</th>\n",
       "      <th>share</th>\n",
       "      <th>reactions</th>\n",
       "    </tr>\n",
       "    <tr>\n",
       "      <th>timestamp</th>\n",
       "      <th></th>\n",
       "      <th></th>\n",
       "      <th></th>\n",
       "      <th></th>\n",
       "      <th></th>\n",
       "      <th></th>\n",
       "    </tr>\n",
       "  </thead>\n",
       "  <tbody>\n",
       "    <tr>\n",
       "      <th>2019-07-22 15:09:15.928</th>\n",
       "      <td>Алексиа Таралингова</td>\n",
       "      <td>добре, чакай сега недей да пишеш за известно в...</td>\n",
       "      <td>Ирник Топчийски</td>\n",
       "      <td>Generic</td>\n",
       "      <td>NaN</td>\n",
       "      <td>NaN</td>\n",
       "    </tr>\n",
       "    <tr>\n",
       "      <th>2019-07-22 15:09:31.911</th>\n",
       "      <td>Алексиа Таралингова</td>\n",
       "      <td>some English text 123 wohoo yeaaah !!! xD</td>\n",
       "      <td>Ирник Топчийски</td>\n",
       "      <td>Generic</td>\n",
       "      <td>NaN</td>\n",
       "      <td>NaN</td>\n",
       "    </tr>\n",
       "    <tr>\n",
       "      <th>2019-07-22 15:09:36.887</th>\n",
       "      <td>Ирник Топчийски</td>\n",
       "      <td>NaN</td>\n",
       "      <td>Ирник Топчийски</td>\n",
       "      <td>Generic</td>\n",
       "      <td>NaN</td>\n",
       "      <td>NaN</td>\n",
       "    </tr>\n",
       "    <tr>\n",
       "      <th>2019-07-22 15:09:55.550</th>\n",
       "      <td>Алексиа Таралингова</td>\n",
       "      <td>sh1okavica bum bam nqkvi dumi</td>\n",
       "      <td>Ирник Топчийски</td>\n",
       "      <td>Generic</td>\n",
       "      <td>NaN</td>\n",
       "      <td>NaN</td>\n",
       "    </tr>\n",
       "    <tr>\n",
       "      <th>2019-07-22 15:10:12.635</th>\n",
       "      <td>Алексиа Таралингова</td>\n",
       "      <td>Данчо е супер пич 😎</td>\n",
       "      <td>Ирник Топчийски</td>\n",
       "      <td>Generic</td>\n",
       "      <td>NaN</td>\n",
       "      <td>NaN</td>\n",
       "    </tr>\n",
       "  </tbody>\n",
       "</table>\n",
       "</div>"
      ],
      "text/plain": [
       "                                 sender_name  \\\n",
       "timestamp                                      \n",
       "2019-07-22 15:09:15.928  Алексиа Таралингова   \n",
       "2019-07-22 15:09:31.911  Алексиа Таралингова   \n",
       "2019-07-22 15:09:36.887      Ирник Топчийски   \n",
       "2019-07-22 15:09:55.550  Алексиа Таралингова   \n",
       "2019-07-22 15:10:12.635  Алексиа Таралингова   \n",
       "\n",
       "                                                                   content  \\\n",
       "timestamp                                                                    \n",
       "2019-07-22 15:09:15.928  добре, чакай сега недей да пишеш за известно в...   \n",
       "2019-07-22 15:09:31.911          some English text 123 wohoo yeaaah !!! xD   \n",
       "2019-07-22 15:09:36.887                                                NaN   \n",
       "2019-07-22 15:09:55.550                      sh1okavica bum bam nqkvi dumi   \n",
       "2019-07-22 15:10:12.635                                Данчо е супер пич 😎   \n",
       "\n",
       "                             friend_name     type share reactions  \n",
       "timestamp                                                          \n",
       "2019-07-22 15:09:15.928  Ирник Топчийски  Generic   NaN       NaN  \n",
       "2019-07-22 15:09:31.911  Ирник Топчийски  Generic   NaN       NaN  \n",
       "2019-07-22 15:09:36.887  Ирник Топчийски  Generic   NaN       NaN  \n",
       "2019-07-22 15:09:55.550  Ирник Топчийски  Generic   NaN       NaN  \n",
       "2019-07-22 15:10:12.635  Ирник Топчийски  Generic   NaN       NaN  "
      ]
     },
     "execution_count": 26,
     "metadata": {},
     "output_type": "execute_result"
    }
   ],
   "source": [
    "mess.tail()"
   ]
  },
  {
   "cell_type": "markdown",
   "metadata": {},
   "source": [
    "Looks like there's still some NaN columns even after we used `dropna()`. No problem, we can fix that."
   ]
  },
  {
   "cell_type": "code",
   "execution_count": 27,
   "metadata": {},
   "outputs": [],
   "source": [
    "mess.content = mess.content.str.lower()\n",
    "mess.content = mess.content.replace(np.nan, '0')\n",
    "mess = mess[mess.content!='0']"
   ]
  },
  {
   "cell_type": "code",
   "execution_count": 28,
   "metadata": {},
   "outputs": [
    {
     "data": {
      "text/html": [
       "<div>\n",
       "<style scoped>\n",
       "    .dataframe tbody tr th:only-of-type {\n",
       "        vertical-align: middle;\n",
       "    }\n",
       "\n",
       "    .dataframe tbody tr th {\n",
       "        vertical-align: top;\n",
       "    }\n",
       "\n",
       "    .dataframe thead th {\n",
       "        text-align: right;\n",
       "    }\n",
       "</style>\n",
       "<table border=\"1\" class=\"dataframe\">\n",
       "  <thead>\n",
       "    <tr style=\"text-align: right;\">\n",
       "      <th></th>\n",
       "      <th>sender_name</th>\n",
       "      <th>content</th>\n",
       "      <th>friend_name</th>\n",
       "      <th>type</th>\n",
       "      <th>share</th>\n",
       "      <th>reactions</th>\n",
       "    </tr>\n",
       "    <tr>\n",
       "      <th>timestamp</th>\n",
       "      <th></th>\n",
       "      <th></th>\n",
       "      <th></th>\n",
       "      <th></th>\n",
       "      <th></th>\n",
       "      <th></th>\n",
       "    </tr>\n",
       "  </thead>\n",
       "  <tbody>\n",
       "    <tr>\n",
       "      <th>2019-07-22 15:08:48.294</th>\n",
       "      <td>Ирник Топчийски</td>\n",
       "      <td>ако мн го закъсаш с събирането на съобщенията ...</td>\n",
       "      <td>Ирник Топчийски</td>\n",
       "      <td>Generic</td>\n",
       "      <td>NaN</td>\n",
       "      <td>NaN</td>\n",
       "    </tr>\n",
       "    <tr>\n",
       "      <th>2019-07-22 15:09:15.928</th>\n",
       "      <td>Алексиа Таралингова</td>\n",
       "      <td>добре, чакай сега недей да пишеш за известно в...</td>\n",
       "      <td>Ирник Топчийски</td>\n",
       "      <td>Generic</td>\n",
       "      <td>NaN</td>\n",
       "      <td>NaN</td>\n",
       "    </tr>\n",
       "    <tr>\n",
       "      <th>2019-07-22 15:09:31.911</th>\n",
       "      <td>Алексиа Таралингова</td>\n",
       "      <td>some english text 123 wohoo yeaaah !!! xd</td>\n",
       "      <td>Ирник Топчийски</td>\n",
       "      <td>Generic</td>\n",
       "      <td>NaN</td>\n",
       "      <td>NaN</td>\n",
       "    </tr>\n",
       "    <tr>\n",
       "      <th>2019-07-22 15:09:55.550</th>\n",
       "      <td>Алексиа Таралингова</td>\n",
       "      <td>sh1okavica bum bam nqkvi dumi</td>\n",
       "      <td>Ирник Топчийски</td>\n",
       "      <td>Generic</td>\n",
       "      <td>NaN</td>\n",
       "      <td>NaN</td>\n",
       "    </tr>\n",
       "    <tr>\n",
       "      <th>2019-07-22 15:10:12.635</th>\n",
       "      <td>Алексиа Таралингова</td>\n",
       "      <td>данчо е супер пич 😎</td>\n",
       "      <td>Ирник Топчийски</td>\n",
       "      <td>Generic</td>\n",
       "      <td>NaN</td>\n",
       "      <td>NaN</td>\n",
       "    </tr>\n",
       "  </tbody>\n",
       "</table>\n",
       "</div>"
      ],
      "text/plain": [
       "                                 sender_name  \\\n",
       "timestamp                                      \n",
       "2019-07-22 15:08:48.294      Ирник Топчийски   \n",
       "2019-07-22 15:09:15.928  Алексиа Таралингова   \n",
       "2019-07-22 15:09:31.911  Алексиа Таралингова   \n",
       "2019-07-22 15:09:55.550  Алексиа Таралингова   \n",
       "2019-07-22 15:10:12.635  Алексиа Таралингова   \n",
       "\n",
       "                                                                   content  \\\n",
       "timestamp                                                                    \n",
       "2019-07-22 15:08:48.294  ако мн го закъсаш с събирането на съобщенията ...   \n",
       "2019-07-22 15:09:15.928  добре, чакай сега недей да пишеш за известно в...   \n",
       "2019-07-22 15:09:31.911          some english text 123 wohoo yeaaah !!! xd   \n",
       "2019-07-22 15:09:55.550                      sh1okavica bum bam nqkvi dumi   \n",
       "2019-07-22 15:10:12.635                                данчо е супер пич 😎   \n",
       "\n",
       "                             friend_name     type share reactions  \n",
       "timestamp                                                          \n",
       "2019-07-22 15:08:48.294  Ирник Топчийски  Generic   NaN       NaN  \n",
       "2019-07-22 15:09:15.928  Ирник Топчийски  Generic   NaN       NaN  \n",
       "2019-07-22 15:09:31.911  Ирник Топчийски  Generic   NaN       NaN  \n",
       "2019-07-22 15:09:55.550  Ирник Топчийски  Generic   NaN       NaN  \n",
       "2019-07-22 15:10:12.635  Ирник Топчийски  Generic   NaN       NaN  "
      ]
     },
     "execution_count": 28,
     "metadata": {},
     "output_type": "execute_result"
    }
   ],
   "source": [
    "mess.tail()"
   ]
  },
  {
   "cell_type": "markdown",
   "metadata": {},
   "source": [
    "### 5 Data visualization. Exploratory data analysis\n",
    "\n",
    "Our main source of data is the `content` column but that doesn't mean we can't get some useful information from the other, less important columns.\n",
    "\n",
    "Let's see what we have.\n",
    "\n",
    "#### 5.1 Reactions"
   ]
  },
  {
   "cell_type": "code",
   "execution_count": 29,
   "metadata": {},
   "outputs": [
    {
     "data": {
      "text/plain": [
       "timestamp\n",
       "2016-11-14 16:33:52.078    [{'reaction': '😠', 'actor': 'Алексиа Таралинго...\n",
       "2016-11-14 17:16:48.558       [{'reaction': '😢', 'actor': 'Сиена Катърова'}]\n",
       "2017-03-29 07:56:36.263    [{'reaction': '👍', 'actor': 'Алексиа Таралинго...\n",
       "2017-03-29 07:56:54.449      [{'reaction': '😮', 'actor': 'Г-ца Герой Муев'}]\n",
       "2017-03-29 14:11:03.267    [{'reaction': '👍', 'actor': 'Алексиа Таралинго...\n",
       "Name: reactions, dtype: object"
      ]
     },
     "execution_count": 29,
     "metadata": {},
     "output_type": "execute_result"
    }
   ],
   "source": [
    "mess[mess.reactions.notnull()].reactions.head()"
   ]
  },
  {
   "cell_type": "markdown",
   "metadata": {},
   "source": [
    "Apparently the reactions are a nested json object, so let's transform them into a proper dataframe."
   ]
  },
  {
   "cell_type": "code",
   "execution_count": 30,
   "metadata": {},
   "outputs": [],
   "source": [
    "reactions = mess[mess.reactions.notnull()].reactions.apply(pd.Series)"
   ]
  },
  {
   "cell_type": "code",
   "execution_count": 31,
   "metadata": {},
   "outputs": [
    {
     "data": {
      "text/html": [
       "<div>\n",
       "<style scoped>\n",
       "    .dataframe tbody tr th:only-of-type {\n",
       "        vertical-align: middle;\n",
       "    }\n",
       "\n",
       "    .dataframe tbody tr th {\n",
       "        vertical-align: top;\n",
       "    }\n",
       "\n",
       "    .dataframe thead th {\n",
       "        text-align: right;\n",
       "    }\n",
       "</style>\n",
       "<table border=\"1\" class=\"dataframe\">\n",
       "  <thead>\n",
       "    <tr style=\"text-align: right;\">\n",
       "      <th></th>\n",
       "      <th>0</th>\n",
       "      <th>1</th>\n",
       "    </tr>\n",
       "    <tr>\n",
       "      <th>timestamp</th>\n",
       "      <th></th>\n",
       "      <th></th>\n",
       "    </tr>\n",
       "  </thead>\n",
       "  <tbody>\n",
       "    <tr>\n",
       "      <th>2016-11-14 16:33:52.078</th>\n",
       "      <td>{'reaction': '😠', 'actor': 'Алексиа Таралингова'}</td>\n",
       "      <td>NaN</td>\n",
       "    </tr>\n",
       "    <tr>\n",
       "      <th>2016-11-14 17:16:48.558</th>\n",
       "      <td>{'reaction': '😢', 'actor': 'Сиена Катърова'}</td>\n",
       "      <td>NaN</td>\n",
       "    </tr>\n",
       "    <tr>\n",
       "      <th>2017-03-29 07:56:36.263</th>\n",
       "      <td>{'reaction': '👍', 'actor': 'Алексиа Таралингова'}</td>\n",
       "      <td>NaN</td>\n",
       "    </tr>\n",
       "    <tr>\n",
       "      <th>2017-03-29 07:56:54.449</th>\n",
       "      <td>{'reaction': '😮', 'actor': 'Г-ца Герой Муев'}</td>\n",
       "      <td>NaN</td>\n",
       "    </tr>\n",
       "    <tr>\n",
       "      <th>2017-03-29 14:11:03.267</th>\n",
       "      <td>{'reaction': '👍', 'actor': 'Алексиа Таралингова'}</td>\n",
       "      <td>NaN</td>\n",
       "    </tr>\n",
       "  </tbody>\n",
       "</table>\n",
       "</div>"
      ],
      "text/plain": [
       "                                                                         0  \\\n",
       "timestamp                                                                    \n",
       "2016-11-14 16:33:52.078  {'reaction': '😠', 'actor': 'Алексиа Таралингова'}   \n",
       "2016-11-14 17:16:48.558       {'reaction': '😢', 'actor': 'Сиена Катърова'}   \n",
       "2017-03-29 07:56:36.263  {'reaction': '👍', 'actor': 'Алексиа Таралингова'}   \n",
       "2017-03-29 07:56:54.449      {'reaction': '😮', 'actor': 'Г-ца Герой Муев'}   \n",
       "2017-03-29 14:11:03.267  {'reaction': '👍', 'actor': 'Алексиа Таралингова'}   \n",
       "\n",
       "                           1  \n",
       "timestamp                     \n",
       "2016-11-14 16:33:52.078  NaN  \n",
       "2016-11-14 17:16:48.558  NaN  \n",
       "2017-03-29 07:56:36.263  NaN  \n",
       "2017-03-29 07:56:54.449  NaN  \n",
       "2017-03-29 14:11:03.267  NaN  "
      ]
     },
     "execution_count": 31,
     "metadata": {},
     "output_type": "execute_result"
    }
   ],
   "source": [
    "reactions.head()"
   ]
  },
  {
   "cell_type": "markdown",
   "metadata": {},
   "source": [
    "It appears we have two sets of reactions."
   ]
  },
  {
   "cell_type": "code",
   "execution_count": 32,
   "metadata": {},
   "outputs": [
    {
     "data": {
      "text/html": [
       "<div>\n",
       "<style scoped>\n",
       "    .dataframe tbody tr th:only-of-type {\n",
       "        vertical-align: middle;\n",
       "    }\n",
       "\n",
       "    .dataframe tbody tr th {\n",
       "        vertical-align: top;\n",
       "    }\n",
       "\n",
       "    .dataframe thead th {\n",
       "        text-align: right;\n",
       "    }\n",
       "</style>\n",
       "<table border=\"1\" class=\"dataframe\">\n",
       "  <thead>\n",
       "    <tr style=\"text-align: right;\">\n",
       "      <th></th>\n",
       "      <th>0</th>\n",
       "      <th>1</th>\n",
       "    </tr>\n",
       "    <tr>\n",
       "      <th>timestamp</th>\n",
       "      <th></th>\n",
       "      <th></th>\n",
       "    </tr>\n",
       "  </thead>\n",
       "  <tbody>\n",
       "    <tr>\n",
       "      <th>2017-04-02 10:20:05.366</th>\n",
       "      <td>{'reaction': '😠', 'actor': 'Алексиа Таралингова'}</td>\n",
       "      <td>{'reaction': '😆', 'actor': 'Г-ца Натко Пъков'}</td>\n",
       "    </tr>\n",
       "    <tr>\n",
       "      <th>2019-06-09 15:37:37.296</th>\n",
       "      <td>{'reaction': '😢', 'actor': 'Алексиа Таралингова'}</td>\n",
       "      <td>{'reaction': '😢', 'actor': 'Сиена Катърова'}</td>\n",
       "    </tr>\n",
       "  </tbody>\n",
       "</table>\n",
       "</div>"
      ],
      "text/plain": [
       "                                                                         0  \\\n",
       "timestamp                                                                    \n",
       "2017-04-02 10:20:05.366  {'reaction': '😠', 'actor': 'Алексиа Таралингова'}   \n",
       "2019-06-09 15:37:37.296  {'reaction': '😢', 'actor': 'Алексиа Таралингова'}   \n",
       "\n",
       "                                                                      1  \n",
       "timestamp                                                                \n",
       "2017-04-02 10:20:05.366  {'reaction': '😆', 'actor': 'Г-ца Натко Пъков'}  \n",
       "2019-06-09 15:37:37.296    {'reaction': '😢', 'actor': 'Сиена Катърова'}  "
      ]
     },
     "execution_count": 32,
     "metadata": {},
     "output_type": "execute_result"
    }
   ],
   "source": [
    "reactions[reactions[1].notna()]"
   ]
  },
  {
   "cell_type": "markdown",
   "metadata": {},
   "source": [
    "One from the person who reacted to the message of his friend and one from the friend, reacting to his own message."
   ]
  },
  {
   "cell_type": "code",
   "execution_count": 33,
   "metadata": {},
   "outputs": [
    {
     "name": "stdout",
     "output_type": "stream",
     "text": [
      "Percent of total reaction count: 0.26 %\n"
     ]
    }
   ],
   "source": [
    "print(f\"Percent of total reaction count: {len(reactions[reactions[1].notna()]) / len(reactions) * 100:.2f} %\")"
   ]
  },
  {
   "cell_type": "markdown",
   "metadata": {},
   "source": [
    "These values appear to be an anomaly in our dataset and we can safely drop them."
   ]
  },
  {
   "cell_type": "code",
   "execution_count": 34,
   "metadata": {},
   "outputs": [],
   "source": [
    "reactions = reactions[0].apply(pd.Series)"
   ]
  },
  {
   "cell_type": "code",
   "execution_count": 35,
   "metadata": {},
   "outputs": [
    {
     "data": {
      "text/html": [
       "<div>\n",
       "<style scoped>\n",
       "    .dataframe tbody tr th:only-of-type {\n",
       "        vertical-align: middle;\n",
       "    }\n",
       "\n",
       "    .dataframe tbody tr th {\n",
       "        vertical-align: top;\n",
       "    }\n",
       "\n",
       "    .dataframe thead th {\n",
       "        text-align: right;\n",
       "    }\n",
       "</style>\n",
       "<table border=\"1\" class=\"dataframe\">\n",
       "  <thead>\n",
       "    <tr style=\"text-align: right;\">\n",
       "      <th></th>\n",
       "      <th>reaction</th>\n",
       "      <th>actor</th>\n",
       "    </tr>\n",
       "    <tr>\n",
       "      <th>timestamp</th>\n",
       "      <th></th>\n",
       "      <th></th>\n",
       "    </tr>\n",
       "  </thead>\n",
       "  <tbody>\n",
       "    <tr>\n",
       "      <th>2016-11-14 16:33:52.078</th>\n",
       "      <td>😠</td>\n",
       "      <td>Алексиа Таралингова</td>\n",
       "    </tr>\n",
       "    <tr>\n",
       "      <th>2016-11-14 17:16:48.558</th>\n",
       "      <td>😢</td>\n",
       "      <td>Сиена Катърова</td>\n",
       "    </tr>\n",
       "    <tr>\n",
       "      <th>2017-03-29 07:56:36.263</th>\n",
       "      <td>👍</td>\n",
       "      <td>Алексиа Таралингова</td>\n",
       "    </tr>\n",
       "    <tr>\n",
       "      <th>2017-03-29 07:56:54.449</th>\n",
       "      <td>😮</td>\n",
       "      <td>Г-ца Герой Муев</td>\n",
       "    </tr>\n",
       "    <tr>\n",
       "      <th>2017-03-29 14:11:03.267</th>\n",
       "      <td>👍</td>\n",
       "      <td>Алексиа Таралингова</td>\n",
       "    </tr>\n",
       "  </tbody>\n",
       "</table>\n",
       "</div>"
      ],
      "text/plain": [
       "                        reaction                actor\n",
       "timestamp                                            \n",
       "2016-11-14 16:33:52.078        😠  Алексиа Таралингова\n",
       "2016-11-14 17:16:48.558        😢       Сиена Катърова\n",
       "2017-03-29 07:56:36.263        👍  Алексиа Таралингова\n",
       "2017-03-29 07:56:54.449        😮      Г-ца Герой Муев\n",
       "2017-03-29 14:11:03.267        👍  Алексиа Таралингова"
      ]
     },
     "execution_count": 35,
     "metadata": {},
     "output_type": "execute_result"
    }
   ],
   "source": [
    "reactions.head()"
   ]
  },
  {
   "cell_type": "markdown",
   "metadata": {},
   "source": [
    "We haven't done any visualizations yet. These colorful emojis would make for the perfect first histogram of the notebook."
   ]
  },
  {
   "cell_type": "code",
   "execution_count": 36,
   "metadata": {},
   "outputs": [
    {
     "name": "stdout",
     "output_type": "stream",
     "text": [
      "👍👍👍👍👍👍👍👍👍👍👍👍👍👍👍👍👍👍👍👍👍👍👍👍👍👍👍👍👍👍👍👍👍👍👍👍👍👍👍👍👍👍👍👍👍👍👍👍👍👍👍👍👍👍👍👍👍👍👍👍👍👍👍👍👍👍👍👍👍👍👍👍👍👍👍👍👍👍👍👍👍👍👍👍👍👍👍👍👍👍👍👍👍👍👍👍👍👍👍👍👍👍👍👍👍👍👍👍👍👍👍👍👍👍👍👍👍👍👍👍👍👍👍👍👍👍👍👍👍👍👍👍👍👍👍👍👍👍👍👍👍👍👍👍👍👍👍👍👍👍👍👍👍👍👍👍👍👍👍👍👍👍👍👍👍👍👍👍👍👍👍👍👍👍👍👍👍👍👍👍👍👍👍👍👍👍👍👍👍👍👍👍👍👍👍👍👍👍👍👍👍👍👍👍👍👍👍👍👍👍👍👍👍👍👍👍👍👍👍👍👍👍👍👍👍👍👍👍👍👍👍👍👍👍👍👍👍👍👍👍👍👍👍👍👍👍👍👍👍👍👍👍👍👍👍👍👍👍👍👍👍👍👍👍👍👍👍👍👍👍👍👍👍👍👍👍\n",
      "count: 276\n",
      "\n",
      "😆😆😆😆😆😆😆😆😆😆😆😆😆😆😆😆😆😆😆😆😆😆😆😆😆😆😆😆😆😆😆😆😆😆😆😆😆😆😆😆😆😆😆😆😆😆😆😆😆😆😆😆😆😆😆😆😆😆😆😆😆😆😆😆😆😆😆😆😆😆😆😆😆😆😆😆😆😆😆😆😆😆😆😆😆😆😆😆😆😆😆😆😆😆😆😆😆😆😆😆😆😆😆😆😆😆😆😆😆😆😆😆😆😆😆😆😆😆😆😆😆😆😆😆😆😆😆😆😆😆😆😆😆😆😆😆😆😆😆😆😆😆😆😆😆😆😆😆😆😆😆😆😆😆😆😆😆😆😆😆😆😆😆😆😆😆😆😆😆😆😆😆😆😆😆😆😆😆😆😆😆😆😆😆😆😆😆😆😆😆😆😆😆😆😆😆😆\n",
      "count: 197\n",
      "\n",
      "😍😍😍😍😍😍😍😍😍😍😍😍😍😍😍😍😍😍😍😍😍😍😍😍😍😍😍😍😍😍😍😍😍😍😍😍😍😍😍😍😍😍😍😍😍😍😍😍😍😍😍😍😍😍😍😍😍😍😍😍😍😍😍😍😍😍😍😍😍😍😍😍😍😍😍😍😍😍😍😍😍😍😍😍😍😍😍😍😍\n",
      "count: 89\n",
      "\n",
      "😮😮😮😮😮😮😮😮😮😮😮😮😮😮😮😮😮😮😮😮😮😮😮😮😮😮😮😮😮😮😮😮😮😮😮😮😮😮😮😮😮😮😮😮😮😮😮😮😮😮😮😮😮😮😮😮😮😮😮😮😮😮😮😮😮😮😮😮😮😮😮😮😮😮😮😮😮😮😮😮😮😮😮😮😮😮😮\n",
      "count: 87\n",
      "\n",
      "😢😢😢😢😢😢😢😢😢😢😢😢😢😢😢😢😢😢😢😢😢😢😢😢😢😢😢😢😢😢😢😢😢😢😢😢😢😢😢😢😢😢😢😢😢😢😢😢😢😢😢😢😢😢😢😢😢😢😢😢😢😢😢\n",
      "count: 63\n",
      "\n",
      "😠😠😠😠😠😠😠😠😠😠😠😠😠😠😠😠😠😠😠😠😠😠😠😠😠😠😠😠😠😠😠😠😠😠😠😠😠😠😠😠😠😠😠😠😠😠😠😠😠😠\n",
      "count: 50\n",
      "\n",
      "👎👎👎👎👎👎👎👎👎👎👎👎👎👎👎\n",
      "count: 15\n",
      "\n"
     ]
    }
   ],
   "source": [
    "for emoji, count in reactions.reaction.value_counts().items():\n",
    "    for _ in range(count):\n",
    "        print(emoji, end='')\n",
    "    print(f'\\ncount: {count}\\n')"
   ]
  },
  {
   "cell_type": "markdown",
   "metadata": {},
   "source": [
    "Okay, this is a pretty fun way to visualize data, but it can be misleading because the shape of each emoji is different and the rows of emojis in our pseudo-bars are not even complete.\n",
    "\n",
    "Let's do it the right way and make a histogram. "
   ]
  },
  {
   "cell_type": "markdown",
   "metadata": {},
   "source": [
    "Matplotlib has trouble displaying some of the emojis so we will transform them in a histogram-friendly format."
   ]
  },
  {
   "cell_type": "code",
   "execution_count": 37,
   "metadata": {},
   "outputs": [
    {
     "name": "stdout",
     "output_type": "stream",
     "text": [
      "['😠' '😢' '👍' '😮' '👎' '😍' '😆']\n"
     ]
    }
   ],
   "source": [
    "reacts = reactions.reaction.unique()\n",
    "print(reacts)"
   ]
  },
  {
   "cell_type": "code",
   "execution_count": 38,
   "metadata": {},
   "outputs": [],
   "source": [
    "hist_friendly = reactions.reaction.replace(reacts, [\">:[\", \":'(\", \"b\", \":o\", \"q\", \"(@_@)\", \":D\"])"
   ]
  },
  {
   "cell_type": "code",
   "execution_count": 39,
   "metadata": {},
   "outputs": [
    {
     "data": {
      "image/png": "[encoded data removed]",
      "text/plain": [
       "<Figure size 432x288 with 1 Axes>"
      ]
     },
     "metadata": {
      "needs_background": "light"
     },
     "output_type": "display_data"
    }
   ],
   "source": [
    "plt.hist(hist_friendly.values, bins=len(reacts))\n",
    "plt.title(\"Frequency of reactions in dataset\")\n",
    "plt.xlabel(\"Reaction type\")\n",
    "plt.ylabel(\"Count\")\n",
    "plt.show()"
   ]
  },
  {
   "cell_type": "markdown",
   "metadata": {},
   "source": [
    "We can also check who the top 10 reacters are."
   ]
  },
  {
   "cell_type": "code",
   "execution_count": 40,
   "metadata": {},
   "outputs": [
    {
     "data": {
      "image/png": "[encoded data removed]",
      "text/plain": [
       "<Figure size 432x288 with 1 Axes>"
      ]
     },
     "metadata": {
      "needs_background": "light"
     },
     "output_type": "display_data"
    }
   ],
   "source": [
    "plt.barh(reactions.actor.value_counts()[9::-1].keys(), reactions.actor.value_counts()[9::-1].values)\n",
    "plt.title(\"Top 10 reacters\")\n",
    "plt.xlabel(\"Amount of reactions\")\n",
    "plt.show()"
   ]
  },
  {
   "cell_type": "markdown",
   "metadata": {},
   "source": [
    "Oops, of course my name will be on top of the list. After all, my reactions should be approximately equal to the sum of the rest of the reactions, assuming we have large enough data."
   ]
  },
  {
   "cell_type": "code",
   "execution_count": 41,
   "metadata": {},
   "outputs": [
    {
     "name": "stdout",
     "output_type": "stream",
     "text": [
      "My reacts: 389 ~ Rest of reacts: 388\n"
     ]
    }
   ],
   "source": [
    "print(f\"My reacts: {reactions[reactions.actor==ME].reaction.count()} ~ \\\n",
    "Rest of reacts: {reactions[reactions.actor!=ME].reaction.count()}\")"
   ]
  },
  {
   "cell_type": "markdown",
   "metadata": {},
   "source": [
    "We can treat my name like an outlier and get rid of it for a more accurate representation of the data."
   ]
  },
  {
   "cell_type": "code",
   "execution_count": 42,
   "metadata": {},
   "outputs": [
    {
     "data": {
      "image/png": "[encoded data removed]",
      "text/plain": [
       "<Figure size 432x288 with 1 Axes>"
      ]
     },
     "metadata": {
      "needs_background": "light"
     },
     "output_type": "display_data"
    }
   ],
   "source": [
    "plt.barh(reactions.actor.value_counts()[10:0:-1].keys(), reactions.actor.value_counts()[10:0:-1].values)\n",
    "plt.title(\"Top 10 reacting friends\")\n",
    "plt.xlabel(\"Amount of reactions\")\n",
    "plt.show()"
   ]
  },
  {
   "cell_type": "markdown",
   "metadata": {},
   "source": [
    "But that's still not of much use to us. We want to find the best match, not the person who reacts to our messages the most. We can take a look at the sum of our reactions and our friends reactions in a conversation."
   ]
  },
  {
   "cell_type": "code",
   "execution_count": 43,
   "metadata": {},
   "outputs": [
    {
     "data": {
      "image/png": "[encoded data removed]",
      "text/plain": [
       "<Figure size 432x288 with 1 Axes>"
      ]
     },
     "metadata": {
      "needs_background": "light"
     },
     "output_type": "display_data"
    }
   ],
   "source": [
    "plt.barh(mess[mess.reactions.notna()].friend_name.value_counts()[10::-1].keys(), mess[mess.reactions.notna()].friend_name.value_counts()[10::-1].values)\n",
    "plt.title(\"Top 10 friends we exchanged reactions with\")\n",
    "plt.xlabel(\"Amount of reactions\")\n",
    "plt.show()"
   ]
  },
  {
   "cell_type": "markdown",
   "metadata": {},
   "source": [
    "So this is one option for matchaking. There's obviously some sort of emotional connection here between the topmost reactees and me. Or maybe not, let's continue exploring."
   ]
  },
  {
   "cell_type": "code",
   "execution_count": 44,
   "metadata": {},
   "outputs": [],
   "source": [
    "mess.drop(columns=['reactions'], inplace=True)"
   ]
  },
  {
   "cell_type": "markdown",
   "metadata": {},
   "source": [
    "#### 5.2 Links"
   ]
  },
  {
   "cell_type": "markdown",
   "metadata": {},
   "source": [
    "How about the `share` column? We saw a teaser of its content when we checked all the messages of type \"Share\". Let's have a closer look."
   ]
  },
  {
   "cell_type": "code",
   "execution_count": 45,
   "metadata": {},
   "outputs": [
    {
     "data": {
      "text/html": [
       "<div>\n",
       "<style scoped>\n",
       "    .dataframe tbody tr th:only-of-type {\n",
       "        vertical-align: middle;\n",
       "    }\n",
       "\n",
       "    .dataframe tbody tr th {\n",
       "        vertical-align: top;\n",
       "    }\n",
       "\n",
       "    .dataframe thead th {\n",
       "        text-align: right;\n",
       "    }\n",
       "</style>\n",
       "<table border=\"1\" class=\"dataframe\">\n",
       "  <thead>\n",
       "    <tr style=\"text-align: right;\">\n",
       "      <th></th>\n",
       "      <th>link</th>\n",
       "      <th>share_text</th>\n",
       "    </tr>\n",
       "    <tr>\n",
       "      <th>timestamp</th>\n",
       "      <th></th>\n",
       "      <th></th>\n",
       "    </tr>\n",
       "  </thead>\n",
       "  <tbody>\n",
       "    <tr>\n",
       "      <th>2010-07-16 10:09:14.000</th>\n",
       "      <td>http://gdata.youtube.com/feeds/api/videos/McTp...</td>\n",
       "      <td>NaN</td>\n",
       "    </tr>\n",
       "    <tr>\n",
       "      <th>2010-10-08 19:36:37.000</th>\n",
       "      <td>http://www.facebook.com/help/identify.php?show...</td>\n",
       "      <td>NaN</td>\n",
       "    </tr>\n",
       "    <tr>\n",
       "      <th>2010-12-05 22:32:28.000</th>\n",
       "      <td>http://gdata.youtube.com/feeds/api/videos/AmOi...</td>\n",
       "      <td>NaN</td>\n",
       "    </tr>\n",
       "    <tr>\n",
       "      <th>2011-03-16 19:17:24.000</th>\n",
       "      <td>http://subs.sab.bz/index.php?s=c8985318b46627e...</td>\n",
       "      <td>NaN</td>\n",
       "    </tr>\n",
       "    <tr>\n",
       "      <th>2011-11-11 11:54:08.555</th>\n",
       "      <td>http://www.zamunda.net/details.php?id=286556&amp;h...</td>\n",
       "      <td>NaN</td>\n",
       "    </tr>\n",
       "  </tbody>\n",
       "</table>\n",
       "</div>"
      ],
      "text/plain": [
       "                                                                      link  \\\n",
       "timestamp                                                                    \n",
       "2010-07-16 10:09:14.000  http://gdata.youtube.com/feeds/api/videos/McTp...   \n",
       "2010-10-08 19:36:37.000  http://www.facebook.com/help/identify.php?show...   \n",
       "2010-12-05 22:32:28.000  http://gdata.youtube.com/feeds/api/videos/AmOi...   \n",
       "2011-03-16 19:17:24.000  http://subs.sab.bz/index.php?s=c8985318b46627e...   \n",
       "2011-11-11 11:54:08.555  http://www.zamunda.net/details.php?id=286556&h...   \n",
       "\n",
       "                        share_text  \n",
       "timestamp                           \n",
       "2010-07-16 10:09:14.000        NaN  \n",
       "2010-10-08 19:36:37.000        NaN  \n",
       "2010-12-05 22:32:28.000        NaN  \n",
       "2011-03-16 19:17:24.000        NaN  \n",
       "2011-11-11 11:54:08.555        NaN  "
      ]
     },
     "execution_count": 45,
     "metadata": {},
     "output_type": "execute_result"
    }
   ],
   "source": [
    "links = mess[mess.share.notnull()].share.apply(pd.Series)\n",
    "links.head()"
   ]
  },
  {
   "cell_type": "markdown",
   "metadata": {},
   "source": [
    "As we suspected, it contains a link and some column `share_text`."
   ]
  },
  {
   "cell_type": "code",
   "execution_count": 46,
   "metadata": {},
   "outputs": [
    {
     "data": {
      "text/html": [
       "<div>\n",
       "<style scoped>\n",
       "    .dataframe tbody tr th:only-of-type {\n",
       "        vertical-align: middle;\n",
       "    }\n",
       "\n",
       "    .dataframe tbody tr th {\n",
       "        vertical-align: top;\n",
       "    }\n",
       "\n",
       "    .dataframe thead th {\n",
       "        text-align: right;\n",
       "    }\n",
       "</style>\n",
       "<table border=\"1\" class=\"dataframe\">\n",
       "  <thead>\n",
       "    <tr style=\"text-align: right;\">\n",
       "      <th></th>\n",
       "      <th>link</th>\n",
       "      <th>share_text</th>\n",
       "    </tr>\n",
       "    <tr>\n",
       "      <th>timestamp</th>\n",
       "      <th></th>\n",
       "      <th></th>\n",
       "    </tr>\n",
       "  </thead>\n",
       "  <tbody>\n",
       "    <tr>\n",
       "      <th>2018-07-23 10:32:20.082</th>\n",
       "      <td>NaN</td>\n",
       "      <td>Last update Jul 23</td>\n",
       "    </tr>\n",
       "    <tr>\n",
       "      <th>2018-09-02 14:12:18.566</th>\n",
       "      <td>NaN</td>\n",
       "      <td>Last update Sep 2</td>\n",
       "    </tr>\n",
       "    <tr>\n",
       "      <th>2018-11-04 02:41:57.917</th>\n",
       "      <td>https://www.facebook.com/TryNotToCryDM/posts/2...</td>\n",
       "      <td>Daily Mail</td>\n",
       "    </tr>\n",
       "    <tr>\n",
       "      <th>2019-05-28 18:02:06.854</th>\n",
       "      <td>NaN</td>\n",
       "      <td>Last update May 28</td>\n",
       "    </tr>\n",
       "  </tbody>\n",
       "</table>\n",
       "</div>"
      ],
      "text/plain": [
       "                                                                      link  \\\n",
       "timestamp                                                                    \n",
       "2018-07-23 10:32:20.082                                                NaN   \n",
       "2018-09-02 14:12:18.566                                                NaN   \n",
       "2018-11-04 02:41:57.917  https://www.facebook.com/TryNotToCryDM/posts/2...   \n",
       "2019-05-28 18:02:06.854                                                NaN   \n",
       "\n",
       "                                 share_text  \n",
       "timestamp                                    \n",
       "2018-07-23 10:32:20.082  Last update Jul 23  \n",
       "2018-09-02 14:12:18.566   Last update Sep 2  \n",
       "2018-11-04 02:41:57.917          Daily Mail  \n",
       "2019-05-28 18:02:06.854  Last update May 28  "
      ]
     },
     "execution_count": 46,
     "metadata": {},
     "output_type": "execute_result"
    }
   ],
   "source": [
    "links[links.share_text.notna()]"
   ]
  },
  {
   "cell_type": "markdown",
   "metadata": {},
   "source": [
    "Yeah, we don't need the `share_text` column, but how about the links themselves?\n",
    "\n",
    "If facebook extracts all the links from the messages correctly, then that can come in handy when we're processing the `content`.\n",
    "We can check if that is the case by applying our own regex counter on the content and see if there are any links that facebook missed."
   ]
  },
  {
   "cell_type": "markdown",
   "metadata": {},
   "source": [
    "Before we take facebook's parsing skills to the test, let's do a qick test of ours. We will assume that the links that facebook already parsed are 100% valid."
   ]
  },
  {
   "cell_type": "code",
   "execution_count": 47,
   "metadata": {},
   "outputs": [
    {
     "name": "stdout",
     "output_type": "stream",
     "text": [
      "Our precision is 100.0 %\n"
     ]
    }
   ],
   "source": [
    "test_count_by_us = links.link.str.count(r'https?:\\/\\/\\S*').sum()\n",
    "test_count_by_fb = links.link.dropna().count()\n",
    "\n",
    "precision = test_count_by_us / test_count_by_fb\n",
    "\n",
    "print(f\"Our precision is {precision*100} %\")"
   ]
  },
  {
   "cell_type": "markdown",
   "metadata": {},
   "source": [
    "Great, it matches all the parsed links but does it work with the `content` column?"
   ]
  },
  {
   "cell_type": "code",
   "execution_count": 48,
   "metadata": {},
   "outputs": [],
   "source": [
    "our_links_in_content = mess.content[mess.type=='Share'].str.extractall(r'(https?:\\/\\/\\S*)')[0]\n",
    "fb_links_in_shared = links.link.dropna()"
   ]
  },
  {
   "cell_type": "code",
   "execution_count": 49,
   "metadata": {},
   "outputs": [
    {
     "data": {
      "text/plain": [
       "False    3862\n",
       "True      919\n",
       "Name: 0, dtype: int64"
      ]
     },
     "execution_count": 49,
     "metadata": {},
     "output_type": "execute_result"
    }
   ],
   "source": [
    "our_links_in_content.isin(fb_links_in_shared).value_counts()"
   ]
  },
  {
   "cell_type": "markdown",
   "metadata": {},
   "source": [
    "Oops, is our regex broken? Or is there a difference in the way facebook stores the links in the `share` column with the raw links in `content`. Let's try a different approach."
   ]
  },
  {
   "cell_type": "code",
   "execution_count": 50,
   "metadata": {},
   "outputs": [
    {
     "data": {
      "text/plain": [
       "www.youtube.com     2331\n",
       "www.facebook.com     834\n",
       "youtu.be              93\n",
       "www.reddit.com        79\n",
       "i.imgur.com           72\n",
       "drive.google.com      63\n",
       "soundcloud.com        42\n",
       "Name: 0, dtype: int64"
      ]
     },
     "execution_count": 50,
     "metadata": {},
     "output_type": "execute_result"
    }
   ],
   "source": [
    "our_simplified_links_in_content = our_links_in_content.apply(lambda x: urlparse(x).netloc)\n",
    "our_simplified_links_in_content.value_counts().head(7)"
   ]
  },
  {
   "cell_type": "code",
   "execution_count": 51,
   "metadata": {},
   "outputs": [
    {
     "data": {
      "text/plain": [
       "www.youtube.com     2445\n",
       "www.facebook.com     874\n",
       "www.reddit.com        83\n",
       "i.imgur.com           64\n",
       "drive.google.com      58\n",
       "soundcloud.com        42\n",
       "xkcd.com              38\n",
       "Name: link, dtype: int64"
      ]
     },
     "execution_count": 51,
     "metadata": {},
     "output_type": "execute_result"
    }
   ],
   "source": [
    "fb_simplified_links_in_shared = fb_links_in_shared.apply(lambda x: urlparse(x).netloc)\n",
    "fb_simplified_links_in_shared.value_counts().head(7)"
   ]
  },
  {
   "cell_type": "markdown",
   "metadata": {},
   "source": [
    "Ah, in our top links we have both \"<span>www</span>.youtube.com\" and \"youtu.be\", while facebook detects it's the same website and combines them both."
   ]
  },
  {
   "cell_type": "code",
   "execution_count": 52,
   "metadata": {},
   "outputs": [
    {
     "data": {
      "text/plain": [
       "4781"
      ]
     },
     "execution_count": 52,
     "metadata": {},
     "output_type": "execute_result"
    }
   ],
   "source": [
    "our_simplified_links_in_content.count()"
   ]
  },
  {
   "cell_type": "code",
   "execution_count": 53,
   "metadata": {},
   "outputs": [
    {
     "data": {
      "text/plain": [
       "4880"
      ]
     },
     "execution_count": 53,
     "metadata": {},
     "output_type": "execute_result"
    }
   ],
   "source": [
    "fb_simplified_links_in_shared.count()"
   ]
  },
  {
   "cell_type": "markdown",
   "metadata": {},
   "source": [
    "Nevertheless we can detect most of the links and that's enough to check if there are any in the messages of type \"Generic\"."
   ]
  },
  {
   "cell_type": "code",
   "execution_count": 54,
   "metadata": {},
   "outputs": [
    {
     "name": "stdout",
     "output_type": "stream",
     "text": [
      "Links that Facebook missed: 6263\n"
     ]
    }
   ],
   "source": [
    "links_in_generic = mess.content[mess.type=='Generic'].str.extractall(r'(https?:\\/\\/\\S*)')\n",
    "print(\"Links that Facebook missed:\", int(links_in_generic.count()))"
   ]
  },
  {
   "cell_type": "markdown",
   "metadata": {},
   "source": [
    "Yes, indeed, we can not trust facebook's parsing of links as there is a staggering amount of them in the \"Generic\" type messages."
   ]
  },
  {
   "cell_type": "markdown",
   "metadata": {},
   "source": [
    "Looks like facebook sent us on a wild goose chase with this `share` column as it's better to just parse the links of the messages ourselves. "
   ]
  },
  {
   "cell_type": "code",
   "execution_count": 55,
   "metadata": {},
   "outputs": [],
   "source": [
    "mess.drop(columns=['type', 'share'], inplace=True)\n",
    "mess.content.dropna(inplace=True)"
   ]
  },
  {
   "cell_type": "markdown",
   "metadata": {},
   "source": [
    "Since we already have all the links, let's do something fun with them."
   ]
  },
  {
   "cell_type": "code",
   "execution_count": 56,
   "metadata": {},
   "outputs": [],
   "source": [
    "combined_links = pd.concat([links_in_generic, our_links_in_content], levels=0)[0]\n",
    "\n",
    "all_links = combined_links.apply(lambda x: urlparse(x).netloc)\n",
    "all_links = all_links.sort_index()\n",
    "\n",
    "all_protocols = combined_links.apply(lambda x: urlparse(x).scheme)\n",
    "all_protocols = all_protocols.sort_index()\n",
    "\n",
    "top_level_domains = combined_links.apply(lambda x: urlparse(x).netloc.split('.')[-1].split(':')[0])"
   ]
  },
  {
   "cell_type": "markdown",
   "metadata": {},
   "source": [
    "Can you guess my nationality?"
   ]
  },
  {
   "cell_type": "code",
   "execution_count": 57,
   "metadata": {},
   "outputs": [
    {
     "data": {
      "image/png": "[encoded data removed]",
      "text/plain": [
       "<Figure size 432x288 with 1 Axes>"
      ]
     },
     "metadata": {
      "needs_background": "light"
     },
     "output_type": "display_data"
    }
   ],
   "source": [
    "top_tld = top_level_domains[~top_level_domains.isin(['com', 'net'])].value_counts().nlargest(5)\n",
    "plt.barh(top_tld.keys()[::-1], top_tld.values[::-1])\n",
    "plt.title('Top level domains\\n(excluding .com and .net)')\n",
    "plt.xlabel('Count')\n",
    "plt.show()"
   ]
  },
  {
   "cell_type": "markdown",
   "metadata": {},
   "source": [
    "How much time does it take to secure the internet?"
   ]
  },
  {
   "cell_type": "code",
   "execution_count": 58,
   "metadata": {},
   "outputs": [
    {
     "data": {
      "image/png": "[encoded data removed]",
      "text/plain": [
       "<Figure size 1080x576 with 1 Axes>"
      ]
     },
     "metadata": {
      "needs_background": "light"
     },
     "output_type": "display_data"
    }
   ],
   "source": [
    "plt.figure(figsize=(15, 8))\n",
    "\n",
    "for value in ['http', 'https']:\n",
    "    line = all_protocols[all_protocols.values==value].reset_index()\n",
    "    plt.plot(line.timestamp, line.index)\n",
    "\n",
    "plt.title('Protocol used in links over time')\n",
    "plt.xlabel('Year')\n",
    "plt.ylabel('Count of protocol')   \n",
    "plt.legend(['http', 'https'])\n",
    "plt.show()"
   ]
  },
  {
   "cell_type": "markdown",
   "metadata": {},
   "source": [
    "Can you pinpoint the moment I started coding?"
   ]
  },
  {
   "cell_type": "code",
   "execution_count": 59,
   "metadata": {},
   "outputs": [
    {
     "data": {
      "image/png": "[encoded data removed]",
      "text/plain": [
       "<Figure size 1080x576 with 1 Axes>"
      ]
     },
     "metadata": {
      "needs_background": "light"
     },
     "output_type": "display_data"
    }
   ],
   "source": [
    "plt.figure(figsize=(15, 8))\n",
    "                                # Year\n",
    "top_links_list = list(all_links[(all_links.index.get_level_values(0).year==2019) &\n",
    "                                # Excluding\n",
    "                                (~all_links.isin(['www.youtube.com', 'www.facebook.com', 'youtu.be']))]\\\n",
    "                                # Top n  \n",
    "                                .value_counts().nlargest(8).keys())\n",
    "\n",
    "top_links = all_links[all_links.isin(top_links_list)]\n",
    "for value in top_links_list:\n",
    "    line = top_links[top_links.values==value].reset_index()\n",
    "    plt.plot(line.timestamp, line.index)\n",
    "    \n",
    "plt.title('Top links for 2019 over time\\n(excluding Youtube and Facebook)')\n",
    "plt.xlabel('Year')\n",
    "plt.ylabel('Count of links')\n",
    "plt.legend(top_links_list)\n",
    "plt.show()"
   ]
  },
  {
   "cell_type": "markdown",
   "metadata": {},
   "source": [
    "### 6 Word processing"
   ]
  },
  {
   "cell_type": "markdown",
   "metadata": {},
   "source": [
    "Now we are at the meat of the matter. Each message consists of multiple words. We want to process the words, not the whole message. But if we apply a split we get a list for each row in the dataset and iterating over list objects is extremely inefficient way of doing any kind of word processing. To solve this problem, we will split all the words into separate rows.\n",
    "\n",
    "Before we do that, however, we need to get the top senders, because it will take too much time to split the words into rows if we take into acount all the friends. And besides, the top message sending people in our dataset are most likely our best friends or just people we click with, thus making them the best candidates for a match."
   ]
  },
  {
   "cell_type": "markdown",
   "metadata": {},
   "source": [
    "#### 6.1 Best friends\n",
    "The count of messages is not representative for the amount a person texts, because some people write longer messages than others. For this reason we will count the words in each message as a measure of text written."
   ]
  },
  {
   "cell_type": "code",
   "execution_count": 60,
   "metadata": {},
   "outputs": [],
   "source": [
    "# Just a rough estimate\n",
    "count_of_words = mess.content.str.count(r\"\\w+\")\n",
    "mess['wordcount_regex'] = count_of_words"
   ]
  },
  {
   "cell_type": "markdown",
   "metadata": {},
   "source": [
    "But should we group by amount of text exchanged between me and them or by the top senders?"
   ]
  },
  {
   "cell_type": "code",
   "execution_count": 61,
   "metadata": {},
   "outputs": [
    {
     "data": {
      "image/png": "[encoded data removed]",
      "text/plain": [
       "<Figure size 432x288 with 1 Axes>"
      ]
     },
     "metadata": {
      "needs_background": "light"
     },
     "output_type": "display_data"
    }
   ],
   "source": [
    "grouped_by_sender = mess.groupby(mess.sender_name).wordcount_regex.sum()\n",
    "plt.barh(grouped_by_sender.nlargest(15)[:0:-1].index, grouped_by_sender.nlargest(15)[:0:-1].values)\n",
    "plt.title(\"Words sent\\n(Excluding me)\")\n",
    "plt.xlabel(\"Count of words\")\n",
    "plt.show()"
   ]
  },
  {
   "cell_type": "code",
   "execution_count": 62,
   "metadata": {},
   "outputs": [
    {
     "data": {
      "image/png": "[encoded data removed]",
      "text/plain": [
       "<Figure size 432x288 with 1 Axes>"
      ]
     },
     "metadata": {
      "needs_background": "light"
     },
     "output_type": "display_data"
    }
   ],
   "source": [
    "grouped_by_friend = mess.groupby(mess.friend_name).wordcount_regex.sum()\n",
    "plt.barh(grouped_by_friend.nlargest(15)[::-1].index, grouped_by_friend.nlargest(15)[::-1].values, color=\"C2\")\n",
    "plt.title(\"Words exchanged between me and friend\")\n",
    "plt.xlabel(\"Count of words\")\n",
    "plt.show()"
   ]
  },
  {
   "cell_type": "markdown",
   "metadata": {},
   "source": [
    "There are some differences in the position each person is, but the people are more or less the same.\n",
    "This gives us an idea to check the differences between the amount of texting I have done and that of my friends."
   ]
  },
  {
   "cell_type": "code",
   "execution_count": 63,
   "metadata": {},
   "outputs": [
    {
     "data": {
      "image/png": "[encoded data removed]",
      "text/plain": [
       "<Figure size 432x288 with 1 Axes>"
      ]
     },
     "metadata": {
      "needs_background": "light"
     },
     "output_type": "display_data"
    }
   ],
   "source": [
    "grouped_by_me = grouped_by_friend.nlargest(15) - grouped_by_sender.nlargest(16)\n",
    "grouped_by_me = grouped_by_me.dropna()\n",
    "\n",
    "plt.barh(grouped_by_me.nlargest(15)[::-1].index, grouped_by_me.nlargest(15)[::-1].values, color=\"C1\")\n",
    "\n",
    "plt.title(\"Words I sent to friend\")\n",
    "plt.xlabel(\"Count of words\")\n",
    "plt.show()"
   ]
  },
  {
   "cell_type": "code",
   "execution_count": 64,
   "metadata": {},
   "outputs": [
    {
     "data": {
      "image/png": "[encoded data removed]",
      "text/plain": [
       "<Figure size 432x288 with 1 Axes>"
      ]
     },
     "metadata": {
      "needs_background": "light"
     },
     "output_type": "display_data"
    }
   ],
   "source": [
    "grouped_by_diff = grouped_by_sender.nlargest(16) - grouped_by_me.nlargest(15)\n",
    "\n",
    "\n",
    "plt.barh(grouped_by_diff.nlargest(15)[::-1].index, grouped_by_diff.nlargest(15)[::-1].values,\n",
    "         color=[\"C1\" if i < 0 else \"C0\" for i in grouped_by_diff.nlargest(15)[::-1].values])\n",
    "\n",
    "plt.title(\"Difference between my and friend's exchanged words\")\n",
    "plt.xlabel(\"Difference in count of words\")\n",
    "blue_patch = mpatches.Patch(color='C0', label='Friend texted more')\n",
    "orange_patch = mpatches.Patch(color='C1', label='I texted more')\n",
    "plt.legend(handles=[blue_patch, orange_patch])\n",
    "plt.show()"
   ]
  },
  {
   "cell_type": "markdown",
   "metadata": {},
   "source": [
    "Interesting. It looks like I text more than my friends. As a side note we can hypothesize that our best match could be somewhere in the middle of the graph, where we both texted the same amount.\n",
    "\n",
    "We chose the top 15 people because it looks good on a graph. But are the top 15 friends the optimal amount of people we should take as \"best friends\" or should we take the top 30, top 50? Let's see."
   ]
  },
  {
   "cell_type": "code",
   "execution_count": 65,
   "metadata": {},
   "outputs": [],
   "source": [
    "# This time we split by space\n",
    "space_mess = mess.copy()\n",
    "space_mess.content = space_mess.content.str.split()\n",
    "space_mess.content.dropna(inplace=True)"
   ]
  },
  {
   "cell_type": "code",
   "execution_count": 66,
   "metadata": {},
   "outputs": [],
   "source": [
    "space_mess['wordcount_space'] = space_mess.content.apply(len)"
   ]
  },
  {
   "cell_type": "code",
   "execution_count": 67,
   "metadata": {},
   "outputs": [
    {
     "data": {
      "text/html": [
       "<div>\n",
       "<style scoped>\n",
       "    .dataframe tbody tr th:only-of-type {\n",
       "        vertical-align: middle;\n",
       "    }\n",
       "\n",
       "    .dataframe tbody tr th {\n",
       "        vertical-align: top;\n",
       "    }\n",
       "\n",
       "    .dataframe thead th {\n",
       "        text-align: right;\n",
       "    }\n",
       "</style>\n",
       "<table border=\"1\" class=\"dataframe\">\n",
       "  <thead>\n",
       "    <tr style=\"text-align: right;\">\n",
       "      <th></th>\n",
       "      <th>sender_name</th>\n",
       "      <th>content</th>\n",
       "      <th>friend_name</th>\n",
       "      <th>wordcount_regex</th>\n",
       "      <th>wordcount_space</th>\n",
       "    </tr>\n",
       "    <tr>\n",
       "      <th>timestamp</th>\n",
       "      <th></th>\n",
       "      <th></th>\n",
       "      <th></th>\n",
       "      <th></th>\n",
       "      <th></th>\n",
       "    </tr>\n",
       "  </thead>\n",
       "  <tbody>\n",
       "    <tr>\n",
       "      <th>2019-07-22 15:08:48.294</th>\n",
       "      <td>Ирник Топчийски</td>\n",
       "      <td>[ако, мн, го, закъсаш, с, събирането, на, съоб...</td>\n",
       "      <td>Ирник Топчийски</td>\n",
       "      <td>14</td>\n",
       "      <td>14</td>\n",
       "    </tr>\n",
       "    <tr>\n",
       "      <th>2019-07-22 15:09:15.928</th>\n",
       "      <td>Алексиа Таралингова</td>\n",
       "      <td>[добре,, чакай, сега, недей, да, пишеш, за, из...</td>\n",
       "      <td>Ирник Топчийски</td>\n",
       "      <td>10</td>\n",
       "      <td>10</td>\n",
       "    </tr>\n",
       "    <tr>\n",
       "      <th>2019-07-22 15:09:31.911</th>\n",
       "      <td>Алексиа Таралингова</td>\n",
       "      <td>[some, english, text, 123, wohoo, yeaaah, !!!,...</td>\n",
       "      <td>Ирник Топчийски</td>\n",
       "      <td>7</td>\n",
       "      <td>8</td>\n",
       "    </tr>\n",
       "    <tr>\n",
       "      <th>2019-07-22 15:09:55.550</th>\n",
       "      <td>Алексиа Таралингова</td>\n",
       "      <td>[sh1okavica, bum, bam, nqkvi, dumi]</td>\n",
       "      <td>Ирник Топчийски</td>\n",
       "      <td>5</td>\n",
       "      <td>5</td>\n",
       "    </tr>\n",
       "    <tr>\n",
       "      <th>2019-07-22 15:10:12.635</th>\n",
       "      <td>Алексиа Таралингова</td>\n",
       "      <td>[данчо, е, супер, пич, 😎]</td>\n",
       "      <td>Ирник Топчийски</td>\n",
       "      <td>4</td>\n",
       "      <td>5</td>\n",
       "    </tr>\n",
       "  </tbody>\n",
       "</table>\n",
       "</div>"
      ],
      "text/plain": [
       "                                 sender_name  \\\n",
       "timestamp                                      \n",
       "2019-07-22 15:08:48.294      Ирник Топчийски   \n",
       "2019-07-22 15:09:15.928  Алексиа Таралингова   \n",
       "2019-07-22 15:09:31.911  Алексиа Таралингова   \n",
       "2019-07-22 15:09:55.550  Алексиа Таралингова   \n",
       "2019-07-22 15:10:12.635  Алексиа Таралингова   \n",
       "\n",
       "                                                                   content  \\\n",
       "timestamp                                                                    \n",
       "2019-07-22 15:08:48.294  [ако, мн, го, закъсаш, с, събирането, на, съоб...   \n",
       "2019-07-22 15:09:15.928  [добре,, чакай, сега, недей, да, пишеш, за, из...   \n",
       "2019-07-22 15:09:31.911  [some, english, text, 123, wohoo, yeaaah, !!!,...   \n",
       "2019-07-22 15:09:55.550                [sh1okavica, bum, bam, nqkvi, dumi]   \n",
       "2019-07-22 15:10:12.635                          [данчо, е, супер, пич, 😎]   \n",
       "\n",
       "                             friend_name  wordcount_regex  wordcount_space  \n",
       "timestamp                                                                   \n",
       "2019-07-22 15:08:48.294  Ирник Топчийски               14               14  \n",
       "2019-07-22 15:09:15.928  Ирник Топчийски               10               10  \n",
       "2019-07-22 15:09:31.911  Ирник Топчийски                7                8  \n",
       "2019-07-22 15:09:55.550  Ирник Топчийски                5                5  \n",
       "2019-07-22 15:10:12.635  Ирник Топчийски                4                5  "
      ]
     },
     "execution_count": 67,
     "metadata": {},
     "output_type": "execute_result"
    }
   ],
   "source": [
    "space_mess.tail()"
   ]
  },
  {
   "cell_type": "code",
   "execution_count": 68,
   "metadata": {},
   "outputs": [
    {
     "data": {
      "text/plain": [
       "sender_name\n",
       "Алексиа Таралингова     1706574\n",
       "Божинел Костов           154367\n",
       "Г-ца Натко Пъков          94046\n",
       "Фирчо Ждраков             93152\n",
       "Дениандра Пенджакова      85045\n",
       "Name: wordcount_space, dtype: int64"
      ]
     },
     "execution_count": 68,
     "metadata": {},
     "output_type": "execute_result"
    }
   ],
   "source": [
    "best_friends = space_mess.groupby('sender_name').wordcount_space.sum().nlargest(len(list(space_mess.sender_name.unique())))\n",
    "best_friends.head()"
   ]
  },
  {
   "cell_type": "code",
   "execution_count": 69,
   "metadata": {},
   "outputs": [
    {
     "data": {
      "text/plain": [
       "count       588.000000\n",
       "mean       2434.185374\n",
       "std       11200.352195\n",
       "min           1.000000\n",
       "25%          27.750000\n",
       "50%         149.000000\n",
       "75%         776.750000\n",
       "max      154367.000000\n",
       "Name: wordcount_space, dtype: float64"
      ]
     },
     "execution_count": 69,
     "metadata": {},
     "output_type": "execute_result"
    }
   ],
   "source": [
    "best_friends[1:].describe()"
   ]
  },
  {
   "cell_type": "markdown",
   "metadata": {},
   "source": [
    "We can see that the top 28 people are responsible for 25% of all the text in my messages(myself not included)."
   ]
  },
  {
   "cell_type": "code",
   "execution_count": 70,
   "metadata": {},
   "outputs": [
    {
     "data": {
      "text/plain": [
       "8.47288658126157"
      ]
     },
     "execution_count": 70,
     "metadata": {},
     "output_type": "execute_result"
    }
   ],
   "source": [
    "best_friends[1:].skew()"
   ]
  },
  {
   "cell_type": "code",
   "execution_count": 71,
   "metadata": {},
   "outputs": [
    {
     "data": {
      "image/png": "[encoded data removed]",
      "text/plain": [
       "<Figure size 432x288 with 1 Axes>"
      ]
     },
     "metadata": {
      "needs_background": "light"
     },
     "output_type": "display_data"
    }
   ],
   "source": [
    "plt.boxplot(best_friends[1:])\n",
    "plt.title(\"Otlier friends by words sent\")\n",
    "plt.ylabel(\"Word count\")\n",
    "plt.show()"
   ]
  },
  {
   "cell_type": "markdown",
   "metadata": {},
   "source": [
    "The majority of people have such a small word count that we can't even see the interquartile range of the boxplot. But if we look at the outliers we can see that there are just a few above 20000 words. How many exactly? About 15. If we had more time and recources on our hands we could try with a bigger number, but for now this is the one we're sticking with."
   ]
  },
  {
   "cell_type": "code",
   "execution_count": 72,
   "metadata": {},
   "outputs": [
    {
     "data": {
      "image/png": "[encoded data removed]",
      "text/plain": [
       "<Figure size 432x288 with 1 Axes>"
      ]
     },
     "metadata": {
      "needs_background": "light"
     },
     "output_type": "display_data"
    }
   ],
   "source": [
    "n=15\n",
    "\n",
    "plt.boxplot(best_friends[1:n+1])\n",
    "plt.title(f\"Top {n} friends by words sent\")\n",
    "plt.ylabel(\"Word count\")\n",
    "plt.show()"
   ]
  },
  {
   "cell_type": "markdown",
   "metadata": {},
   "source": [
    "How about our messages? We've taken all of them but maybe it's too much?"
   ]
  },
  {
   "cell_type": "code",
   "execution_count": 73,
   "metadata": {},
   "outputs": [
    {
     "name": "stdout",
     "output_type": "stream",
     "text": [
      "My words: 1706574\n",
      "Sum of my friends words: 908694\n",
      "Currently the sum of our top 15 friend words makes up 53.25 % of our own words.\n"
     ]
    }
   ],
   "source": [
    "print(f\"My words: {best_friends.max():.0f}\")\n",
    "print(f\"Sum of my friends words: {best_friends[1:].nlargest(n).sum():.0f}\")\n",
    "print(f\"Currently the sum of our top {n} friend words makes up {best_friends[1:].nlargest(n).sum() / best_friends.max() * 100:.2f} % of our own words.\")"
   ]
  },
  {
   "cell_type": "markdown",
   "metadata": {},
   "source": [
    "The most logical solution is to only take the messages we've exchanged with these top 15 friends."
   ]
  },
  {
   "cell_type": "code",
   "execution_count": 74,
   "metadata": {},
   "outputs": [],
   "source": [
    "best_space_mess = space_mess[space_mess.friend_name.isin(list(best_friends[1:n+1].index))]"
   ]
  },
  {
   "cell_type": "code",
   "execution_count": 75,
   "metadata": {},
   "outputs": [
    {
     "name": "stdout",
     "output_type": "stream",
     "text": [
      "The sum of our top 15 friend words makes up 90.14 % of our own words.\n"
     ]
    }
   ],
   "source": [
    "print(f\"The sum of our top {n} friend words makes up {best_friends[1:].nlargest(n).sum() / best_space_mess[best_space_mess.sender_name==ME].wordcount_space.sum() * 100:.2f} % of our own words.\")"
   ]
  },
  {
   "cell_type": "markdown",
   "metadata": {},
   "source": [
    "#### 6.2 Emojicons\n",
    "And now we must discuss the emoji-problem. First of all, there is a difference between emoticons and emojis. Emoticons are punctuation marks, letters, and numbers used to create pictorial icons that generally display an emotion or sentiment. Not to be confused with their predecessor, emojis are pictographs of faces, objects, and symbols.\n",
    "\n",
    "Emoticons: `>:( ;( :o (@_@) :D <3`\n",
    "\n",
    "Emojis: `😠 😢 😮 😍 😆 ❤`\n",
    "\n",
    "From now on, when I'm referring to them both, I will use the term \"emojicons\".\n",
    "\n",
    "The reason we split by space was to preserve the emojicons in our messages. Why not discard them, I hear you ask. Are emojicons words? Well they \"generally display an emotion or sentiment\" and a text can have entirely different meaning depending on the emojicon. Some examples:\n",
    "\n",
    "What are you doing? :) --> We're friends and I'm just chatting up.\n",
    "\n",
    "What are you doing? >:( --> You've done something that upsets me and I'm mad at you.\n",
    "\n",
    "What are you doing? ;) --> I want to have sex with you.\n",
    "\n",
    "What are you doing? :o --> I can't believe you just did that.\n",
    "\n",
    "\n",
    "The downside of this space split is that all the punctuatuion is now messing up our words. We can do tokenization on each string that is not an emojicon but then again we get lists inside our rows. That is why we will operate on two different copies of the same dataset - one split by space, and one using nltk's tokenization module."
   ]
  },
  {
   "cell_type": "code",
   "execution_count": 76,
   "metadata": {},
   "outputs": [],
   "source": [
    "best_tokenized_mess = mess.copy()\n",
    "best_tokenized_mess = best_tokenized_mess[best_tokenized_mess.friend_name.isin(list(best_friends[1:n+1].index))]\n",
    "# We already have the links in a separate dataframe\n",
    "best_tokenized_mess.content = best_tokenized_mess.content.str.replace(r'https?:\\/\\/\\S*', '')\n",
    "best_tokenized_mess.content = best_tokenized_mess.content.apply(word_tokenize)\n",
    "best_tokenized_mess.content.dropna(inplace=True)"
   ]
  },
  {
   "cell_type": "code",
   "execution_count": 77,
   "metadata": {},
   "outputs": [],
   "source": [
    "best_space_mess.reset_index(inplace=True)\n",
    "best_tokenized_mess.reset_index(inplace=True)"
   ]
  },
  {
   "cell_type": "code",
   "execution_count": 78,
   "metadata": {},
   "outputs": [
    {
     "data": {
      "text/html": [
       "<div>\n",
       "<style scoped>\n",
       "    .dataframe tbody tr th:only-of-type {\n",
       "        vertical-align: middle;\n",
       "    }\n",
       "\n",
       "    .dataframe tbody tr th {\n",
       "        vertical-align: top;\n",
       "    }\n",
       "\n",
       "    .dataframe thead th {\n",
       "        text-align: right;\n",
       "    }\n",
       "</style>\n",
       "<table border=\"1\" class=\"dataframe\">\n",
       "  <thead>\n",
       "    <tr style=\"text-align: right;\">\n",
       "      <th></th>\n",
       "      <th>timestamp</th>\n",
       "      <th>sender_name</th>\n",
       "      <th>content</th>\n",
       "      <th>friend_name</th>\n",
       "      <th>wordcount_regex</th>\n",
       "    </tr>\n",
       "  </thead>\n",
       "  <tbody>\n",
       "    <tr>\n",
       "      <th>422845</th>\n",
       "      <td>2019-07-22 09:10:12.705</td>\n",
       "      <td>Г-ца Итко Парашкевов</td>\n",
       "      <td>[how, even]</td>\n",
       "      <td>Г-ца Итко Парашкевов</td>\n",
       "      <td>2</td>\n",
       "    </tr>\n",
       "    <tr>\n",
       "      <th>422846</th>\n",
       "      <td>2019-07-22 12:32:07.163</td>\n",
       "      <td>Алексиа Таралингова</td>\n",
       "      <td>[хахахахха]</td>\n",
       "      <td>Фирчо Ждраков</td>\n",
       "      <td>8</td>\n",
       "    </tr>\n",
       "    <tr>\n",
       "      <th>422847</th>\n",
       "      <td>2019-07-22 13:12:25.649</td>\n",
       "      <td>Фирчо Ждраков</td>\n",
       "      <td>[тъкмо, го, видях, ама, не, мога, да, го, глед...</td>\n",
       "      <td>Фирчо Ждраков</td>\n",
       "      <td>13</td>\n",
       "    </tr>\n",
       "    <tr>\n",
       "      <th>422848</th>\n",
       "      <td>2019-07-22 13:12:37.012</td>\n",
       "      <td>Алексиа Таралингова</td>\n",
       "      <td>[много, ме, изкефи]</td>\n",
       "      <td>Фирчо Ждраков</td>\n",
       "      <td>3</td>\n",
       "    </tr>\n",
       "    <tr>\n",
       "      <th>422849</th>\n",
       "      <td>2019-07-22 13:12:45.281</td>\n",
       "      <td>Алексиа Таралингова</td>\n",
       "      <td>[+, се, влюбих, в, мацката, :, d]</td>\n",
       "      <td>Фирчо Ждраков</td>\n",
       "      <td>5</td>\n",
       "    </tr>\n",
       "  </tbody>\n",
       "</table>\n",
       "</div>"
      ],
      "text/plain": [
       "                     timestamp           sender_name  \\\n",
       "422845 2019-07-22 09:10:12.705  Г-ца Итко Парашкевов   \n",
       "422846 2019-07-22 12:32:07.163   Алексиа Таралингова   \n",
       "422847 2019-07-22 13:12:25.649         Фирчо Ждраков   \n",
       "422848 2019-07-22 13:12:37.012   Алексиа Таралингова   \n",
       "422849 2019-07-22 13:12:45.281   Алексиа Таралингова   \n",
       "\n",
       "                                                  content  \\\n",
       "422845                                        [how, even]   \n",
       "422846                                        [хахахахха]   \n",
       "422847  [тъкмо, го, видях, ама, не, мога, да, го, глед...   \n",
       "422848                                [много, ме, изкефи]   \n",
       "422849                  [+, се, влюбих, в, мацката, :, d]   \n",
       "\n",
       "                 friend_name  wordcount_regex  \n",
       "422845  Г-ца Итко Парашкевов                2  \n",
       "422846         Фирчо Ждраков                8  \n",
       "422847         Фирчо Ждраков               13  \n",
       "422848         Фирчо Ждраков                3  \n",
       "422849         Фирчо Ждраков                5  "
      ]
     },
     "execution_count": 78,
     "metadata": {},
     "output_type": "execute_result"
    }
   ],
   "source": [
    "best_tokenized_mess.tail()"
   ]
  },
  {
   "cell_type": "markdown",
   "metadata": {},
   "source": [
    "Looks good. We can now start splicing and dicing."
   ]
  },
  {
   "cell_type": "code",
   "execution_count": 79,
   "metadata": {},
   "outputs": [],
   "source": [
    "def word_split(dataframe):\n",
    "    rows = list()\n",
    "    for row in dataframe[['sender_name', 'content', 'timestamp']].iterrows():\n",
    "        r = row[1]\n",
    "        for word in r.content:\n",
    "            rows.append((r.sender_name, word, r.timestamp))\n",
    "\n",
    "    return pd.DataFrame(rows, columns=['sender_name', 'word', 'timestamp'])"
   ]
  },
  {
   "cell_type": "code",
   "execution_count": 80,
   "metadata": {},
   "outputs": [
    {
     "data": {
      "text/html": [
       "\n",
       "                <audio controls=\"controls\" autoplay=\"autoplay\">\n",
       "                    <source src=\"data:audio/wav;base64,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\" type=\"audio/wav\" />\n",
       "                    Your browser does not support the audio element.\n",
       "                </audio>\n",
       "              "
      ],
      "text/plain": [
       "<IPython.lib.display.Audio object>"
      ]
     },
     "execution_count": 80,
     "metadata": {},
     "output_type": "execute_result"
    }
   ],
   "source": [
    "words_by_space = word_split(best_space_mess)\n",
    "words_by_tokenizer = word_split(best_tokenized_mess)\n",
    "\n",
    "# A signal to notify us when it's ready\n",
    "Audio(np.sin(np.pi*np.arange(31415)), rate=9001, autoplay=True)"
   ]
  },
  {
   "cell_type": "markdown",
   "metadata": {},
   "source": [
    "While we wait for all the words to be complete let's take a look at this handy flowchart."
   ]
  },
  {
   "attachments": {
    "flowchart.png": {
     "image/png": "[encoded data removed]"
    }
   },
   "cell_type": "markdown",
   "metadata": {},
   "source": [
    "![flowchart.png](attachment:flowchart.png)"
   ]
  },
  {
   "cell_type": "markdown",
   "metadata": {},
   "source": [
    "A quick glance over the results from the split."
   ]
  },
  {
   "cell_type": "code",
   "execution_count": 81,
   "metadata": {},
   "outputs": [
    {
     "data": {
      "text/plain": [
       "да    54869\n",
       ":d    47456\n",
       "и     44710\n",
       "е     36006\n",
       "не    34804\n",
       "се    25038\n",
       "си    24737\n",
       "на    22778\n",
       "ми    19963\n",
       "ще    17604\n",
       ":д    17227\n",
       "ти    16375\n",
       "i     15996\n",
       "за    14225\n",
       "в     12988\n",
       "от    12599\n",
       "с     12573\n",
       "че    12310\n",
       "аз    11740\n",
       "го    11417\n",
       "Name: word, dtype: int64"
      ]
     },
     "execution_count": 81,
     "metadata": {},
     "output_type": "execute_result"
    }
   ],
   "source": [
    "words_by_space.word.value_counts().head(20)"
   ]
  },
  {
   "cell_type": "code",
   "execution_count": 82,
   "metadata": {},
   "outputs": [
    {
     "data": {
      "text/plain": [
       ":      70950\n",
       "да     57066\n",
       "d      51082\n",
       "и      45074\n",
       ",      43378\n",
       "е      37956\n",
       "не     36798\n",
       "?      26120\n",
       "си     25635\n",
       "се     25464\n",
       "на     22873\n",
       ".      21233\n",
       "ми     20809\n",
       "д      20801\n",
       "i      19326\n",
       "ще     17706\n",
       "ти     16911\n",
       "...    15052\n",
       "за     14344\n",
       "в      13038\n",
       "Name: word, dtype: int64"
      ]
     },
     "execution_count": 82,
     "metadata": {},
     "output_type": "execute_result"
    }
   ],
   "source": [
    "words_by_tokenizer.word.value_counts().head(20)"
   ]
  },
  {
   "cell_type": "markdown",
   "metadata": {},
   "source": [
    "#### 6.3 Wordlists, emoticonilists and stop words\n",
    "\n",
    "To see if a string is a valid emoticon, we will check if it's contained in the \"emoticons.csv\" dataset. The dataset is made up of 2242 emoticon and their count, taken from 96,269,892 Tweets. I could not find the original dataset so I made this one myself by copying the content of [this page](http://datagenetics.com/blog/october52012/index.html)."
   ]
  },
  {
   "cell_type": "code",
   "execution_count": 83,
   "metadata": {},
   "outputs": [],
   "source": [
    "emoticons = pd.read_csv('emoticons.csv', sep='\\t', header=None, names=['duplicate_index', 'emoticon', 'frequency']).drop(columns='duplicate_index')\n",
    "emoticons.emoticon = emoticons.emoticon.str.lower()"
   ]
  },
  {
   "cell_type": "code",
   "execution_count": 84,
   "metadata": {},
   "outputs": [
    {
     "data": {
      "text/html": [
       "<div>\n",
       "<style scoped>\n",
       "    .dataframe tbody tr th:only-of-type {\n",
       "        vertical-align: middle;\n",
       "    }\n",
       "\n",
       "    .dataframe tbody tr th {\n",
       "        vertical-align: top;\n",
       "    }\n",
       "\n",
       "    .dataframe thead th {\n",
       "        text-align: right;\n",
       "    }\n",
       "</style>\n",
       "<table border=\"1\" class=\"dataframe\">\n",
       "  <thead>\n",
       "    <tr style=\"text-align: right;\">\n",
       "      <th></th>\n",
       "      <th>emoticon</th>\n",
       "      <th>frequency</th>\n",
       "    </tr>\n",
       "  </thead>\n",
       "  <tbody>\n",
       "    <tr>\n",
       "      <th>0</th>\n",
       "      <td>:)</td>\n",
       "      <td>32,115,789</td>\n",
       "    </tr>\n",
       "    <tr>\n",
       "      <th>1</th>\n",
       "      <td>:d</td>\n",
       "      <td>10,595,385</td>\n",
       "    </tr>\n",
       "    <tr>\n",
       "      <th>2</th>\n",
       "      <td>:(</td>\n",
       "      <td>7,613,014</td>\n",
       "    </tr>\n",
       "    <tr>\n",
       "      <th>3</th>\n",
       "      <td>;)</td>\n",
       "      <td>7,238,295</td>\n",
       "    </tr>\n",
       "    <tr>\n",
       "      <th>4</th>\n",
       "      <td>:-)</td>\n",
       "      <td>4,254,708</td>\n",
       "    </tr>\n",
       "    <tr>\n",
       "      <th>5</th>\n",
       "      <td>:p</td>\n",
       "      <td>3,588,863</td>\n",
       "    </tr>\n",
       "    <tr>\n",
       "      <th>6</th>\n",
       "      <td>=)</td>\n",
       "      <td>3,564,080</td>\n",
       "    </tr>\n",
       "    <tr>\n",
       "      <th>7</th>\n",
       "      <td>(:</td>\n",
       "      <td>2,720,383</td>\n",
       "    </tr>\n",
       "    <tr>\n",
       "      <th>8</th>\n",
       "      <td>;-)</td>\n",
       "      <td>2,085,015</td>\n",
       "    </tr>\n",
       "    <tr>\n",
       "      <th>9</th>\n",
       "      <td>:/</td>\n",
       "      <td>1,840,827</td>\n",
       "    </tr>\n",
       "  </tbody>\n",
       "</table>\n",
       "</div>"
      ],
      "text/plain": [
       "  emoticon   frequency\n",
       "0       :)  32,115,789\n",
       "1       :d  10,595,385\n",
       "2       :(   7,613,014\n",
       "3       ;)   7,238,295\n",
       "4      :-)   4,254,708\n",
       "5       :p   3,588,863\n",
       "6       =)   3,564,080\n",
       "7       (:   2,720,383\n",
       "8      ;-)   2,085,015\n",
       "9       :/   1,840,827"
      ]
     },
     "execution_count": 84,
     "metadata": {},
     "output_type": "execute_result"
    }
   ],
   "source": [
    "emoticons.head(10)"
   ]
  },
  {
   "cell_type": "code",
   "execution_count": 85,
   "metadata": {},
   "outputs": [
    {
     "data": {
      "text/html": [
       "<div>\n",
       "<style scoped>\n",
       "    .dataframe tbody tr th:only-of-type {\n",
       "        vertical-align: middle;\n",
       "    }\n",
       "\n",
       "    .dataframe tbody tr th {\n",
       "        vertical-align: top;\n",
       "    }\n",
       "\n",
       "    .dataframe thead th {\n",
       "        text-align: right;\n",
       "    }\n",
       "</style>\n",
       "<table border=\"1\" class=\"dataframe\">\n",
       "  <thead>\n",
       "    <tr style=\"text-align: right;\">\n",
       "      <th></th>\n",
       "      <th>emoticon</th>\n",
       "      <th>frequency</th>\n",
       "    </tr>\n",
       "  </thead>\n",
       "  <tbody>\n",
       "    <tr>\n",
       "      <th>2232</th>\n",
       "      <td>___^-^</td>\n",
       "      <td>1</td>\n",
       "    </tr>\n",
       "    <tr>\n",
       "      <th>2233</th>\n",
       "      <td>^_^bbb</td>\n",
       "      <td>1</td>\n",
       "    </tr>\n",
       "    <tr>\n",
       "      <th>2234</th>\n",
       "      <td>^_^v!!</td>\n",
       "      <td>1</td>\n",
       "    </tr>\n",
       "    <tr>\n",
       "      <th>2235</th>\n",
       "      <td>^_^)::</td>\n",
       "      <td>1</td>\n",
       "    </tr>\n",
       "    <tr>\n",
       "      <th>2236</th>\n",
       "      <td>^-^==</td>\n",
       "      <td>1</td>\n",
       "    </tr>\n",
       "    <tr>\n",
       "      <th>2237</th>\n",
       "      <td>[^_^*]</td>\n",
       "      <td>1</td>\n",
       "    </tr>\n",
       "    <tr>\n",
       "      <th>2238</th>\n",
       "      <td>[^_^]//</td>\n",
       "      <td>1</td>\n",
       "    </tr>\n",
       "    <tr>\n",
       "      <th>2239</th>\n",
       "      <td>^-^.:</td>\n",
       "      <td>1</td>\n",
       "    </tr>\n",
       "    <tr>\n",
       "      <th>2240</th>\n",
       "      <td>]o8</td>\n",
       "      <td>1</td>\n",
       "    </tr>\n",
       "    <tr>\n",
       "      <th>2241</th>\n",
       "      <td>^-^*!!</td>\n",
       "      <td>1</td>\n",
       "    </tr>\n",
       "  </tbody>\n",
       "</table>\n",
       "</div>"
      ],
      "text/plain": [
       "     emoticon frequency\n",
       "2232   ___^-^         1\n",
       "2233   ^_^bbb         1\n",
       "2234   ^_^v!!         1\n",
       "2235   ^_^)::         1\n",
       "2236    ^-^==         1\n",
       "2237   [^_^*]         1\n",
       "2238  [^_^]//         1\n",
       "2239    ^-^.:         1\n",
       "2240      ]o8         1\n",
       "2241   ^-^*!!         1"
      ]
     },
     "execution_count": 85,
     "metadata": {},
     "output_type": "execute_result"
    }
   ],
   "source": [
    "emoticons.tail(10)"
   ]
  },
  {
   "cell_type": "markdown",
   "metadata": {},
   "source": [
    "Not bad but there are some emoticons I'd like to add."
   ]
  },
  {
   "cell_type": "code",
   "execution_count": 86,
   "metadata": {},
   "outputs": [],
   "source": [
    "extra_emoticons = pd.DataFrame(data=[\"^^\", \"^__^\", \"^___^\", \"(*^.^*)\", \"ಠ_ಠ\",  \"¯\\_(ツ)_/¯\", \"( ͡° ͜ʖ ͡°)\"], columns=[\"emoticon\"])"
   ]
  },
  {
   "cell_type": "code",
   "execution_count": 87,
   "metadata": {},
   "outputs": [],
   "source": [
    "emoticons = pd.concat([emoticons, extra_emoticons], sort=False).reset_index(drop=True).fillna(1)"
   ]
  },
  {
   "cell_type": "code",
   "execution_count": 88,
   "metadata": {},
   "outputs": [
    {
     "data": {
      "text/html": [
       "<div>\n",
       "<style scoped>\n",
       "    .dataframe tbody tr th:only-of-type {\n",
       "        vertical-align: middle;\n",
       "    }\n",
       "\n",
       "    .dataframe tbody tr th {\n",
       "        vertical-align: top;\n",
       "    }\n",
       "\n",
       "    .dataframe thead th {\n",
       "        text-align: right;\n",
       "    }\n",
       "</style>\n",
       "<table border=\"1\" class=\"dataframe\">\n",
       "  <thead>\n",
       "    <tr style=\"text-align: right;\">\n",
       "      <th></th>\n",
       "      <th>emoticon</th>\n",
       "      <th>frequency</th>\n",
       "    </tr>\n",
       "  </thead>\n",
       "  <tbody>\n",
       "    <tr>\n",
       "      <th>2239</th>\n",
       "      <td>^-^.:</td>\n",
       "      <td>1</td>\n",
       "    </tr>\n",
       "    <tr>\n",
       "      <th>2240</th>\n",
       "      <td>]o8</td>\n",
       "      <td>1</td>\n",
       "    </tr>\n",
       "    <tr>\n",
       "      <th>2241</th>\n",
       "      <td>^-^*!!</td>\n",
       "      <td>1</td>\n",
       "    </tr>\n",
       "    <tr>\n",
       "      <th>2242</th>\n",
       "      <td>^^</td>\n",
       "      <td>1</td>\n",
       "    </tr>\n",
       "    <tr>\n",
       "      <th>2243</th>\n",
       "      <td>^__^</td>\n",
       "      <td>1</td>\n",
       "    </tr>\n",
       "    <tr>\n",
       "      <th>2244</th>\n",
       "      <td>^___^</td>\n",
       "      <td>1</td>\n",
       "    </tr>\n",
       "    <tr>\n",
       "      <th>2245</th>\n",
       "      <td>(*^.^*)</td>\n",
       "      <td>1</td>\n",
       "    </tr>\n",
       "    <tr>\n",
       "      <th>2246</th>\n",
       "      <td>ಠ_ಠ</td>\n",
       "      <td>1</td>\n",
       "    </tr>\n",
       "    <tr>\n",
       "      <th>2247</th>\n",
       "      <td>¯\\_(ツ)_/¯</td>\n",
       "      <td>1</td>\n",
       "    </tr>\n",
       "    <tr>\n",
       "      <th>2248</th>\n",
       "      <td>( ͡° ͜ʖ ͡°)</td>\n",
       "      <td>1</td>\n",
       "    </tr>\n",
       "  </tbody>\n",
       "</table>\n",
       "</div>"
      ],
      "text/plain": [
       "         emoticon frequency\n",
       "2239        ^-^.:         1\n",
       "2240          ]o8         1\n",
       "2241       ^-^*!!         1\n",
       "2242           ^^         1\n",
       "2243         ^__^         1\n",
       "2244        ^___^         1\n",
       "2245      (*^.^*)         1\n",
       "2246          ಠ_ಠ         1\n",
       "2247    ¯\\_(ツ)_/¯         1\n",
       "2248  ( ͡° ͜ʖ ͡°)         1"
      ]
     },
     "execution_count": 88,
     "metadata": {},
     "output_type": "execute_result"
    }
   ],
   "source": [
    "emoticons.tail(10)"
   ]
  },
  {
   "cell_type": "markdown",
   "metadata": {},
   "source": [
    "In our messages however, we have some emoticons like \":Д\" which is supposed to be \":D\" but written in cyrillic. No such list of cyrillic emoticons exists so if we have no match in the latin emoticons we will transliterate the cyrillic to latin and check again in the same dataset. We will use the same technique for the tokenized words."
   ]
  },
  {
   "cell_type": "markdown",
   "metadata": {},
   "source": [
    "Let's test if this transliterate module is working correctly for Bulgarian written in latin."
   ]
  },
  {
   "cell_type": "code",
   "execution_count": 89,
   "metadata": {},
   "outputs": [
    {
     "name": "stdout",
     "output_type": "stream",
     "text": [
      "\n",
      "6л1окавица\n",
      "шише с1с уши на 6осе се су6и\n",
      "4и4ковите черwенотиквени4ковчета\n",
      "маcки, дjанти, деветнаиски\n",
      "непротивоконституcиоснователствуваите\n",
      "йовано, йованке, што т1и праиш сq\n",
      "\n"
     ]
    }
   ],
   "source": [
    "text = \"\"\"\n",
    "6l1okavitsa\n",
    "shishe s1s ushi na 6ose se su6i\n",
    "4i4kovite cherwenotikveni4kovcheta\n",
    "macki, djanti, devetnaiski\n",
    "neprotivokonstituciosnovatelstvuvaite\n",
    "yovano, yovanke, shto t1i praish sq\n",
    "\"\"\"\n",
    "\n",
    "print(transliterate.translit(text.lower(), language_code='bg'))"
   ]
  },
  {
   "cell_type": "markdown",
   "metadata": {},
   "source": [
    "There is a lot that can be improved, and that is exactly what we shall do."
   ]
  },
  {
   "cell_type": "code",
   "execution_count": 90,
   "metadata": {},
   "outputs": [],
   "source": [
    "BulgarianLanguagePack.mapping = ('abwvgdejziyklmnoprstufhc461q', 'абввгдежзийклмнопрстуфхцчшъя')\n",
    "\"\"\"\n",
    "my additions:\n",
    "    \"1\": \"ъ\",\n",
    "    \"6\": \"ш\",\n",
    "    \"4\": \"ч\",\n",
    "    \"q\": \"я\",\n",
    "    \"w\": \"в\",\n",
    "    \"j\": \"ж\",\n",
    "    \"c\": \"ц\",\n",
    "    \n",
    "removed all the uppercase characters for improved performance\n",
    "ABVWGDEZIYKLMNOPRSTUFHCQ:АБВВГДЕЗИЙКЛМНОПРСТУФХЦЯ    \n",
    "\"\"\"\n",
    "\n",
    "\n",
    "BulgarianLanguagePack.reversed_specific_mapping = ('ьъ', 'y1')\n",
    "\n",
    "\n",
    "BulgarianLanguagePack.pre_processor_mapping = {\n",
    "    'zh': 'ж',\n",
    "    'ts': 'ц',\n",
    "    'ch': 'ч',\n",
    "    'sh': 'ш',\n",
    "    'шt': 'щ', # fixed\n",
    "    'yu': 'ю',\n",
    "    'ya': 'я',\n",
    "    \n",
    "    # my additions:\n",
    "    \"6t\": \"щ\",\n",
    "    \"1o\": \"ьо\",    \n",
    "    \"1i\": \"ъй\",\n",
    "    \"ai\": \"ай\",\n",
    "    # \"йо\" only after vowel\n",
    "    # and beginning of word\n",
    "    \"yo\": \"йо\",\n",
    "    \"bй\": \"бь\",\n",
    "    \"vй\": \"вь\",\n",
    "    \"wй\": \"вь\",\n",
    "    \"gй\": \"гь\",\n",
    "    \"dй\": \"дь\",\n",
    "    \"jй\": \"жь\",\n",
    "    \"жй\": \"жь\",\n",
    "    \"zй\": \"зь\",\n",
    "    \"kй\": \"кь\",\n",
    "    \"lй\": \"ль\",\n",
    "    \"mй\": \"мь\",\n",
    "    \"nй\": \"нь\",\n",
    "    \"pй\": \"пь\",\n",
    "    \"rй\": \"рь\",\n",
    "    \"sй\": \"сь\",\n",
    "    \"tй\": \"ть\",\n",
    "    \"fй\": \"фь\",\n",
    "    \"cй\": \"ць\",\n",
    "    \"чй\": \"чь\",\n",
    "    \"шй\": \"шь\",\n",
    "    \"щй\": \"щь\"}\n",
    "\"\"\"\n",
    "    removed:\n",
    "    'Zh': 'Ж',\n",
    "    'Ts': 'Ц',\n",
    "    'Ch': 'Ч',\n",
    "    'Sh': 'Ш',\n",
    "    'Шt': 'Щ', # fixed\n",
    "    'Yu': 'Ю',\n",
    "    'Ya': 'Я',\n",
    "\"\"\"\n",
    "\n",
    "# Instead of callng the language code each time\n",
    "translit_bg = transliterate.get_translit_function('bg')"
   ]
  },
  {
   "cell_type": "code",
   "execution_count": 91,
   "metadata": {},
   "outputs": [
    {
     "name": "stdout",
     "output_type": "stream",
     "text": [
      "\n",
      "шльокавица\n",
      "шише със уши на шосе се суши\n",
      "чичковите червенотиквеничковчета\n",
      "мацки, джанти, деветнайски\n",
      "непротивоконституциоснователствувайте\n",
      "йовано, йованке, що тъй прайш ся\n",
      "\n"
     ]
    }
   ],
   "source": [
    "print(translit_bg(text))"
   ]
  },
  {
   "cell_type": "code",
   "execution_count": 92,
   "metadata": {},
   "outputs": [
    {
     "data": {
      "text/plain": [
       "True"
      ]
     },
     "execution_count": 92,
     "metadata": {},
     "output_type": "execute_result"
    }
   ],
   "source": [
    "translit_bg(text) == translit_bg(translit_bg(translit_bg(text), reversed=True))"
   ]
  },
  {
   "cell_type": "markdown",
   "metadata": {},
   "source": [
    "Much better. Of course there's no doubt some words will be intransliterable, because people sometimes use the same latin letter for different cyrillic letters like \"ujasno si tupa be jordanke\", but that's the best we can do.\n",
    "\n",
    "The next thing we have to check is if the string is a valid emoji. We can easily do that by checking if it's in python's emoji module like this:"
   ]
  },
  {
   "cell_type": "code",
   "execution_count": 93,
   "metadata": {},
   "outputs": [
    {
     "data": {
      "text/plain": [
       "0    False\n",
       "1    False\n",
       "2    False\n",
       "3    False\n",
       "4    False\n",
       "5    False\n",
       "dtype: bool"
      ]
     },
     "execution_count": 93,
     "metadata": {},
     "output_type": "execute_result"
    }
   ],
   "source": [
    "pd.Series([\">:(\", \";(\", \":o\", \"(@_@)\", \":D\", \"<3\"]).isin(UNICODE_EMOJI)"
   ]
  },
  {
   "cell_type": "code",
   "execution_count": 94,
   "metadata": {},
   "outputs": [
    {
     "data": {
      "text/plain": [
       "0    True\n",
       "1    True\n",
       "2    True\n",
       "3    True\n",
       "4    True\n",
       "5    True\n",
       "dtype: bool"
      ]
     },
     "execution_count": 94,
     "metadata": {},
     "output_type": "execute_result"
    }
   ],
   "source": [
    "pd.Series([\"😠\", \"😢\", \"😮\", \"😍\", \"😆\", \"❤\"]).isin(UNICODE_EMOJI)"
   ]
  },
  {
   "cell_type": "markdown",
   "metadata": {},
   "source": [
    "And that's pretty much it for our space splited messages. The tokenizer splitted messages follow the same logic as the emoticons, except we first check the length of the string and only pass through words containing more than 2 characters."
   ]
  },
  {
   "cell_type": "code",
   "execution_count": 95,
   "metadata": {},
   "outputs": [
    {
     "data": {
      "text/plain": [
       "word    object\n",
       "dtype: object"
      ]
     },
     "execution_count": 95,
     "metadata": {},
     "output_type": "execute_result"
    }
   ],
   "source": [
    "en_wordlist = pd.read_csv('en_words.csv', header=None, names=['word'])\n",
    "en_wordlist.dtypes"
   ]
  },
  {
   "cell_type": "code",
   "execution_count": 96,
   "metadata": {},
   "outputs": [
    {
     "data": {
      "text/plain": [
       "word    370101\n",
       "dtype: int64"
      ]
     },
     "execution_count": 96,
     "metadata": {},
     "output_type": "execute_result"
    }
   ],
   "source": [
    "en_wordlist.count()"
   ]
  },
  {
   "cell_type": "code",
   "execution_count": 97,
   "metadata": {},
   "outputs": [
    {
     "data": {
      "text/html": [
       "<div>\n",
       "<style scoped>\n",
       "    .dataframe tbody tr th:only-of-type {\n",
       "        vertical-align: middle;\n",
       "    }\n",
       "\n",
       "    .dataframe tbody tr th {\n",
       "        vertical-align: top;\n",
       "    }\n",
       "\n",
       "    .dataframe thead th {\n",
       "        text-align: right;\n",
       "    }\n",
       "</style>\n",
       "<table border=\"1\" class=\"dataframe\">\n",
       "  <thead>\n",
       "    <tr style=\"text-align: right;\">\n",
       "      <th></th>\n",
       "      <th>word</th>\n",
       "    </tr>\n",
       "  </thead>\n",
       "  <tbody>\n",
       "    <tr>\n",
       "      <th>0</th>\n",
       "      <td>a</td>\n",
       "    </tr>\n",
       "    <tr>\n",
       "      <th>1</th>\n",
       "      <td>aa</td>\n",
       "    </tr>\n",
       "    <tr>\n",
       "      <th>2</th>\n",
       "      <td>aaa</td>\n",
       "    </tr>\n",
       "    <tr>\n",
       "      <th>3</th>\n",
       "      <td>aah</td>\n",
       "    </tr>\n",
       "    <tr>\n",
       "      <th>4</th>\n",
       "      <td>aahed</td>\n",
       "    </tr>\n",
       "  </tbody>\n",
       "</table>\n",
       "</div>"
      ],
      "text/plain": [
       "    word\n",
       "0      a\n",
       "1     aa\n",
       "2    aaa\n",
       "3    aah\n",
       "4  aahed"
      ]
     },
     "execution_count": 97,
     "metadata": {},
     "output_type": "execute_result"
    }
   ],
   "source": [
    "en_wordlist.head()"
   ]
  },
  {
   "cell_type": "markdown",
   "metadata": {},
   "source": [
    "The Bulgarian wordlist is taken from a subtitles site and consists of words with frequencies."
   ]
  },
  {
   "cell_type": "code",
   "execution_count": 98,
   "metadata": {},
   "outputs": [],
   "source": [
    "bg_wordlist = pd.read_csv('bg_full.txt', header=None, delim_whitespace=True, names=['word', 'frequency'])"
   ]
  },
  {
   "cell_type": "code",
   "execution_count": 99,
   "metadata": {},
   "outputs": [
    {
     "data": {
      "text/plain": [
       "word         object\n",
       "frequency     int64\n",
       "dtype: object"
      ]
     },
     "execution_count": 99,
     "metadata": {},
     "output_type": "execute_result"
    }
   ],
   "source": [
    "bg_wordlist.dtypes"
   ]
  },
  {
   "cell_type": "code",
   "execution_count": 100,
   "metadata": {},
   "outputs": [
    {
     "data": {
      "text/plain": [
       "word         1202469\n",
       "frequency    1202471\n",
       "dtype: int64"
      ]
     },
     "execution_count": 100,
     "metadata": {},
     "output_type": "execute_result"
    }
   ],
   "source": [
    "bg_wordlist.count()"
   ]
  },
  {
   "cell_type": "markdown",
   "metadata": {},
   "source": [
    "Okay, that's too much words. I'm guessing the less frequent ones are misspelled."
   ]
  },
  {
   "cell_type": "code",
   "execution_count": 101,
   "metadata": {},
   "outputs": [
    {
     "data": {
      "text/html": [
       "<div>\n",
       "<style scoped>\n",
       "    .dataframe tbody tr th:only-of-type {\n",
       "        vertical-align: middle;\n",
       "    }\n",
       "\n",
       "    .dataframe tbody tr th {\n",
       "        vertical-align: top;\n",
       "    }\n",
       "\n",
       "    .dataframe thead th {\n",
       "        text-align: right;\n",
       "    }\n",
       "</style>\n",
       "<table border=\"1\" class=\"dataframe\">\n",
       "  <thead>\n",
       "    <tr style=\"text-align: right;\">\n",
       "      <th></th>\n",
       "      <th>word</th>\n",
       "      <th>frequency</th>\n",
       "    </tr>\n",
       "  </thead>\n",
       "  <tbody>\n",
       "    <tr>\n",
       "      <th>1202466</th>\n",
       "      <td>заколяш</td>\n",
       "      <td>1</td>\n",
       "    </tr>\n",
       "    <tr>\n",
       "      <th>1202467</th>\n",
       "      <td>безопстно</td>\n",
       "      <td>1</td>\n",
       "    </tr>\n",
       "    <tr>\n",
       "      <th>1202468</th>\n",
       "      <td>педставлението</td>\n",
       "      <td>1</td>\n",
       "    </tr>\n",
       "    <tr>\n",
       "      <th>1202469</th>\n",
       "      <td>издалбала</td>\n",
       "      <td>1</td>\n",
       "    </tr>\n",
       "    <tr>\n",
       "      <th>1202470</th>\n",
       "      <td>коло-ните</td>\n",
       "      <td>1</td>\n",
       "    </tr>\n",
       "  </tbody>\n",
       "</table>\n",
       "</div>"
      ],
      "text/plain": [
       "                   word  frequency\n",
       "1202466         заколяш          1\n",
       "1202467       безопстно          1\n",
       "1202468  педставлението          1\n",
       "1202469       издалбала          1\n",
       "1202470       коло-ните          1"
      ]
     },
     "execution_count": 101,
     "metadata": {},
     "output_type": "execute_result"
    }
   ],
   "source": [
    "bg_wordlist.tail()"
   ]
  },
  {
   "cell_type": "markdown",
   "metadata": {},
   "source": [
    "Yes, indeed they are. We can take only words with frequencies greater than 2. Hopefully the people translating movies on the internet don't make the same mistakes more than twice."
   ]
  },
  {
   "cell_type": "code",
   "execution_count": 102,
   "metadata": {},
   "outputs": [],
   "source": [
    "bg_wordlist = bg_wordlist.dropna()\n",
    "bg_wordlist = bg_wordlist[bg_wordlist.frequency > 2]"
   ]
  },
  {
   "cell_type": "code",
   "execution_count": 103,
   "metadata": {},
   "outputs": [
    {
     "data": {
      "text/plain": [
       "word         454606\n",
       "frequency    454606\n",
       "dtype: int64"
      ]
     },
     "execution_count": 103,
     "metadata": {},
     "output_type": "execute_result"
    }
   ],
   "source": [
    "bg_wordlist.count()"
   ]
  },
  {
   "cell_type": "code",
   "execution_count": 104,
   "metadata": {},
   "outputs": [
    {
     "data": {
      "text/html": [
       "<div>\n",
       "<style scoped>\n",
       "    .dataframe tbody tr th:only-of-type {\n",
       "        vertical-align: middle;\n",
       "    }\n",
       "\n",
       "    .dataframe tbody tr th {\n",
       "        vertical-align: top;\n",
       "    }\n",
       "\n",
       "    .dataframe thead th {\n",
       "        text-align: right;\n",
       "    }\n",
       "</style>\n",
       "<table border=\"1\" class=\"dataframe\">\n",
       "  <thead>\n",
       "    <tr style=\"text-align: right;\">\n",
       "      <th></th>\n",
       "      <th>word</th>\n",
       "      <th>frequency</th>\n",
       "    </tr>\n",
       "  </thead>\n",
       "  <tbody>\n",
       "    <tr>\n",
       "      <th>454603</th>\n",
       "      <td>майдей</td>\n",
       "      <td>3</td>\n",
       "    </tr>\n",
       "    <tr>\n",
       "      <th>454604</th>\n",
       "      <td>20-чка</td>\n",
       "      <td>3</td>\n",
       "    </tr>\n",
       "    <tr>\n",
       "      <th>454605</th>\n",
       "      <td>аледа</td>\n",
       "      <td>3</td>\n",
       "    </tr>\n",
       "    <tr>\n",
       "      <th>454606</th>\n",
       "      <td>кетунен</td>\n",
       "      <td>3</td>\n",
       "    </tr>\n",
       "    <tr>\n",
       "      <th>454607</th>\n",
       "      <td>goldfish</td>\n",
       "      <td>3</td>\n",
       "    </tr>\n",
       "  </tbody>\n",
       "</table>\n",
       "</div>"
      ],
      "text/plain": [
       "            word  frequency\n",
       "454603    майдей          3\n",
       "454604    20-чка          3\n",
       "454605     аледа          3\n",
       "454606   кетунен          3\n",
       "454607  goldfish          3"
      ]
     },
     "execution_count": 104,
     "metadata": {},
     "output_type": "execute_result"
    }
   ],
   "source": [
    "bg_wordlist.tail()"
   ]
  },
  {
   "cell_type": "markdown",
   "metadata": {},
   "source": [
    "Oops, there's obviously some english words here as well. Let's fix that too."
   ]
  },
  {
   "cell_type": "code",
   "execution_count": 105,
   "metadata": {},
   "outputs": [],
   "source": [
    "bg_wordlist = bg_wordlist[bg_wordlist.word.str.contains(pat=r'[a-zA-Z]+')==False].reset_index(drop=True)"
   ]
  },
  {
   "cell_type": "code",
   "execution_count": 106,
   "metadata": {},
   "outputs": [
    {
     "data": {
      "text/html": [
       "<div>\n",
       "<style scoped>\n",
       "    .dataframe tbody tr th:only-of-type {\n",
       "        vertical-align: middle;\n",
       "    }\n",
       "\n",
       "    .dataframe tbody tr th {\n",
       "        vertical-align: top;\n",
       "    }\n",
       "\n",
       "    .dataframe thead th {\n",
       "        text-align: right;\n",
       "    }\n",
       "</style>\n",
       "<table border=\"1\" class=\"dataframe\">\n",
       "  <thead>\n",
       "    <tr style=\"text-align: right;\">\n",
       "      <th></th>\n",
       "      <th>word</th>\n",
       "      <th>frequency</th>\n",
       "    </tr>\n",
       "  </thead>\n",
       "  <tbody>\n",
       "    <tr>\n",
       "      <th>417478</th>\n",
       "      <td>мащабирате</td>\n",
       "      <td>3</td>\n",
       "    </tr>\n",
       "    <tr>\n",
       "      <th>417479</th>\n",
       "      <td>12-инчови</td>\n",
       "      <td>3</td>\n",
       "    </tr>\n",
       "    <tr>\n",
       "      <th>417480</th>\n",
       "      <td>хъдълстън</td>\n",
       "      <td>3</td>\n",
       "    </tr>\n",
       "    <tr>\n",
       "      <th>417481</th>\n",
       "      <td>междините</td>\n",
       "      <td>3</td>\n",
       "    </tr>\n",
       "    <tr>\n",
       "      <th>417482</th>\n",
       "      <td>китъри</td>\n",
       "      <td>3</td>\n",
       "    </tr>\n",
       "    <tr>\n",
       "      <th>417483</th>\n",
       "      <td>задиряне</td>\n",
       "      <td>3</td>\n",
       "    </tr>\n",
       "    <tr>\n",
       "      <th>417484</th>\n",
       "      <td>пермското</td>\n",
       "      <td>3</td>\n",
       "    </tr>\n",
       "    <tr>\n",
       "      <th>417485</th>\n",
       "      <td>дублеков</td>\n",
       "      <td>3</td>\n",
       "    </tr>\n",
       "    <tr>\n",
       "      <th>417486</th>\n",
       "      <td>реланиум</td>\n",
       "      <td>3</td>\n",
       "    </tr>\n",
       "    <tr>\n",
       "      <th>417487</th>\n",
       "      <td>съдърфорд</td>\n",
       "      <td>3</td>\n",
       "    </tr>\n",
       "    <tr>\n",
       "      <th>417488</th>\n",
       "      <td>теотокопулос</td>\n",
       "      <td>3</td>\n",
       "    </tr>\n",
       "    <tr>\n",
       "      <th>417489</th>\n",
       "      <td>дъруел</td>\n",
       "      <td>3</td>\n",
       "    </tr>\n",
       "    <tr>\n",
       "      <th>417490</th>\n",
       "      <td>звънкайки</td>\n",
       "      <td>3</td>\n",
       "    </tr>\n",
       "    <tr>\n",
       "      <th>417491</th>\n",
       "      <td>северногерманските</td>\n",
       "      <td>3</td>\n",
       "    </tr>\n",
       "    <tr>\n",
       "      <th>417492</th>\n",
       "      <td>мантикорска</td>\n",
       "      <td>3</td>\n",
       "    </tr>\n",
       "    <tr>\n",
       "      <th>417493</th>\n",
       "      <td>потстикър</td>\n",
       "      <td>3</td>\n",
       "    </tr>\n",
       "    <tr>\n",
       "      <th>417494</th>\n",
       "      <td>майдей</td>\n",
       "      <td>3</td>\n",
       "    </tr>\n",
       "    <tr>\n",
       "      <th>417495</th>\n",
       "      <td>20-чка</td>\n",
       "      <td>3</td>\n",
       "    </tr>\n",
       "    <tr>\n",
       "      <th>417496</th>\n",
       "      <td>аледа</td>\n",
       "      <td>3</td>\n",
       "    </tr>\n",
       "    <tr>\n",
       "      <th>417497</th>\n",
       "      <td>кетунен</td>\n",
       "      <td>3</td>\n",
       "    </tr>\n",
       "  </tbody>\n",
       "</table>\n",
       "</div>"
      ],
      "text/plain": [
       "                      word  frequency\n",
       "417478          мащабирате          3\n",
       "417479           12-инчови          3\n",
       "417480           хъдълстън          3\n",
       "417481           междините          3\n",
       "417482              китъри          3\n",
       "417483            задиряне          3\n",
       "417484           пермското          3\n",
       "417485            дублеков          3\n",
       "417486            реланиум          3\n",
       "417487           съдърфорд          3\n",
       "417488        теотокопулос          3\n",
       "417489              дъруел          3\n",
       "417490           звънкайки          3\n",
       "417491  северногерманските          3\n",
       "417492         мантикорска          3\n",
       "417493           потстикър          3\n",
       "417494              майдей          3\n",
       "417495              20-чка          3\n",
       "417496               аледа          3\n",
       "417497             кетунен          3"
      ]
     },
     "execution_count": 106,
     "metadata": {},
     "output_type": "execute_result"
    }
   ],
   "source": [
    "bg_wordlist.tail(20)"
   ]
  },
  {
   "cell_type": "markdown",
   "metadata": {},
   "source": [
    "There are still some typos here and there but for our purposes I say that's okay.\n",
    "\n",
    "Now all that's left to do is load the stopwords."
   ]
  },
  {
   "cell_type": "code",
   "execution_count": 107,
   "metadata": {},
   "outputs": [],
   "source": [
    "bg_stopwords = pd.read_csv('bulgarian.txt', header=None, names=['word']).word"
   ]
  },
  {
   "cell_type": "code",
   "execution_count": 108,
   "metadata": {},
   "outputs": [
    {
     "data": {
      "text/plain": [
       "249        ч\n",
       "250     часа\n",
       "251       че\n",
       "252    често\n",
       "253     чрез\n",
       "254       ще\n",
       "255      щом\n",
       "256    юмрук\n",
       "257        я\n",
       "258       як\n",
       "Name: word, dtype: object"
      ]
     },
     "execution_count": 108,
     "metadata": {},
     "output_type": "execute_result"
    }
   ],
   "source": [
    "bg_stopwords.tail(10)"
   ]
  },
  {
   "cell_type": "code",
   "execution_count": 109,
   "metadata": {},
   "outputs": [],
   "source": [
    "en_stopwords = pd.Series(stopwords.words('english'))"
   ]
  },
  {
   "cell_type": "code",
   "execution_count": 110,
   "metadata": {},
   "outputs": [
    {
     "data": {
      "text/plain": [
       "169      shouldn\n",
       "170    shouldn't\n",
       "171         wasn\n",
       "172       wasn't\n",
       "173        weren\n",
       "174      weren't\n",
       "175          won\n",
       "176        won't\n",
       "177       wouldn\n",
       "178     wouldn't\n",
       "dtype: object"
      ]
     },
     "execution_count": 110,
     "metadata": {},
     "output_type": "execute_result"
    }
   ],
   "source": [
    "en_stopwords.tail(10)"
   ]
  },
  {
   "cell_type": "markdown",
   "metadata": {},
   "source": [
    "#### 6.4 Extracting valid words\n",
    "\n",
    "A quick optimization beforehand:"
   ]
  },
  {
   "cell_type": "code",
   "execution_count": 111,
   "metadata": {},
   "outputs": [
    {
     "data": {
      "text/plain": [
       "Index                80\n",
       "sender_name    15334120\n",
       "word           15334120\n",
       "timestamp      15334120\n",
       "dtype: int64"
      ]
     },
     "execution_count": 111,
     "metadata": {},
     "output_type": "execute_result"
    }
   ],
   "source": [
    "words_by_space.memory_usage()"
   ]
  },
  {
   "cell_type": "code",
   "execution_count": 112,
   "metadata": {},
   "outputs": [
    {
     "data": {
      "text/plain": [
       "Index                80\n",
       "sender_name     1917533\n",
       "word           14143060\n",
       "timestamp      15334120\n",
       "dtype: int64"
      ]
     },
     "execution_count": 112,
     "metadata": {},
     "output_type": "execute_result"
    }
   ],
   "source": [
    "words_by_space.sender_name = words_by_space.sender_name.astype('category')\n",
    "words_by_space.word = words_by_space.word.astype('category')\n",
    "\n",
    "words_by_tokenizer.sender_name = words_by_tokenizer.sender_name.astype('category')\n",
    "words_by_tokenizer.word = words_by_tokenizer.word.astype('category')\n",
    "\n",
    "words_by_space.memory_usage()"
   ]
  },
  {
   "cell_type": "code",
   "execution_count": 113,
   "metadata": {},
   "outputs": [
    {
     "data": {
      "text/plain": [
       "sender_name          category\n",
       "word                 category\n",
       "timestamp      datetime64[ns]\n",
       "dtype: object"
      ]
     },
     "execution_count": 113,
     "metadata": {},
     "output_type": "execute_result"
    }
   ],
   "source": [
    "words_by_space.dtypes"
   ]
  },
  {
   "cell_type": "markdown",
   "metadata": {},
   "source": [
    "And we just follow the flowchart.\n",
    "\n",
    "<br>\n",
    "\n",
    "Check to see if it is a latin emoticon."
   ]
  },
  {
   "cell_type": "code",
   "execution_count": 114,
   "metadata": {},
   "outputs": [],
   "source": [
    "emoticons_latin = words_by_space[(words_by_space.word.isin(emoticons.emoticon))]"
   ]
  },
  {
   "cell_type": "code",
   "execution_count": 115,
   "metadata": {},
   "outputs": [
    {
     "data": {
      "text/plain": [
       ":d     47456\n",
       ";d      2649\n",
       ":)       677\n",
       "<3       426\n",
       ";)       323\n",
       "^^       321\n",
       "xd       280\n",
       "=d       278\n",
       ":(       267\n",
       ":/       256\n",
       ":p       232\n",
       "d:       131\n",
       "^_^      128\n",
       ":-d      100\n",
       ";(        57\n",
       "Name: word, dtype: int64"
      ]
     },
     "execution_count": 115,
     "metadata": {},
     "output_type": "execute_result"
    }
   ],
   "source": [
    "emoticons_latin.word.value_counts().head(15)"
   ]
  },
  {
   "cell_type": "markdown",
   "metadata": {},
   "source": [
    "Check to see if it's a cyrillic emoticon."
   ]
  },
  {
   "cell_type": "code",
   "execution_count": 116,
   "metadata": {},
   "outputs": [],
   "source": [
    "emoticons_recycled = words_by_space[(words_by_space.word.isin(emoticons.emoticon))==False].copy()\n",
    "emoticons_recycled.word = emoticons_recycled.word.apply(translit_bg, args=(reversed, True))\n",
    "emoticons_recycled = emoticons_recycled[emoticons_recycled.word.isin(emoticons.emoticon)]"
   ]
  },
  {
   "cell_type": "code",
   "execution_count": 117,
   "metadata": {},
   "outputs": [
    {
     "data": {
      "text/plain": [
       ":d     17227\n",
       ";d      2315\n",
       "d:       127\n",
       ":p        91\n",
       ";p        25\n",
       "d;        23\n",
       ":o        11\n",
       "do:        2\n",
       "p:         2\n",
       "=d         2\n",
       "o:         1\n",
       "Name: word, dtype: int64"
      ]
     },
     "execution_count": 117,
     "metadata": {},
     "output_type": "execute_result"
    }
   ],
   "source": [
    "emoticons_recycled.word.value_counts().head(15)"
   ]
  },
  {
   "cell_type": "markdown",
   "metadata": {},
   "source": [
    "Revert back to cyrillic state to preserve semantic meaning."
   ]
  },
  {
   "cell_type": "code",
   "execution_count": 118,
   "metadata": {},
   "outputs": [],
   "source": [
    "emoticons_recycled.word = emoticons_recycled.word.apply(translit_bg)"
   ]
  },
  {
   "cell_type": "code",
   "execution_count": 119,
   "metadata": {},
   "outputs": [
    {
     "data": {
      "text/plain": [
       ":д     17227\n",
       ";д      2315\n",
       "д:       127\n",
       ":п        91\n",
       ";п        25\n",
       "д;        23\n",
       ":о        11\n",
       "до:        2\n",
       "=д         2\n",
       "п:         2\n",
       "о:         1\n",
       "Name: word, dtype: int64"
      ]
     },
     "execution_count": 119,
     "metadata": {},
     "output_type": "execute_result"
    }
   ],
   "source": [
    "emoticons_recycled.word.value_counts()"
   ]
  },
  {
   "cell_type": "markdown",
   "metadata": {},
   "source": [
    "Visualize data."
   ]
  },
  {
   "cell_type": "code",
   "execution_count": 120,
   "metadata": {},
   "outputs": [],
   "source": [
    "emoticons_combined = pd.concat(objs=[emoticons_latin, emoticons_recycled])"
   ]
  },
  {
   "cell_type": "code",
   "execution_count": 121,
   "metadata": {},
   "outputs": [],
   "source": [
    "emoticons_combined.word = emoticons_combined.word.str.upper()"
   ]
  },
  {
   "cell_type": "code",
   "execution_count": 122,
   "metadata": {},
   "outputs": [
    {
     "data": {
      "image/png": "[encoded data removed]",
      "text/plain": [
       "<Figure size 864x648 with 1 Axes>"
      ]
     },
     "metadata": {},
     "output_type": "display_data"
    }
   ],
   "source": [
    "reacts = WordCloud(width=1024, height = 1024, prefer_horizontal=1).generate_from_frequencies(emoticons_combined.word.str.upper().value_counts())\n",
    "plt.figure(figsize=(12, 9), facecolor='k')\n",
    "plt.imshow(reacts)\n",
    "plt.show()"
   ]
  },
  {
   "cell_type": "markdown",
   "metadata": {},
   "source": [
    "Check if it's a valid emoji."
   ]
  },
  {
   "cell_type": "code",
   "execution_count": 123,
   "metadata": {},
   "outputs": [],
   "source": [
    "emojis = words_by_space[words_by_space.word.isin(UNICODE_EMOJI)]"
   ]
  },
  {
   "cell_type": "code",
   "execution_count": 124,
   "metadata": {},
   "outputs": [
    {
     "data": {
      "text/plain": [
       "😃    3365\n",
       "😀     885\n",
       "😂     148\n",
       "😁     101\n",
       "😘      50\n",
       "😄      41\n",
       "😉      30\n",
       "😎      29\n",
       "🙂      18\n",
       "☺      16\n",
       "😝      15\n",
       "😞      13\n",
       "😏      10\n",
       "✌      10\n",
       "😮      10\n",
       "Name: word, dtype: int64"
      ]
     },
     "execution_count": 124,
     "metadata": {},
     "output_type": "execute_result"
    }
   ],
   "source": [
    "emojis.word.value_counts().head(15)"
   ]
  },
  {
   "cell_type": "markdown",
   "metadata": {},
   "source": [
    "Combine all emojicons."
   ]
  },
  {
   "cell_type": "code",
   "execution_count": 125,
   "metadata": {},
   "outputs": [],
   "source": [
    "emojicons = pd.concat(objs=[emoticons_combined, emojis])"
   ]
  },
  {
   "cell_type": "code",
   "execution_count": 126,
   "metadata": {},
   "outputs": [
    {
     "data": {
      "text/plain": [
       ":D     47456\n",
       ":Д     17227\n",
       "😃       3365\n",
       ";D      2649\n",
       ";Д      2315\n",
       "😀        885\n",
       ":)       677\n",
       "<3       426\n",
       ";)       323\n",
       "^^       321\n",
       "XD       280\n",
       "=D       278\n",
       ":(       267\n",
       ":/       256\n",
       ":P       232\n",
       "😂        148\n",
       "D:       131\n",
       "^_^      128\n",
       "Д:       127\n",
       "😁        101\n",
       ":-D      100\n",
       ":П        91\n",
       ";(        57\n",
       "ಠ_ಠ       53\n",
       "😘         50\n",
       "^-^       42\n",
       "😄         41\n",
       ":@        37\n",
       ":|        34\n",
       ":O        31\n",
       "       ...  \n",
       "🍭          1\n",
       "):         1\n",
       "😛          1\n",
       ":{         1\n",
       "🐙          1\n",
       "😩          1\n",
       "🚼          1\n",
       "⚽          1\n",
       "🎅🏿         1\n",
       ";@         1\n",
       "👓          1\n",
       "🌟          1\n",
       "👟          1\n",
       "🥊          1\n",
       "🔨          1\n",
       "🙆🏼         1\n",
       "P=         1\n",
       ":-(        1\n",
       "🍆          1\n",
       "☢          1\n",
       "🙀          1\n",
       "🙆🏻         1\n",
       ";O         1\n",
       "👺          1\n",
       "😰          1\n",
       "🙋🏻         1\n",
       "😬          1\n",
       ":}         1\n",
       "⚡          1\n",
       "😐          1\n",
       "Name: word, Length: 218, dtype: int64"
      ]
     },
     "execution_count": 126,
     "metadata": {},
     "output_type": "execute_result"
    }
   ],
   "source": [
    "emojicons.word.value_counts()"
   ]
  },
  {
   "cell_type": "markdown",
   "metadata": {},
   "source": [
    "Check if string is in already parsed links."
   ]
  },
  {
   "cell_type": "code",
   "execution_count": 127,
   "metadata": {},
   "outputs": [],
   "source": [
    "websites = words_by_space[words_by_space.word.isin(combined_links)].copy()\n",
    "websites.word = websites.word.apply(lambda x: urlparse(x).netloc)"
   ]
  },
  {
   "cell_type": "code",
   "execution_count": 128,
   "metadata": {},
   "outputs": [
    {
     "data": {
      "text/plain": [
       "www.youtube.com     3058\n",
       "www.facebook.com    1006\n",
       "get.adobe.com        320\n",
       "youtu.be             171\n",
       "i.imgur.com          149\n",
       "Name: word, dtype: int64"
      ]
     },
     "execution_count": 128,
     "metadata": {},
     "output_type": "execute_result"
    }
   ],
   "source": [
    "websites.word.value_counts().head()"
   ]
  },
  {
   "cell_type": "markdown",
   "metadata": {},
   "source": [
    "What the hell? The \"get.adobe.com\" link wasn't in the top positions before. Let us investigate."
   ]
  },
  {
   "cell_type": "code",
   "execution_count": 129,
   "metadata": {},
   "outputs": [
    {
     "data": {
      "text/html": [
       "<div>\n",
       "<style scoped>\n",
       "    .dataframe tbody tr th:only-of-type {\n",
       "        vertical-align: middle;\n",
       "    }\n",
       "\n",
       "    .dataframe tbody tr th {\n",
       "        vertical-align: top;\n",
       "    }\n",
       "\n",
       "    .dataframe thead th {\n",
       "        text-align: right;\n",
       "    }\n",
       "</style>\n",
       "<table border=\"1\" class=\"dataframe\">\n",
       "  <thead>\n",
       "    <tr style=\"text-align: right;\">\n",
       "      <th></th>\n",
       "      <th>sender_name</th>\n",
       "      <th>word</th>\n",
       "      <th>timestamp</th>\n",
       "    </tr>\n",
       "  </thead>\n",
       "  <tbody>\n",
       "    <tr>\n",
       "      <th>35613</th>\n",
       "      <td>Алексиа Таралингова</td>\n",
       "      <td>get.adobe.com</td>\n",
       "      <td>2012-07-20 21:40:08.338</td>\n",
       "    </tr>\n",
       "    <tr>\n",
       "      <th>35636</th>\n",
       "      <td>Алексиа Таралингова</td>\n",
       "      <td>get.adobe.com</td>\n",
       "      <td>2012-07-20 21:41:30.156</td>\n",
       "    </tr>\n",
       "    <tr>\n",
       "      <th>35643</th>\n",
       "      <td>Алексиа Таралингова</td>\n",
       "      <td>get.adobe.com</td>\n",
       "      <td>2012-07-20 21:42:00.780</td>\n",
       "    </tr>\n",
       "    <tr>\n",
       "      <th>35644</th>\n",
       "      <td>Алексиа Таралингова</td>\n",
       "      <td>get.adobe.com</td>\n",
       "      <td>2012-07-20 21:42:00.780</td>\n",
       "    </tr>\n",
       "    <tr>\n",
       "      <th>35645</th>\n",
       "      <td>Алексиа Таралингова</td>\n",
       "      <td>get.adobe.com</td>\n",
       "      <td>2012-07-20 21:42:00.780</td>\n",
       "    </tr>\n",
       "    <tr>\n",
       "      <th>35646</th>\n",
       "      <td>Алексиа Таралингова</td>\n",
       "      <td>get.adobe.com</td>\n",
       "      <td>2012-07-20 21:42:00.780</td>\n",
       "    </tr>\n",
       "    <tr>\n",
       "      <th>35647</th>\n",
       "      <td>Алексиа Таралингова</td>\n",
       "      <td>get.adobe.com</td>\n",
       "      <td>2012-07-20 21:42:00.780</td>\n",
       "    </tr>\n",
       "    <tr>\n",
       "      <th>35648</th>\n",
       "      <td>Алексиа Таралингова</td>\n",
       "      <td>get.adobe.com</td>\n",
       "      <td>2012-07-20 21:42:00.780</td>\n",
       "    </tr>\n",
       "    <tr>\n",
       "      <th>35649</th>\n",
       "      <td>Алексиа Таралингова</td>\n",
       "      <td>get.adobe.com</td>\n",
       "      <td>2012-07-20 21:42:00.780</td>\n",
       "    </tr>\n",
       "    <tr>\n",
       "      <th>35650</th>\n",
       "      <td>Алексиа Таралингова</td>\n",
       "      <td>get.adobe.com</td>\n",
       "      <td>2012-07-20 21:42:00.780</td>\n",
       "    </tr>\n",
       "  </tbody>\n",
       "</table>\n",
       "</div>"
      ],
      "text/plain": [
       "               sender_name           word               timestamp\n",
       "35613  Алексиа Таралингова  get.adobe.com 2012-07-20 21:40:08.338\n",
       "35636  Алексиа Таралингова  get.adobe.com 2012-07-20 21:41:30.156\n",
       "35643  Алексиа Таралингова  get.adobe.com 2012-07-20 21:42:00.780\n",
       "35644  Алексиа Таралингова  get.adobe.com 2012-07-20 21:42:00.780\n",
       "35645  Алексиа Таралингова  get.adobe.com 2012-07-20 21:42:00.780\n",
       "35646  Алексиа Таралингова  get.adobe.com 2012-07-20 21:42:00.780\n",
       "35647  Алексиа Таралингова  get.adobe.com 2012-07-20 21:42:00.780\n",
       "35648  Алексиа Таралингова  get.adobe.com 2012-07-20 21:42:00.780\n",
       "35649  Алексиа Таралингова  get.adobe.com 2012-07-20 21:42:00.780\n",
       "35650  Алексиа Таралингова  get.adobe.com 2012-07-20 21:42:00.780"
      ]
     },
     "execution_count": 129,
     "metadata": {},
     "output_type": "execute_result"
    }
   ],
   "source": [
    "websites[websites.word.isin([\"get.adobe.com\"])].head(10)"
   ]
  },
  {
   "cell_type": "code",
   "execution_count": 130,
   "metadata": {},
   "outputs": [
    {
     "data": {
      "text/plain": [
       "['http://get.adobe.com/flashplayer/ http://get.adobe.com/flashplayer/ http://get.adobe.com/flashplayer/ http://get.adobe.com/flashplayer/ http://get.adobe.com/flashplayer/ http://get.adobe.com/flashplayer/ http://get.adobe.com/flashplayer/ http://get.adobe.com/flashplayer/ http://get.adobe.com/flashplayer/ http://get.adobe.com/flashplayer/ http://get.adobe.com/flashplayer/ http://get.adobe.com/flashplayer/ http://get.adobe.com/flashplayer/ http://get.adobe.com/flashplayer/ http://get.adobe.com/flashplayer/ http://get.adobe.com/flashplayer/ http://get.adobe.com/flashplayer/ http://get.adobe.com/flashplayer/ http://get.adobe.com/flashplayer/ http://get.adobe.com/flashplayer/ http://get.adobe.com/flashplayer/ http://get.adobe.com/flashplayer/ http://get.adobe.com/flashplayer/ http://get.adobe.com/flashplayer/ http://get.adobe.com/flashplayer/ http://get.adobe.com/flashplayer/ http://get.adobe.com/flashplayer/ http://get.adobe.com/flashplayer/ http://get.adobe.com/flashplayer/ http://get.adobe.com/flashplayer/ http://get.adobe.com/flashplayer/ http://get.adobe.com/flashplayer/ http://get.adobe.com/flashplayer/ http://get.adobe.com/flashplayer/ http://get.adobe.com/flashplayer/ http://get.adobe.com/flashplayer/ http://get.adobe.com/flashplayer/ http://get.adobe.com/flashplayer/ http://get.adobe.com/flashplayer/ http://get.adobe.com/flashplayer/ http://get.adobe.com/flashplayer/ http://get.adobe.com/flashplayer/ http://get.adobe.com/flashplayer/ http://get.adobe.com/flashplayer/ http://get.adobe.com/flashplayer/ http://get.adobe.com/flashplayer/ http://get.adobe.com/flashplayer/ http://get.adobe.com/flashplayer/ http://get.adobe.com/flashplayer/ http://get.adobe.com/flashplayer/ http://get.adobe.com/flashplayer/ http://get.adobe.com/flashplayer/ http://get.adobe.com/flashplayer/ http://get.adobe.com/flashplayer/ http://get.adobe.com/flashplayer/ http://get.adobe.com/flashplayer/ ']"
      ]
     },
     "execution_count": 130,
     "metadata": {},
     "output_type": "execute_result"
    }
   ],
   "source": [
    "mess[mess.index==\"2012-07-20 21:42:00.780\"].content.tolist()"
   ]
  },
  {
   "cell_type": "markdown",
   "metadata": {},
   "source": [
    "I'm classifying this as garbage and moving on."
   ]
  },
  {
   "cell_type": "code",
   "execution_count": 131,
   "metadata": {},
   "outputs": [],
   "source": [
    "websites = websites[websites.word.isin([\"get.adobe.com\"])==False]"
   ]
  },
  {
   "cell_type": "code",
   "execution_count": 132,
   "metadata": {},
   "outputs": [
    {
     "data": {
      "text/plain": [
       "www.youtube.com     3058\n",
       "www.facebook.com    1006\n",
       "youtu.be             171\n",
       "i.imgur.com          149\n",
       "www.reddit.com       114\n",
       "Name: word, dtype: int64"
      ]
     },
     "execution_count": 132,
     "metadata": {},
     "output_type": "execute_result"
    }
   ],
   "source": [
    "websites.word.value_counts().head()"
   ]
  },
  {
   "cell_type": "markdown",
   "metadata": {},
   "source": [
    "Next are all the tokenized words. First we discard all words with length smaller than 3 characters."
   ]
  },
  {
   "cell_type": "code",
   "execution_count": 133,
   "metadata": {},
   "outputs": [],
   "source": [
    "words_by_tokenizer = words_by_tokenizer[words_by_tokenizer.word.apply(len) >= 3]"
   ]
  },
  {
   "cell_type": "markdown",
   "metadata": {},
   "source": [
    "Then we check each word in the English and Bulgarian wordlist."
   ]
  },
  {
   "cell_type": "code",
   "execution_count": 134,
   "metadata": {},
   "outputs": [],
   "source": [
    "bg_words = words_by_tokenizer[(words_by_tokenizer.word.isin(bg_wordlist.word))\n",
    "                              & (words_by_tokenizer.word.isin(en_wordlist.word)==False)]\n",
    "\n",
    "en_words = words_by_tokenizer[(words_by_tokenizer.word.isin(en_wordlist.word)) \n",
    "                              & (words_by_tokenizer.word.isin(bg_wordlist.word)==False)]\n",
    "\n",
    "recycled_words = words_by_tokenizer[(words_by_tokenizer.word.isin(bg_wordlist.word)==False) \n",
    "                                    & (words_by_tokenizer.word.isin(en_wordlist.word)==False)]"
   ]
  },
  {
   "cell_type": "markdown",
   "metadata": {},
   "source": [
    "A quick function for easier view of the three categories."
   ]
  },
  {
   "cell_type": "code",
   "execution_count": 135,
   "metadata": {},
   "outputs": [],
   "source": [
    "def top_words_each(df1, df2, df3, n=10):\n",
    "    top_words_each = pd.DataFrame(data=[df1.word.value_counts().head(n).index, df2.word.value_counts().head(n).index, df3.word.value_counts().head(n).index]).T\n",
    "    top_words_each.columns = ['bg', 'en', 'rec']\n",
    "    return top_words_each"
   ]
  },
  {
   "cell_type": "code",
   "execution_count": 136,
   "metadata": {},
   "outputs": [
    {
     "data": {
      "text/html": [
       "<div>\n",
       "<style scoped>\n",
       "    .dataframe tbody tr th:only-of-type {\n",
       "        vertical-align: middle;\n",
       "    }\n",
       "\n",
       "    .dataframe tbody tr th {\n",
       "        vertical-align: top;\n",
       "    }\n",
       "\n",
       "    .dataframe thead th {\n",
       "        text-align: right;\n",
       "    }\n",
       "</style>\n",
       "<table border=\"1\" class=\"dataframe\">\n",
       "  <thead>\n",
       "    <tr style=\"text-align: right;\">\n",
       "      <th></th>\n",
       "      <th>bg</th>\n",
       "      <th>en</th>\n",
       "      <th>rec</th>\n",
       "    </tr>\n",
       "  </thead>\n",
       "  <tbody>\n",
       "    <tr>\n",
       "      <th>0</th>\n",
       "      <td>ама</td>\n",
       "      <td>you</td>\n",
       "      <td>...</td>\n",
       "    </tr>\n",
       "    <tr>\n",
       "      <th>1</th>\n",
       "      <td>съм</td>\n",
       "      <td>the</td>\n",
       "      <td>n't</td>\n",
       "    </tr>\n",
       "    <tr>\n",
       "      <th>2</th>\n",
       "      <td>като</td>\n",
       "      <td>and</td>\n",
       "      <td>idk</td>\n",
       "    </tr>\n",
       "    <tr>\n",
       "      <th>3</th>\n",
       "      <td>ако</td>\n",
       "      <td>that</td>\n",
       "      <td>'re</td>\n",
       "    </tr>\n",
       "    <tr>\n",
       "      <th>4</th>\n",
       "      <td>няма</td>\n",
       "      <td>like</td>\n",
       "      <td>lol</td>\n",
       "    </tr>\n",
       "    <tr>\n",
       "      <th>5</th>\n",
       "      <td>може</td>\n",
       "      <td>what</td>\n",
       "      <td>shte</td>\n",
       "    </tr>\n",
       "    <tr>\n",
       "      <th>6</th>\n",
       "      <td>има</td>\n",
       "      <td>not</td>\n",
       "      <td>'ll</td>\n",
       "    </tr>\n",
       "    <tr>\n",
       "      <th>7</th>\n",
       "      <td>това</td>\n",
       "      <td>but</td>\n",
       "      <td>ддз</td>\n",
       "    </tr>\n",
       "    <tr>\n",
       "      <th>8</th>\n",
       "      <td>как</td>\n",
       "      <td>just</td>\n",
       "      <td>btw</td>\n",
       "    </tr>\n",
       "    <tr>\n",
       "      <th>9</th>\n",
       "      <td>само</td>\n",
       "      <td>well</td>\n",
       "      <td>смис</td>\n",
       "    </tr>\n",
       "  </tbody>\n",
       "</table>\n",
       "</div>"
      ],
      "text/plain": [
       "     bg    en   rec\n",
       "0   ама   you   ...\n",
       "1   съм   the   n't\n",
       "2  като   and   idk\n",
       "3   ако  that   're\n",
       "4  няма  like   lol\n",
       "5  може  what  shte\n",
       "6   има   not   'll\n",
       "7  това   but   ддз\n",
       "8   как  just   btw\n",
       "9  само  well  смис"
      ]
     },
     "execution_count": 136,
     "metadata": {},
     "output_type": "execute_result"
    }
   ],
   "source": [
    "top_words_each(bg_words, en_words, recycled_words)"
   ]
  },
  {
   "cell_type": "code",
   "execution_count": 137,
   "metadata": {},
   "outputs": [],
   "source": [
    "recycled_words = recycled_words.copy()\n",
    "recycled_words.word = recycled_words.word.apply(translit_bg)\n",
    "recycled_words = recycled_words[recycled_words.word.isin(bg_wordlist.word)]"
   ]
  },
  {
   "cell_type": "code",
   "execution_count": 138,
   "metadata": {},
   "outputs": [
    {
     "data": {
      "text/html": [
       "<div>\n",
       "<style scoped>\n",
       "    .dataframe tbody tr th:only-of-type {\n",
       "        vertical-align: middle;\n",
       "    }\n",
       "\n",
       "    .dataframe tbody tr th {\n",
       "        vertical-align: top;\n",
       "    }\n",
       "\n",
       "    .dataframe thead th {\n",
       "        text-align: right;\n",
       "    }\n",
       "</style>\n",
       "<table border=\"1\" class=\"dataframe\">\n",
       "  <thead>\n",
       "    <tr style=\"text-align: right;\">\n",
       "      <th></th>\n",
       "      <th>bg</th>\n",
       "      <th>en</th>\n",
       "      <th>rec</th>\n",
       "    </tr>\n",
       "  </thead>\n",
       "  <tbody>\n",
       "    <tr>\n",
       "      <th>0</th>\n",
       "      <td>ама</td>\n",
       "      <td>you</td>\n",
       "      <td>идк</td>\n",
       "    </tr>\n",
       "    <tr>\n",
       "      <th>1</th>\n",
       "      <td>съм</td>\n",
       "      <td>the</td>\n",
       "      <td>лол</td>\n",
       "    </tr>\n",
       "    <tr>\n",
       "      <th>2</th>\n",
       "      <td>като</td>\n",
       "      <td>and</td>\n",
       "      <td>ще</td>\n",
       "    </tr>\n",
       "    <tr>\n",
       "      <th>3</th>\n",
       "      <td>ако</td>\n",
       "      <td>that</td>\n",
       "      <td>бтв</td>\n",
       "    </tr>\n",
       "    <tr>\n",
       "      <th>4</th>\n",
       "      <td>няма</td>\n",
       "      <td>like</td>\n",
       "      <td>като</td>\n",
       "    </tr>\n",
       "    <tr>\n",
       "      <th>5</th>\n",
       "      <td>може</td>\n",
       "      <td>what</td>\n",
       "      <td>няма</td>\n",
       "    </tr>\n",
       "    <tr>\n",
       "      <th>6</th>\n",
       "      <td>има</td>\n",
       "      <td>not</td>\n",
       "      <td>как</td>\n",
       "    </tr>\n",
       "    <tr>\n",
       "      <th>7</th>\n",
       "      <td>това</td>\n",
       "      <td>but</td>\n",
       "      <td>само</td>\n",
       "    </tr>\n",
       "    <tr>\n",
       "      <th>8</th>\n",
       "      <td>как</td>\n",
       "      <td>just</td>\n",
       "      <td>тва</td>\n",
       "    </tr>\n",
       "    <tr>\n",
       "      <th>9</th>\n",
       "      <td>само</td>\n",
       "      <td>well</td>\n",
       "      <td>нах</td>\n",
       "    </tr>\n",
       "  </tbody>\n",
       "</table>\n",
       "</div>"
      ],
      "text/plain": [
       "     bg    en   rec\n",
       "0   ама   you   идк\n",
       "1   съм   the   лол\n",
       "2  като   and    ще\n",
       "3   ако  that   бтв\n",
       "4  няма  like  като\n",
       "5  може  what  няма\n",
       "6   има   not   как\n",
       "7  това   but  само\n",
       "8   как  just   тва\n",
       "9  само  well   нах"
      ]
     },
     "execution_count": 138,
     "metadata": {},
     "output_type": "execute_result"
    }
   ],
   "source": [
    "top_words_each(bg_words, en_words, recycled_words)"
   ]
  },
  {
   "cell_type": "markdown",
   "metadata": {},
   "source": [
    "Check if it's a stopword."
   ]
  },
  {
   "cell_type": "code",
   "execution_count": 139,
   "metadata": {},
   "outputs": [],
   "source": [
    "bg_words = bg_words[bg_words.word.isin(bg_stopwords)==False]\n",
    "en_words = en_words[en_words.word.isin(en_stopwords)==False]\n",
    "recycled_words = recycled_words[recycled_words.word.isin(bg_stopwords)==False]"
   ]
  },
  {
   "cell_type": "code",
   "execution_count": 140,
   "metadata": {},
   "outputs": [
    {
     "data": {
      "text/html": [
       "<div>\n",
       "<style scoped>\n",
       "    .dataframe tbody tr th:only-of-type {\n",
       "        vertical-align: middle;\n",
       "    }\n",
       "\n",
       "    .dataframe tbody tr th {\n",
       "        vertical-align: top;\n",
       "    }\n",
       "\n",
       "    .dataframe thead th {\n",
       "        text-align: right;\n",
       "    }\n",
       "</style>\n",
       "<table border=\"1\" class=\"dataframe\">\n",
       "  <thead>\n",
       "    <tr style=\"text-align: right;\">\n",
       "      <th></th>\n",
       "      <th>bg</th>\n",
       "      <th>en</th>\n",
       "      <th>rec</th>\n",
       "    </tr>\n",
       "  </thead>\n",
       "  <tbody>\n",
       "    <tr>\n",
       "      <th>0</th>\n",
       "      <td>ама</td>\n",
       "      <td>like</td>\n",
       "      <td>идк</td>\n",
       "    </tr>\n",
       "    <tr>\n",
       "      <th>1</th>\n",
       "      <td>тва</td>\n",
       "      <td>well</td>\n",
       "      <td>лол</td>\n",
       "    </tr>\n",
       "    <tr>\n",
       "      <th>2</th>\n",
       "      <td>кво</td>\n",
       "      <td>know</td>\n",
       "      <td>бтв</td>\n",
       "    </tr>\n",
       "    <tr>\n",
       "      <th>3</th>\n",
       "      <td>знам</td>\n",
       "      <td>yeah</td>\n",
       "      <td>тва</td>\n",
       "    </tr>\n",
       "    <tr>\n",
       "      <th>4</th>\n",
       "      <td>просто</td>\n",
       "      <td>one</td>\n",
       "      <td>нах</td>\n",
       "    </tr>\n",
       "    <tr>\n",
       "      <th>5</th>\n",
       "      <td>еми</td>\n",
       "      <td>get</td>\n",
       "      <td>мех</td>\n",
       "    </tr>\n",
       "    <tr>\n",
       "      <th>6</th>\n",
       "      <td>нали</td>\n",
       "      <td>good</td>\n",
       "      <td>нали</td>\n",
       "    </tr>\n",
       "    <tr>\n",
       "      <th>7</th>\n",
       "      <td>имам</td>\n",
       "      <td>fuck</td>\n",
       "      <td>кинда</td>\n",
       "    </tr>\n",
       "    <tr>\n",
       "      <th>8</th>\n",
       "      <td>дае</td>\n",
       "      <td>time</td>\n",
       "      <td>ама</td>\n",
       "    </tr>\n",
       "    <tr>\n",
       "      <th>9</th>\n",
       "      <td>щот</td>\n",
       "      <td>okay</td>\n",
       "      <td>еми</td>\n",
       "    </tr>\n",
       "  </tbody>\n",
       "</table>\n",
       "</div>"
      ],
      "text/plain": [
       "       bg    en    rec\n",
       "0     ама  like    идк\n",
       "1     тва  well    лол\n",
       "2     кво  know    бтв\n",
       "3    знам  yeah    тва\n",
       "4  просто   one    нах\n",
       "5     еми   get    мех\n",
       "6    нали  good   нали\n",
       "7    имам  fuck  кинда\n",
       "8     дае  time    ама\n",
       "9     щот  okay    еми"
      ]
     },
     "execution_count": 140,
     "metadata": {},
     "output_type": "execute_result"
    }
   ],
   "source": [
    "top_words_each(bg_words, en_words, recycled_words)"
   ]
  },
  {
   "cell_type": "markdown",
   "metadata": {},
   "source": [
    "Stemming."
   ]
  },
  {
   "cell_type": "code",
   "execution_count": 141,
   "metadata": {},
   "outputs": [],
   "source": [
    "# I've changed a few lines of code in bulstem.py to make it work with python 3\n",
    "bg_words.word = bg_words.word.apply(stem)\n",
    "en_words.word = en_words.word.apply(PorterStemmer().stem)\n",
    "recycled_words.word = recycled_words.word.apply(stem)"
   ]
  },
  {
   "cell_type": "code",
   "execution_count": 142,
   "metadata": {},
   "outputs": [
    {
     "data": {
      "text/html": [
       "<div>\n",
       "<style scoped>\n",
       "    .dataframe tbody tr th:only-of-type {\n",
       "        vertical-align: middle;\n",
       "    }\n",
       "\n",
       "    .dataframe tbody tr th {\n",
       "        vertical-align: top;\n",
       "    }\n",
       "\n",
       "    .dataframe thead th {\n",
       "        text-align: right;\n",
       "    }\n",
       "</style>\n",
       "<table border=\"1\" class=\"dataframe\">\n",
       "  <thead>\n",
       "    <tr style=\"text-align: right;\">\n",
       "      <th></th>\n",
       "      <th>bg</th>\n",
       "      <th>en</th>\n",
       "      <th>rec</th>\n",
       "    </tr>\n",
       "  </thead>\n",
       "  <tbody>\n",
       "    <tr>\n",
       "      <th>0</th>\n",
       "      <td>ама</td>\n",
       "      <td>like</td>\n",
       "      <td>идк</td>\n",
       "    </tr>\n",
       "    <tr>\n",
       "      <th>1</th>\n",
       "      <td>иска</td>\n",
       "      <td>well</td>\n",
       "      <td>лол</td>\n",
       "    </tr>\n",
       "    <tr>\n",
       "      <th>2</th>\n",
       "      <td>тва</td>\n",
       "      <td>know</td>\n",
       "      <td>иска</td>\n",
       "    </tr>\n",
       "    <tr>\n",
       "      <th>3</th>\n",
       "      <td>кво</td>\n",
       "      <td>yeah</td>\n",
       "      <td>бтв</td>\n",
       "    </tr>\n",
       "    <tr>\n",
       "      <th>4</th>\n",
       "      <td>знам</td>\n",
       "      <td>fuck</td>\n",
       "      <td>тва</td>\n",
       "    </tr>\n",
       "    <tr>\n",
       "      <th>5</th>\n",
       "      <td>прав</td>\n",
       "      <td>one</td>\n",
       "      <td>нах</td>\n",
       "    </tr>\n",
       "    <tr>\n",
       "      <th>6</th>\n",
       "      <td>просто</td>\n",
       "      <td>get</td>\n",
       "      <td>мех</td>\n",
       "    </tr>\n",
       "    <tr>\n",
       "      <th>7</th>\n",
       "      <td>имам</td>\n",
       "      <td>time</td>\n",
       "      <td>нали</td>\n",
       "    </tr>\n",
       "    <tr>\n",
       "      <th>8</th>\n",
       "      <td>някв</td>\n",
       "      <td>want</td>\n",
       "      <td>кинд</td>\n",
       "    </tr>\n",
       "    <tr>\n",
       "      <th>9</th>\n",
       "      <td>мисл</td>\n",
       "      <td>good</td>\n",
       "      <td>ама</td>\n",
       "    </tr>\n",
       "  </tbody>\n",
       "</table>\n",
       "</div>"
      ],
      "text/plain": [
       "       bg    en   rec\n",
       "0     ама  like   идк\n",
       "1    иска  well   лол\n",
       "2     тва  know  иска\n",
       "3     кво  yeah   бтв\n",
       "4    знам  fuck   тва\n",
       "5    прав   one   нах\n",
       "6  просто   get   мех\n",
       "7    имам  time  нали\n",
       "8    някв  want  кинд\n",
       "9    мисл  good   ама"
      ]
     },
     "execution_count": 142,
     "metadata": {},
     "output_type": "execute_result"
    }
   ],
   "source": [
    "top_words_each(bg_words, en_words, recycled_words)"
   ]
  },
  {
   "cell_type": "markdown",
   "metadata": {},
   "source": [
    "Return Bulgarian words in original latin state."
   ]
  },
  {
   "cell_type": "code",
   "execution_count": 143,
   "metadata": {},
   "outputs": [],
   "source": [
    "recycled_words.word = recycled_words.word.apply(translit_bg, args=(reversed, True))"
   ]
  },
  {
   "cell_type": "code",
   "execution_count": 144,
   "metadata": {},
   "outputs": [
    {
     "data": {
      "text/html": [
       "<div>\n",
       "<style scoped>\n",
       "    .dataframe tbody tr th:only-of-type {\n",
       "        vertical-align: middle;\n",
       "    }\n",
       "\n",
       "    .dataframe tbody tr th {\n",
       "        vertical-align: top;\n",
       "    }\n",
       "\n",
       "    .dataframe thead th {\n",
       "        text-align: right;\n",
       "    }\n",
       "</style>\n",
       "<table border=\"1\" class=\"dataframe\">\n",
       "  <thead>\n",
       "    <tr style=\"text-align: right;\">\n",
       "      <th></th>\n",
       "      <th>bg</th>\n",
       "      <th>en</th>\n",
       "      <th>rec</th>\n",
       "    </tr>\n",
       "  </thead>\n",
       "  <tbody>\n",
       "    <tr>\n",
       "      <th>0</th>\n",
       "      <td>ама</td>\n",
       "      <td>like</td>\n",
       "      <td>idk</td>\n",
       "    </tr>\n",
       "    <tr>\n",
       "      <th>1</th>\n",
       "      <td>иска</td>\n",
       "      <td>well</td>\n",
       "      <td>lol</td>\n",
       "    </tr>\n",
       "    <tr>\n",
       "      <th>2</th>\n",
       "      <td>тва</td>\n",
       "      <td>know</td>\n",
       "      <td>iska</td>\n",
       "    </tr>\n",
       "    <tr>\n",
       "      <th>3</th>\n",
       "      <td>кво</td>\n",
       "      <td>yeah</td>\n",
       "      <td>btv</td>\n",
       "    </tr>\n",
       "    <tr>\n",
       "      <th>4</th>\n",
       "      <td>знам</td>\n",
       "      <td>fuck</td>\n",
       "      <td>tva</td>\n",
       "    </tr>\n",
       "    <tr>\n",
       "      <th>5</th>\n",
       "      <td>прав</td>\n",
       "      <td>one</td>\n",
       "      <td>nah</td>\n",
       "    </tr>\n",
       "    <tr>\n",
       "      <th>6</th>\n",
       "      <td>просто</td>\n",
       "      <td>get</td>\n",
       "      <td>meh</td>\n",
       "    </tr>\n",
       "    <tr>\n",
       "      <th>7</th>\n",
       "      <td>имам</td>\n",
       "      <td>time</td>\n",
       "      <td>nali</td>\n",
       "    </tr>\n",
       "    <tr>\n",
       "      <th>8</th>\n",
       "      <td>някв</td>\n",
       "      <td>want</td>\n",
       "      <td>kind</td>\n",
       "    </tr>\n",
       "    <tr>\n",
       "      <th>9</th>\n",
       "      <td>мисл</td>\n",
       "      <td>good</td>\n",
       "      <td>ama</td>\n",
       "    </tr>\n",
       "  </tbody>\n",
       "</table>\n",
       "</div>"
      ],
      "text/plain": [
       "       bg    en   rec\n",
       "0     ама  like   idk\n",
       "1    иска  well   lol\n",
       "2     тва  know  iska\n",
       "3     кво  yeah   btv\n",
       "4    знам  fuck   tva\n",
       "5    прав   one   nah\n",
       "6  просто   get   meh\n",
       "7    имам  time  nali\n",
       "8    някв  want  kind\n",
       "9    мисл  good   ama"
      ]
     },
     "execution_count": 144,
     "metadata": {},
     "output_type": "execute_result"
    }
   ],
   "source": [
    "top_words_each(bg_words, en_words, recycled_words)"
   ]
  },
  {
   "cell_type": "markdown",
   "metadata": {},
   "source": [
    "Combine all processed strings."
   ]
  },
  {
   "cell_type": "code",
   "execution_count": 145,
   "metadata": {},
   "outputs": [],
   "source": [
    "processed_words = pd.concat(objs=[bg_words, en_words, recycled_words, websites, emojicons])"
   ]
  },
  {
   "cell_type": "code",
   "execution_count": 146,
   "metadata": {},
   "outputs": [
    {
     "data": {
      "text/plain": [
       ":D        47456\n",
       ":Д        17227\n",
       "ама       10371\n",
       "иска       4881\n",
       "тва        4551\n",
       "кво        4098\n",
       "знам       3526\n",
       "прав       3507\n",
       "просто     3439\n",
       "😃          3365\n",
       "Name: word, dtype: int64"
      ]
     },
     "execution_count": 146,
     "metadata": {},
     "output_type": "execute_result"
    }
   ],
   "source": [
    "processed_words.word.value_counts().head(10)"
   ]
  },
  {
   "cell_type": "markdown",
   "metadata": {},
   "source": [
    "And now we must make a corpus out of all the separate words."
   ]
  },
  {
   "cell_type": "markdown",
   "metadata": {},
   "source": [
    "If we bring them back to their original state there are too many messages consisting of only a single word, so that is why we must merge a few messages to make a bigger text.\n",
    "We can experiment with different time periods by which to group the words, but the configuration I've decided on is to join all the words written in a single hour(by each sender)."
   ]
  },
  {
   "cell_type": "code",
   "execution_count": 147,
   "metadata": {},
   "outputs": [],
   "source": [
    "processed_mess = processed_words.groupby([\"sender_name\", processed_words.timestamp.dt.year, processed_words.timestamp.dt.month, processed_words.timestamp.dt.day, processed_words.timestamp.dt.hour]).word.agg(lambda x: ' '.join(x))"
   ]
  },
  {
   "cell_type": "code",
   "execution_count": 148,
   "metadata": {},
   "outputs": [],
   "source": [
    "# processed_words['rapid_fire'] = processed_words[processed_words.timestamp.diff() <= '0 days 00:00:03.333'"
   ]
  },
  {
   "cell_type": "code",
   "execution_count": 149,
   "metadata": {},
   "outputs": [],
   "source": [
    "processed_mess = pd.DataFrame(processed_mess)"
   ]
  },
  {
   "cell_type": "code",
   "execution_count": 150,
   "metadata": {},
   "outputs": [
    {
     "data": {
      "text/html": [
       "<div>\n",
       "<style scoped>\n",
       "    .dataframe tbody tr th:only-of-type {\n",
       "        vertical-align: middle;\n",
       "    }\n",
       "\n",
       "    .dataframe tbody tr th {\n",
       "        vertical-align: top;\n",
       "    }\n",
       "\n",
       "    .dataframe thead th {\n",
       "        text-align: right;\n",
       "    }\n",
       "</style>\n",
       "<table border=\"1\" class=\"dataframe\">\n",
       "  <thead>\n",
       "    <tr style=\"text-align: right;\">\n",
       "      <th></th>\n",
       "      <th></th>\n",
       "      <th></th>\n",
       "      <th></th>\n",
       "      <th></th>\n",
       "      <th>word</th>\n",
       "    </tr>\n",
       "    <tr>\n",
       "      <th>sender_name</th>\n",
       "      <th>timestamp</th>\n",
       "      <th>timestamp</th>\n",
       "      <th>timestamp</th>\n",
       "      <th>timestamp</th>\n",
       "      <th></th>\n",
       "    </tr>\n",
       "  </thead>\n",
       "  <tbody>\n",
       "    <tr>\n",
       "      <th rowspan=\"5\" valign=\"top\">Фирчо Ждраков</th>\n",
       "      <th rowspan=\"5\" valign=\"top\">2019</th>\n",
       "      <th rowspan=\"5\" valign=\"top\">7</th>\n",
       "      <th>14</th>\n",
       "      <th>20</th>\n",
       "      <td>иска чете ясно спя рано став айде taka momenta...</td>\n",
       "    </tr>\n",
       "    <tr>\n",
       "      <th rowspan=\"2\" valign=\"top\">18</th>\n",
       "      <th>16</th>\n",
       "      <td>бяхм училищ казв 😃</td>\n",
       "    </tr>\n",
       "    <tr>\n",
       "      <th>17</th>\n",
       "      <td>пита адриян мда дайт хаха свет нощт връща изгу...</td>\n",
       "    </tr>\n",
       "    <tr>\n",
       "      <th>21</th>\n",
       "      <th>13</th>\n",
       "      <td>накъде ходи ади трит лъва еее жалк</td>\n",
       "    </tr>\n",
       "    <tr>\n",
       "      <th>22</th>\n",
       "      <th>13</th>\n",
       "      <td>тъкм видя ама гледам рабо</td>\n",
       "    </tr>\n",
       "  </tbody>\n",
       "</table>\n",
       "</div>"
      ],
      "text/plain": [
       "                                                                                                    word\n",
       "sender_name   timestamp timestamp timestamp timestamp                                                   \n",
       "Фирчо Ждраков 2019      7         14        20         иска чете ясно спя рано став айде taka momenta...\n",
       "                                  18        16                                        бяхм училищ казв 😃\n",
       "                                            17         пита адриян мда дайт хаха свет нощт връща изгу...\n",
       "                                  21        13                        накъде ходи ади трит лъва еее жалк\n",
       "                                  22        13                                 тъкм видя ама гледам рабо"
      ]
     },
     "execution_count": 150,
     "metadata": {},
     "output_type": "execute_result"
    }
   ],
   "source": [
    "processed_mess.tail()"
   ]
  },
  {
   "cell_type": "code",
   "execution_count": 151,
   "metadata": {},
   "outputs": [],
   "source": [
    "processed_mess = processed_mess.reset_index(level=0).set_index('sender_name')\n",
    "processed_mess.columns = ['content']"
   ]
  },
  {
   "cell_type": "code",
   "execution_count": 152,
   "metadata": {},
   "outputs": [
    {
     "data": {
      "text/html": [
       "<div>\n",
       "<style scoped>\n",
       "    .dataframe tbody tr th:only-of-type {\n",
       "        vertical-align: middle;\n",
       "    }\n",
       "\n",
       "    .dataframe tbody tr th {\n",
       "        vertical-align: top;\n",
       "    }\n",
       "\n",
       "    .dataframe thead th {\n",
       "        text-align: right;\n",
       "    }\n",
       "</style>\n",
       "<table border=\"1\" class=\"dataframe\">\n",
       "  <thead>\n",
       "    <tr style=\"text-align: right;\">\n",
       "      <th></th>\n",
       "      <th>content</th>\n",
       "    </tr>\n",
       "    <tr>\n",
       "      <th>sender_name</th>\n",
       "      <th></th>\n",
       "    </tr>\n",
       "  </thead>\n",
       "  <tbody>\n",
       "    <tr>\n",
       "      <th>Фирчо Ждраков</th>\n",
       "      <td>иска чете ясно спя рано став айде taka momenta...</td>\n",
       "    </tr>\n",
       "    <tr>\n",
       "      <th>Фирчо Ждраков</th>\n",
       "      <td>бяхм училищ казв 😃</td>\n",
       "    </tr>\n",
       "    <tr>\n",
       "      <th>Фирчо Ждраков</th>\n",
       "      <td>пита адриян мда дайт хаха свет нощт връща изгу...</td>\n",
       "    </tr>\n",
       "    <tr>\n",
       "      <th>Фирчо Ждраков</th>\n",
       "      <td>накъде ходи ади трит лъва еее жалк</td>\n",
       "    </tr>\n",
       "    <tr>\n",
       "      <th>Фирчо Ждраков</th>\n",
       "      <td>тъкм видя ама гледам рабо</td>\n",
       "    </tr>\n",
       "  </tbody>\n",
       "</table>\n",
       "</div>"
      ],
      "text/plain": [
       "                                                         content\n",
       "sender_name                                                     \n",
       "Фирчо Ждраков  иска чете ясно спя рано став айде taka momenta...\n",
       "Фирчо Ждраков                                 бяхм училищ казв 😃\n",
       "Фирчо Ждраков  пита адриян мда дайт хаха свет нощт връща изгу...\n",
       "Фирчо Ждраков                 накъде ходи ади трит лъва еее жалк\n",
       "Фирчо Ждраков                          тъкм видя ама гледам рабо"
      ]
     },
     "execution_count": 152,
     "metadata": {},
     "output_type": "execute_result"
    }
   ],
   "source": [
    "processed_mess.tail()"
   ]
  },
  {
   "cell_type": "markdown",
   "metadata": {},
   "source": [
    "### 7 Modelling"
   ]
  },
  {
   "cell_type": "markdown",
   "metadata": {},
   "source": [
    "We are going to use Scikit's Multinomial Naive Bayes classifier because it is easiest to implement and it's faster than the rest.\n",
    "\n",
    "First we will test how it's doing without my messages because we want to see how accurate the classifier is in general."
   ]
  },
  {
   "cell_type": "code",
   "execution_count": 153,
   "metadata": {},
   "outputs": [],
   "source": [
    "test_data_others = processed_mess[(processed_mess.index != ME)]\n",
    "train_x, test_x, train_y, test_y = model_selection.train_test_split(test_data_others.content, test_data_others.index, test_size=0.30)"
   ]
  },
  {
   "cell_type": "code",
   "execution_count": 154,
   "metadata": {},
   "outputs": [],
   "source": [
    "tf_idf_vectorizor = TfidfVectorizer()\n",
    "tf_idf = tf_idf_vectorizor.fit_transform(test_data_others.content)\n",
    "tf_idf_norm = normalize(tf_idf)\n",
    "train_x_tfidf = tf_idf_vectorizor.transform(train_x)\n",
    "test_x_tfidf = tf_idf_vectorizor.transform(test_x)"
   ]
  },
  {
   "cell_type": "code",
   "execution_count": 155,
   "metadata": {},
   "outputs": [],
   "source": [
    "mnb = MultinomialNB()\n",
    "mnb.fit(train_x_tfidf, train_y)\n",
    "mnb_prediction = mnb.predict(test_x_tfidf)"
   ]
  },
  {
   "cell_type": "code",
   "execution_count": 156,
   "metadata": {},
   "outputs": [
    {
     "data": {
      "text/plain": [
       "0.48773448773448774"
      ]
     },
     "execution_count": 156,
     "metadata": {},
     "output_type": "execute_result"
    }
   ],
   "source": [
    "mnb.score(test_x_tfidf, test_y)"
   ]
  },
  {
   "cell_type": "code",
   "execution_count": 157,
   "metadata": {},
   "outputs": [
    {
     "name": "stdout",
     "output_type": "stream",
     "text": [
      "                             precision    recall  f1-score   support\n",
      "\n",
      "             Божинел Костов       0.67      0.57      0.62       323\n",
      "      Г-жа Стефани Чанлиева       0.98      0.45      0.62       108\n",
      "Г-жа Трендафила Габровлиева       0.83      0.07      0.13       142\n",
      "            Г-ца Герой Муев       0.55      0.84      0.67       425\n",
      "       Г-ца Латин Бърборков       1.00      0.03      0.06       152\n",
      "           Г-ца Натко Пъков       0.39      0.90      0.55       523\n",
      "       Дениандра Пенджакова       0.97      0.18      0.30       179\n",
      "              Др. Ицо Пеева       0.89      0.07      0.14       218\n",
      "    Др. Николина Сланинкова       1.00      0.02      0.04       133\n",
      "           Др. Янедин Бумов       0.70      0.60      0.64       366\n",
      "             Сиена Катърова       0.92      0.06      0.11       186\n",
      "              Фирчо Ждраков       0.37      0.76      0.50       441\n",
      "\n",
      "                  micro avg       0.49      0.53      0.51      3196\n",
      "                  macro avg       0.77      0.38      0.36      3196\n",
      "               weighted avg       0.66      0.53      0.45      3196\n",
      "\n"
     ]
    }
   ],
   "source": [
    "print(classification_report(test_y, mnb_prediction, labels=np.unique(mnb_prediction)))"
   ]
  },
  {
   "cell_type": "markdown",
   "metadata": {},
   "source": [
    "As we can see, our classifier is not great. Maybe we did something wrong, or maybe my best friends are so similar that they can't be distinguished. We will see who is our best match nevertheless."
   ]
  },
  {
   "cell_type": "code",
   "execution_count": 158,
   "metadata": {},
   "outputs": [],
   "source": [
    "# All the data for more accurate results\n",
    "train_x, train_y = test_data_others.content, test_data_others.index"
   ]
  },
  {
   "cell_type": "code",
   "execution_count": 159,
   "metadata": {},
   "outputs": [],
   "source": [
    "train_x_tfidf = tf_idf_vectorizor.transform(train_x)"
   ]
  },
  {
   "cell_type": "code",
   "execution_count": 160,
   "metadata": {},
   "outputs": [
    {
     "data": {
      "text/plain": [
       "MultinomialNB(alpha=1.0, class_prior=None, fit_prior=True)"
      ]
     },
     "execution_count": 160,
     "metadata": {},
     "output_type": "execute_result"
    }
   ],
   "source": [
    "# Training model\n",
    "my_mnb = MultinomialNB()\n",
    "my_mnb.fit(train_x_tfidf, train_y)"
   ]
  },
  {
   "cell_type": "code",
   "execution_count": 161,
   "metadata": {},
   "outputs": [],
   "source": [
    "me_data = processed_mess[processed_mess.index == ME]\n",
    "me_test_x_tfidf = tf_idf_vectorizor.transform(me_data.content)\n",
    "my_prediction = my_mnb.predict(me_test_x_tfidf)"
   ]
  },
  {
   "cell_type": "code",
   "execution_count": 162,
   "metadata": {},
   "outputs": [
    {
     "name": "stdout",
     "output_type": "stream",
     "text": [
      "Match percentages:\n",
      "\n",
      "Г-ца Натко Пъков -> 38.52 %\n",
      "Фирчо Ждраков -> 22.68 %\n",
      "Г-ца Герой Муев -> 21.55 %\n",
      "Др. Янедин Бумов -> 9.72 %\n",
      "Божинел Костов -> 7.02 %\n",
      "Др. Ицо Пеева -> 0.23 %\n",
      "Дениандра Пенджакова -> 0.08 %\n",
      "Сиена Катърова -> 0.07 %\n",
      "Г-жа Трендафила Габровлиева -> 0.06 %\n",
      "Г-ца Латин Бърборков -> 0.05 %\n",
      "Др. Николина Сланинкова -> 0.02 %\n",
      "Г-ца Стеяна Певецова -> 0.01 %\n"
     ]
    }
   ],
   "source": [
    "print(\"Match percentages:\\n\")\n",
    "for pair in sorted(Counter(my_prediction).items(), key=lambda x: -x[1]):\n",
    "    print(f\"{pair[0]} -> {(pair[1]/len(me_data.index)*100):.2f} %\")"
   ]
  },
  {
   "cell_type": "markdown",
   "metadata": {},
   "source": [
    "### Conclusion\n",
    "\n",
    "In my opinion the match-maker works. But to match with a person can have all sorts of different interpretations and for some people the things we explored might not be the best measure. As for usability, this notebook is only an example how chat messages between bilingual people can be processed. A universal analyzer can't take into account the different languages with their specifics so we must proceed on a case by case basis."
   ]
  },
  {
   "cell_type": "markdown",
   "metadata": {},
   "source": [
    "### References\n",
    "\n",
    "List of emoticons - http://datagenetics.com/blog/october52012/index.html\n",
    "\n",
    "English wordlist - https://raw.githubusercontent.com/dwyl/english-words/master/words.txt\n",
    "\n",
    "Bulgarian wordlist - https://raw.githubusercontent.com/hermitdave/FrequencyWords/master/content/2018/bg/bg_full.txt\n",
    "\n",
    "Bulgarian stopwords - https://raw.githubusercontent.com/Alir3z4/stop-words/master/bulgarian.txt\n",
    "\n",
    "BulStem paper - http://lml.bas.bg/~nakov/bulstem/\n",
    "\n",
    "BulStem in python - https://github.com/peio/PyBulStem\n",
    "\n",
    "Data Science course Software University - https://softuni.bg/trainings/2315/data-science-june-2019\n",
    "\n"
   ]
  }
 ],
 "metadata": {
  "kernelspec": {
   "display_name": "Python 3",
   "language": "python",
   "name": "python3"
  },
  "language_info": {
   "codemirror_mode": {
    "name": "ipython",
    "version": 3
   },
   "file_extension": ".py",
   "mimetype": "text/x-python",
   "name": "python",
   "nbconvert_exporter": "python",
   "pygments_lexer": "ipython3",
   "version": "3.7.1"
  }
 },
 "nbformat": 4,
 "nbformat_minor": 2
}
