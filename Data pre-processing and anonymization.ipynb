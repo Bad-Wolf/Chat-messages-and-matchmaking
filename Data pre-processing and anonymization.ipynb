{
 "cells": [
  {
   "cell_type": "markdown",
   "metadata": {},
   "source": [
    "# Data pre-processing and anonymization\n",
    "\n",
    "## <i>or What I've done to the data before sending it to you</i>"
   ]
  },
  {
   "cell_type": "code",
   "execution_count": 1,
   "metadata": {},
   "outputs": [],
   "source": [
    "import json\n",
    "import os\n",
    "import shutil\n",
    "import re\n",
    "\n",
    "from functools import partial\n",
    "from collections import Counter\n",
    "from faker import Faker"
   ]
  },
  {
   "cell_type": "code",
   "execution_count": 2,
   "metadata": {},
   "outputs": [],
   "source": [
    "def get_size_and_files(directory):\n",
    "    size = 0\n",
    "    files_count = 0\n",
    "    for (path, dirs, files) in os.walk(directory):\n",
    "        for file in files:\n",
    "            filename = os.path.join(path, file)\n",
    "            files_count += 1 \n",
    "            size += os.path.getsize(filename)\n",
    "    return size, files_count"
   ]
  },
  {
   "cell_type": "code",
   "execution_count": 3,
   "metadata": {},
   "outputs": [],
   "source": [
    "before = get_size_and_files('messages')"
   ]
  },
  {
   "cell_type": "markdown",
   "metadata": {},
   "source": [
    "We can delete all folders in \"messages\" that are not \"inbox\"."
   ]
  },
  {
   "cell_type": "code",
   "execution_count": 4,
   "metadata": {},
   "outputs": [],
   "source": [
    "for root, dirs, files in os.walk(\"messages\", topdown=True):\n",
    "    for name in dirs:\n",
    "        if not root == 'messages\\inbox' and not name=='inbox':\n",
    "            shutil.rmtree(os.path.join(root, name))"
   ]
  },
  {
   "cell_type": "markdown",
   "metadata": {},
   "source": [
    "Save the filepaths to each message and delete all the folders inside the person's folder(files, pictures, audio, etc.)."
   ]
  },
  {
   "cell_type": "code",
   "execution_count": 5,
   "metadata": {},
   "outputs": [],
   "source": [
    "all_files = []\n",
    "for root, dirs, files in os.walk(\"messages/inbox/\", topdown=True):\n",
    "    for name in files:\n",
    "        if name == 'message_1.json':\n",
    "            all_files.append(os.path.join(root, name))\n",
    "    for name in dirs:\n",
    "        if len(name) < 10:\n",
    "            shutil.rmtree(os.path.join(root, name))"
   ]
  },
  {
   "cell_type": "markdown",
   "metadata": {},
   "source": [
    "Facebook download data is incorrectly encoded so I'm using Martijn Pieters [solution](https://stackoverflow.com/questions/50008296/facebook-json-badly-encoded) of reading as binary, replacing all \\u00hh sequences with the byte the last two hex digits represent, decoding as UTF-8 and then decoding as JSON."
   ]
  },
  {
   "cell_type": "code",
   "execution_count": 6,
   "metadata": {},
   "outputs": [],
   "source": [
    "fix_mojibake_escapes = partial(re.compile(rb'\\\\u00([\\da-f]{2})').sub, lambda m: bytes.fromhex(m.group(1).decode()))"
   ]
  },
  {
   "cell_type": "markdown",
   "metadata": {},
   "source": [
    "I need a guaranteed way of getting my own name out of the data that works for other people as well, so this is the only thing I came up with."
   ]
  },
  {
   "cell_type": "code",
   "execution_count": 7,
   "metadata": {},
   "outputs": [],
   "source": [
    "people = []\n",
    "for file in all_files:\n",
    "    with open(file, 'rb') as f:\n",
    "        repaired = fix_mojibake_escapes(f.read())\n",
    "        data = json.loads(repaired.decode('utf8'), strict=False)\n",
    "        for person in data['participants']:\n",
    "            people.append(person[\"name\"])"
   ]
  },
  {
   "cell_type": "code",
   "execution_count": 8,
   "metadata": {},
   "outputs": [],
   "source": [
    "me = Counter(people).most_common(1)[0][0]"
   ]
  },
  {
   "cell_type": "markdown",
   "metadata": {},
   "source": [
    "I could replace all the names with numbers but this way is more fun and it's closer to the original data."
   ]
  },
  {
   "cell_type": "code",
   "execution_count": 9,
   "metadata": {},
   "outputs": [],
   "source": [
    "# will change to English when publishing, it's just hilarious in BG\n",
    "fake = Faker('bg_BG') \n",
    "\n",
    "fake.seed(42)\n",
    "fake_me = fake.name()"
   ]
  },
  {
   "cell_type": "code",
   "execution_count": 10,
   "metadata": {},
   "outputs": [],
   "source": [
    "fake_names = []\n",
    "for i in range(len(all_files)):\n",
    "    fake_names.append(fake.name())"
   ]
  },
  {
   "cell_type": "markdown",
   "metadata": {},
   "source": [
    "Here comes the nested JSONs part."
   ]
  },
  {
   "cell_type": "code",
   "execution_count": 11,
   "metadata": {},
   "outputs": [],
   "source": [
    "def fake_thy_name(data, first_level, second_level):\n",
    "    for person in data[first_level]:\n",
    "        if person[second_level] == me:\n",
    "            person[second_level] = fake_me\n",
    "        else:\n",
    "            person[second_level] = fake_name"
   ]
  },
  {
   "cell_type": "code",
   "execution_count": 12,
   "metadata": {},
   "outputs": [],
   "source": [
    "def try_except(first_level, first_level_inside, second_level_inside=None, to_redact=None ):\n",
    "    try:\n",
    "        first_level[first_level_inside]\n",
    "        if second_level_inside:\n",
    "            # Yo dawg, I heard you like levels\n",
    "            # so I put levels inside your levels\n",
    "            fake_thy_name(data=first_level, first_level=first_level_inside, second_level=second_level_inside)\n",
    "        \n",
    "        # For parts which contain names but are not names themselves\n",
    "        if to_redact:\n",
    "            first_level[to_redact] = 'REDACTED'\n",
    "    except:\n",
    "        pass"
   ]
  },
  {
   "cell_type": "code",
   "execution_count": 13,
   "metadata": {
    "scrolled": true
   },
   "outputs": [],
   "source": [
    "for file in all_files:\n",
    "    \n",
    "    fake_name = fake_names[all_files.index(file)]\n",
    "    \n",
    "    # Read in binary to fix mojibakes\n",
    "    with open(file, 'rb') as f:\n",
    "        repaired = fix_mojibake_escapes(f.read())\n",
    "        data = json.loads(repaired.decode('utf8'), strict=False)        \n",
    "        directory = file.replace('\\\\message_1.json', '')\n",
    "        \n",
    "        # No group chats!\n",
    "        if len(data['participants']) == 2:\n",
    "            \n",
    "            # How can you not love nested JSONs\n",
    "            fake_thy_name(data=data, first_level='participants', second_level=\"name\")\n",
    "            fake_thy_name(data=data, first_level='messages', second_level=\"sender_name\")\n",
    "            \n",
    "            # Need to try-except each time for NaN values\n",
    "            for message in data['messages']:\n",
    "                try_except(message, 'reactions', 'actor')\n",
    "                try_except(message, 'users', 'name', to_redact='content')\n",
    "                try_except(message, 'audio_files', to_redact='audio_files')\n",
    "                try_except(message, 'photos', to_redact='photos')\n",
    "                try_except(message, 'gifs', to_redact='gifs')\n",
    "                try_except(message, 'videos', to_redact='videos')\n",
    "                try_except(message, 'files', to_redact='files')\n",
    "                try_except(message, 'call_duration', to_redact='content')\n",
    "                try_except(message, 'missed', to_redact='content')\n",
    "            \n",
    "            # Removing old file and creating new\n",
    "            f.close() \n",
    "            os.remove(file)\n",
    "            with open(file, 'w', encoding='utf8') as f_new:\n",
    "                json.dump(data, f_new, ensure_ascii=False)\n",
    "            \n",
    "            # Renaming directory with fake name\n",
    "            if os.path.isdir(directory):\n",
    "                fake_directory = f\"messages/inbox/{'_'.join(fake_name.split())}\" \n",
    "                os.rename(directory, fake_directory)\n",
    "                \n",
    "        # Deletes entire folder with group chats    \n",
    "        else:\n",
    "            f.close()\n",
    "            shutil.rmtree(directory)\n"
   ]
  },
  {
   "cell_type": "code",
   "execution_count": 14,
   "metadata": {},
   "outputs": [],
   "source": [
    "after = get_size_and_files('messages')"
   ]
  },
  {
   "cell_type": "code",
   "execution_count": 15,
   "metadata": {},
   "outputs": [
    {
     "name": "stdout",
     "output_type": "stream",
     "text": [
      "Before processing:\n",
      "  Size: 4553.41 MB \n",
      "  Number of files: 19598\n",
      "\n",
      "After processing:\n",
      "  Size: 101.84 MB \n",
      "  Number of files: 643\n"
     ]
    }
   ],
   "source": [
    "print(\"Before processing:\")\n",
    "print(f\"  Size: {before[0]/ (1024*1024):.2f} MB \")\n",
    "print(f\"  Number of files: {before[1]}\")\n",
    "print()\n",
    "print(\"After processing:\")\n",
    "print(f\"  Size: {after[0]/ (1024*1024):.2f} MB \")\n",
    "print(f\"  Number of files: {after[1]}\")"
   ]
  }
 ],
 "metadata": {
  "kernelspec": {
   "display_name": "Python 3",
   "language": "python",
   "name": "python3"
  },
  "language_info": {
   "codemirror_mode": {
    "name": "ipython",
    "version": 3
   },
   "file_extension": ".py",
   "mimetype": "text/x-python",
   "name": "python",
   "nbconvert_exporter": "python",
   "pygments_lexer": "ipython3",
   "version": "3.7.1"
  }
 },
 "nbformat": 4,
 "nbformat_minor": 2
}
